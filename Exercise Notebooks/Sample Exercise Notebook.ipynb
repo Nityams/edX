{
 "cells": [
  {
   "cell_type": "markdown",
   "metadata": {
    "nbgrader": {
     "grade": false,
     "grade_id": "1",
     "locked": true,
     "schema_version": 1,
     "solution": false
    }
   },
   "source": [
    "# Steps of Creating  NBGrader Notebook:\n",
    "\n",
    "To install nbgrader: \n",
    "http://nbgrader.readthedocs.io/en/stable/user_guide/installation.html\n",
    "\n",
    "1. Have some code for them to use and tag as read only.\n",
    "2. Create a cell where they write code (e.g., write a function).\n",
    "3. Have a read only cell which calls tests (written in a separate .py file) on what they were asked to write."
   ]
  },
  {
   "cell_type": "markdown",
   "metadata": {
    "nbgrader": {
     "grade": false,
     "grade_id": "2",
     "locked": true,
     "schema_version": 1,
     "solution": false
    }
   },
   "source": [
    "# Setup Notebook\n",
    "\n",
    "Import appropriate libraries.  Can import the Tester, but it's better to import at the point of testing."
   ]
  },
  {
   "cell_type": "code",
   "execution_count": 1,
   "metadata": {
    "collapsed": true,
    "nbgrader": {
     "grade": false,
     "grade_id": "3",
     "locked": true,
     "schema_version": 1,
     "solution": false
    }
   },
   "outputs": [],
   "source": [
    "# import appropriate libraries\n",
    "import numpy \n",
    "import math\n",
    "# import etc.....\n",
    "import Tester"
   ]
  },
  {
   "cell_type": "markdown",
   "metadata": {
    "nbgrader": {
     "grade": false,
     "grade_id": "4",
     "locked": true,
     "schema_version": 1,
     "solution": false
    }
   },
   "source": [
    "# Exercise 1\n",
    "\n",
    "Tell them what is expected of them.  Here, we'll ask them to create a function find max.....\n",
    "\n",
    "In the cell below, we tell them to modify the cell and possibly give them some starter/helper code."
   ]
  },
  {
   "cell_type": "code",
   "execution_count": 1,
   "metadata": {
    "collapsed": true
   },
   "outputs": [],
   "source": [
    "# modify this cell\n",
    "\n",
    "def findMax(someList):\n",
    "    # input, some array of numbers.\n",
    "    return max(someList)\n",
    "    # num is the max of somelist\n",
    "    "
   ]
  },
  {
   "cell_type": "code",
   "execution_count": 7,
   "metadata": {
    "collapsed": true,
    "nbgrader": {
     "grade": true,
     "grade_id": "ex1",
     "locked": true,
     "points": 1,
     "schema_version": 1,
     "solution": false
    }
   },
   "outputs": [],
   "source": [
    "# notice this cell is marked as \"Autograder tests\" and is labelled with an ID (here just ex1, but this is arbitrary for us)\n",
    "# we can also give points based on the cell completing.  If the code executes without an exception, they are given points.\n",
    "# so our test cases will throw exceptions if they make errors (and, preferably, give them feedback why.)\n",
    "import Tester\n",
    "Tester.ex1(findMax)"
   ]
  },
  {
   "cell_type": "markdown",
   "metadata": {
    "nbgrader": {
     "grade": false,
     "grade_id": "5",
     "locked": true,
     "schema_version": 1,
     "solution": false
    }
   },
   "source": [
    "Once the notebook is all done, we want to be able to build a notebook the learners can use. This new notebook will just have the read only pieces embedded in the markup.  When you get to that point, here's how to create the notebook for release.\n",
    "\n",
    "Commands to run to build the notebook for learners:\n",
    "1.  create a folder in \"source\" called \"assignment_name\"\n",
    "2.  place the notebook and required files in the \"assignment_name\" folder\n",
    "3.  nbgrader db assignment add \"assignment_name\"\n",
    "4.  nbgrader assign \"assignment_name\"\n",
    "5.  Look in the release folder for the student files."
   ]
  }
 ],
 "metadata": {
  "celltoolbar": "Create Assignment",
  "kernelspec": {
   "display_name": "Python 3",
   "language": "python",
   "name": "python3"
  },
  "language_info": {
   "codemirror_mode": {
    "name": "ipython",
    "version": 3
   },
   "file_extension": ".py",
   "mimetype": "text/x-python",
   "name": "python",
   "nbconvert_exporter": "python",
   "pygments_lexer": "ipython3",
   "version": "3.5.2"
  }
 },
 "nbformat": 4,
 "nbformat_minor": 2
}
