{
 "cells": [
  {
   "cell_type": "markdown",
   "metadata": {
    "deletable": false,
    "editable": false,
    "nbgrader": {
     "checksum": "614a8645d5bfc39756b4681d7244de2c",
     "grade": false,
     "grade_id": "1",
     "locked": true,
     "schema_version": 1,
     "solution": false
    }
   },
   "source": [
    "<p style=\"font-family: Arial; font-size:3.75em;color:purple; font-style:bold\"><br>\n",
    "numpy Exercise Notebook:\n",
    "</p><br>"
   ]
  },
  {
   "cell_type": "markdown",
   "metadata": {
    "deletable": false,
    "editable": false,
    "nbgrader": {
     "checksum": "3bc8a1f22949f81df5c485403fda9896",
     "grade": false,
     "grade_id": "c2",
     "locked": true,
     "schema_version": 1,
     "solution": false
    }
   },
   "source": [
    "# Setup Notebook\n",
    "\n",
    "Import appropriate libraries.  Can import the Tester, but it's better to import at the point of testing."
   ]
  },
  {
   "cell_type": "code",
   "execution_count": null,
   "metadata": {
    "collapsed": true,
    "deletable": false,
    "editable": false,
    "nbgrader": {
     "checksum": "1246bf4b4b3600c5eef454de788212e5",
     "grade": false,
     "grade_id": "c3",
     "locked": true,
     "schema_version": 1,
     "solution": false
    }
   },
   "outputs": [],
   "source": [
    "# import appropriate libraries\n",
    "import numpy as np"
   ]
  },
  {
   "cell_type": "code",
   "execution_count": null,
   "metadata": {
    "collapsed": true,
    "deletable": false,
    "editable": false,
    "nbgrader": {
     "checksum": "a4815ff9fe16b241e0e31270f26179a6",
     "grade": false,
     "grade_id": "c2c",
     "locked": true,
     "schema_version": 1,
     "solution": false
    }
   },
   "outputs": [],
   "source": [
    "# we will use this dummy matrix for some portions of this exercise. do not modify this.\n",
    "\n",
    "def get_matrix():\n",
    "    return np.array(\n",
    "      [[ 0.35066314,  0.94844269,  0.69324339,  0.32790416],\n",
    "       [ 0.7935923 ,  0.9212632 ,  0.13607887,  0.56358399],\n",
    "       [ 0.25597054,  0.74834666,  0.81322464,  0.11280075],\n",
    "       [ 0.53822742,  0.63970183,  0.1439784 ,  0.58045905]])\n",
    "\n",
    "mat = get_matrix()"
   ]
  },
  {
   "cell_type": "markdown",
   "metadata": {
    "deletable": false,
    "editable": false,
    "nbgrader": {
     "checksum": "c02d5127c412a2932b3a2b88e669f23d",
     "grade": false,
     "grade_id": "c445c",
     "locked": true,
     "schema_version": 1,
     "solution": false
    }
   },
   "source": [
    "<p style=\"font-family: Arial; font-size:2.75em;color:purple; font-style:bold\"><br>\n",
    "\n",
    "Exercise 1: Create a slice<br><br></p>\n",
    "\n",
    "\n",
    "In the cell below, modify the function to RETURN elements occurting in first two rows and 2nd-3rd columns"
   ]
  },
  {
   "cell_type": "code",
   "execution_count": null,
   "metadata": {
    "collapsed": true,
    "deletable": false,
    "nbgrader": {
     "checksum": "a6fb1b1483bc546703c3a350c398acb0",
     "grade": false,
     "grade_id": "c555",
     "locked": false,
     "schema_version": 1,
     "solution": true
    }
   },
   "outputs": [],
   "source": [
    "# modify this cell\n",
    "\n",
    "def find_slice(matx):\n",
    "    # YOUR CODE HERE\n",
    "    raise NotImplementedError()"
   ]
  },
  {
   "cell_type": "code",
   "execution_count": null,
   "metadata": {
    "collapsed": true,
    "deletable": false,
    "editable": false,
    "nbgrader": {
     "checksum": "9377df501137c346fa831f6a9e5e53b0",
     "grade": true,
     "grade_id": "ex15",
     "locked": true,
     "points": 1,
     "schema_version": 1,
     "solution": false
    }
   },
   "outputs": [],
   "source": [
    "ans = [[ 0.94844269,  0.69324339],[ 0.9212632 ,  0.13607887]]\n",
    "\n",
    "try: assert np.alltrue(find_slice(mat) == np.array(ans))\n",
    "except AssertionError as e: print(\"Try again\")"
   ]
  },
  {
   "cell_type": "markdown",
   "metadata": {
    "deletable": false,
    "editable": false,
    "nbgrader": {
     "checksum": "9e41c47d52e90e20420a423780309d4e",
     "grade": false,
     "grade_id": "cc445",
     "locked": true,
     "schema_version": 1,
     "solution": false
    }
   },
   "source": [
    "<p style=\"font-family: Arial; font-size:2.75em;color:purple; font-style:bold\"><br>\n",
    "\n",
    "Exercise 2: Update portion of numpy array<br><br></p>\n",
    "\n",
    "\n",
    "In the cell below, modify the function to perform inplace addition of 1000 to every element of slice you just created \n",
    "and RETURN the changed version"
   ]
  },
  {
   "cell_type": "code",
   "execution_count": null,
   "metadata": {
    "collapsed": true,
    "deletable": false,
    "nbgrader": {
     "checksum": "84206650be53a0cc42e321cc82085f9c",
     "grade": false,
     "grade_id": "5551",
     "locked": false,
     "schema_version": 1,
     "solution": true
    }
   },
   "outputs": [],
   "source": [
    "# modify this cell\n",
    "\n",
    "def update_slice(matx):\n",
    "    # YOUR CODE HERE\n",
    "    raise NotImplementedError()"
   ]
  },
  {
   "cell_type": "code",
   "execution_count": null,
   "metadata": {
    "collapsed": true,
    "deletable": false,
    "editable": false,
    "nbgrader": {
     "checksum": "a6958ba9611447512ee7d7d2a9715a87",
     "grade": true,
     "grade_id": "ex151",
     "locked": true,
     "points": 1,
     "schema_version": 1,
     "solution": false
    }
   },
   "outputs": [],
   "source": [
    "ans = [[ 1000.94844269,  1000.69324339],[ 1000.9212632 ,  1000.13607887]]\n",
    "\n",
    "try: \n",
    "    mat=get_matrix()\n",
    "    update_slice(mat)\n",
    "    assert np.alltrue(find_slice(mat) == np.array(ans))\n",
    "except AssertionError as e: print(\"Try again: check both update_slice and find_slide functions\")"
   ]
  },
  {
   "cell_type": "markdown",
   "metadata": {
    "deletable": false,
    "editable": false,
    "nbgrader": {
     "checksum": "e091df481c124d664415461177ad1375",
     "grade": false,
     "grade_id": "cccc445",
     "locked": true,
     "schema_version": 1,
     "solution": false
    }
   },
   "source": [
    "<p style=\"font-family: Arial; font-size:2.75em;color:purple; font-style:bold\"><br>\n",
    "\n",
    "Exercise 3: Boolean Indexing<br><br></p>\n",
    "\n",
    "In the cell below, modify the function to RETURN elements of matrix that are < 1.5"
   ]
  },
  {
   "cell_type": "code",
   "execution_count": null,
   "metadata": {
    "collapsed": true,
    "deletable": false,
    "nbgrader": {
     "checksum": "d6d7ff61a8a2249ba17017fccc6a2e5f",
     "grade": false,
     "grade_id": "c5552",
     "locked": false,
     "schema_version": 1,
     "solution": true
    }
   },
   "outputs": [],
   "source": [
    "# modify this cell\n",
    "\n",
    "def boolean_filter(matx):\n",
    "    # YOUR CODE HERE\n",
    "    raise NotImplementedError()"
   ]
  },
  {
   "cell_type": "code",
   "execution_count": null,
   "metadata": {
    "collapsed": true,
    "deletable": false,
    "editable": false,
    "nbgrader": {
     "checksum": "46f17592ec8c7da285e4f200e8e26342",
     "grade": true,
     "grade_id": "ex152",
     "locked": true,
     "points": 1,
     "schema_version": 1,
     "solution": false
    }
   },
   "outputs": [],
   "source": [
    "ans = [ 0.35066314,  0.32790416,  0.7935923 ,  0.56358399,  0.25597054,\n",
    "        0.74834666,  0.81322464,  0.11280075,  0.53822742,  0.63970183,\n",
    "        0.1439784 ,  0.58045905]\n",
    "\n",
    "try: assert np.alltrue(boolean_filter(mat) == np.array(ans))\n",
    "except AssertionError as e: print(\"Try again\")"
   ]
  },
  {
   "cell_type": "markdown",
   "metadata": {
    "deletable": false,
    "editable": false,
    "nbgrader": {
     "checksum": "24f046e9b99e0a09effff71e2a93fb8d",
     "grade": false,
     "grade_id": "cv445",
     "locked": true,
     "schema_version": 1,
     "solution": false
    }
   },
   "source": [
    "<p style=\"font-family: Arial; font-size:2.75em;color:purple; font-style:bold\"><br>\n",
    "\n",
    "Exercise 4: Convert to integer data type<br><br></p>\n",
    "\n",
    "In the cell below, modify the function to convert each element of entered matrix to np.int data type\n",
    "AND return a new matrix with converted data type (i.e. full of integers)"
   ]
  },
  {
   "cell_type": "code",
   "execution_count": null,
   "metadata": {
    "collapsed": true,
    "deletable": false,
    "nbgrader": {
     "checksum": "ac7f792064621b155ef5d22f502cbfa2",
     "grade": false,
     "grade_id": "c5553",
     "locked": false,
     "schema_version": 1,
     "solution": true
    }
   },
   "outputs": [],
   "source": [
    "# modify this cell\n",
    "\n",
    "def int_converter(matx):\n",
    "    # YOUR CODE HERE\n",
    "    raise NotImplementedError()"
   ]
  },
  {
   "cell_type": "code",
   "execution_count": null,
   "metadata": {
    "collapsed": true,
    "deletable": false,
    "editable": false,
    "nbgrader": {
     "checksum": "6e19f3cce416f7dc600c288e83fd6371",
     "grade": true,
     "grade_id": "ex153",
     "locked": true,
     "points": 1,
     "schema_version": 1,
     "solution": false
    }
   },
   "outputs": [],
   "source": [
    "ans = [[   0, 1000, 1000,    0],\n",
    "       [   0, 1000, 1000,    0],\n",
    "       [   0,    0,    0,    0],\n",
    "       [   0,    0,    0,    0]]\n",
    "\n",
    "try: assert np.alltrue(int_converter(mat) == np.array(ans))\n",
    "except AssertionError as e: print(\"Try again\")"
   ]
  },
  {
   "cell_type": "markdown",
   "metadata": {
    "deletable": false,
    "editable": false,
    "nbgrader": {
     "checksum": "e7fee3f7fe06ea52cff21b10bb2ada0a",
     "grade": false,
     "grade_id": "sd445",
     "locked": true,
     "schema_version": 1,
     "solution": false
    }
   },
   "source": [
    "<p style=\"font-family: Arial; font-size:2.75em;color:purple; font-style:bold\"><br>\n",
    "\n",
    "Exercise 5: Advanced Filtering<br><br></p>\n",
    "\n",
    "In the cell below, modify the function to perform inplace update of input matrix such that\n",
    "each element that is even is replaced with number 55. <br> Note that the function does not return anything but changes the matri inplace."
   ]
  },
  {
   "cell_type": "code",
   "execution_count": null,
   "metadata": {
    "collapsed": true,
    "deletable": false,
    "nbgrader": {
     "checksum": "824b5ceb379605b5e30eeb7b792c38ea",
     "grade": false,
     "grade_id": "c5554",
     "locked": false,
     "schema_version": 1,
     "solution": true
    }
   },
   "outputs": [],
   "source": [
    "# modify this cell\n",
    "\n",
    "def selective_replace(matx):\n",
    "    # YOUR CODE HERE\n",
    "    raise NotImplementedError()"
   ]
  },
  {
   "cell_type": "code",
   "execution_count": null,
   "metadata": {
    "collapsed": true,
    "deletable": false,
    "editable": false,
    "nbgrader": {
     "checksum": "dda5ceec1c9c284982504bf565fbb366",
     "grade": true,
     "grade_id": "ex154",
     "locked": true,
     "points": 1,
     "schema_version": 1,
     "solution": false
    }
   },
   "outputs": [],
   "source": [
    "test = np.array([[ 22,  3.69324339],[ 10.9212632 ,  34]])\n",
    "resp = np.array([[ 55., 3.69324339],[ 10.9212632,   55.]])\n",
    "\n",
    "try: \n",
    "    selective_replace(test)\n",
    "    assert np.alltrue(test == resp)\n",
    "except AssertionError as e: print(\"Try again\")"
   ]
  },
  {
   "cell_type": "markdown",
   "metadata": {
    "deletable": false,
    "editable": false,
    "nbgrader": {
     "checksum": "c06f8f622eb664169d7d893d12b28a1c",
     "grade": false,
     "grade_id": "c445yy",
     "locked": true,
     "schema_version": 1,
     "solution": false
    }
   },
   "source": [
    "<p style=\"font-family: Arial; font-size:2.75em;color:purple; font-style:bold\"><br>\n",
    "\n",
    "Exercise 6: Create a slice<br><br></p>\n",
    "\n",
    "\n",
    "In the cell below, modify the function to take the input matrix and RETURN mean of each row.\n",
    "For example: if input matrix is 4rowsx2columns, it should return a 4 element array containing means of each row"
   ]
  },
  {
   "cell_type": "code",
   "execution_count": null,
   "metadata": {
    "collapsed": true,
    "deletable": false,
    "nbgrader": {
     "checksum": "27c77342cd08c253d14ae6cdf88a3e60",
     "grade": false,
     "grade_id": "c5555",
     "locked": false,
     "schema_version": 1,
     "solution": true
    }
   },
   "outputs": [],
   "source": [
    "# modify this cell\n",
    "\n",
    "def row_means(matx):\n",
    "    # YOUR CODE HERE\n",
    "    raise NotImplementedError()"
   ]
  },
  {
   "cell_type": "code",
   "execution_count": null,
   "metadata": {
    "collapsed": true,
    "deletable": false,
    "editable": false,
    "nbgrader": {
     "checksum": "481c59d2b38b50a637257b502b588fac",
     "grade": true,
     "grade_id": "ex155",
     "locked": true,
     "points": 1,
     "schema_version": 1,
     "solution": false
    }
   },
   "outputs": [],
   "source": [
    "test = np.array([[ 22.33,  4.53, 10.64],[ 10.23 ,  34.56, 100.97]])\n",
    "ans  = np.array([ 12.5, 48.58666667])\n",
    "\n",
    "try: \n",
    "    assert np.allclose(row_means(test) , ans)\n",
    "except AssertionError as e: print(\"Try again\")"
   ]
  },
  {
   "cell_type": "markdown",
   "metadata": {
    "deletable": false,
    "editable": false,
    "nbgrader": {
     "checksum": "4bed56d4d0f485b4c6009b4c0685b31c",
     "grade": false,
     "grade_id": "chh445",
     "locked": true,
     "schema_version": 1,
     "solution": false
    }
   },
   "source": [
    "<p style=\"font-family: Arial; font-size:2.75em;color:purple; font-style:bold\"><br>\n",
    "\n",
    "Exercise 7: Detect unique members of input matrix\n",
    "<br><br></p>\n",
    "\n",
    "\n",
    "In the cell below, modify the function to RETURN unique elements of numpy array sent as input"
   ]
  },
  {
   "cell_type": "code",
   "execution_count": null,
   "metadata": {
    "collapsed": true,
    "deletable": false,
    "nbgrader": {
     "checksum": "154c390c2593619ce3c883532dc78fea",
     "grade": false,
     "grade_id": "c5556",
     "locked": false,
     "schema_version": 1,
     "solution": true
    }
   },
   "outputs": [],
   "source": [
    "# modify this cell\n",
    "\n",
    "def unique_finder(matx):\n",
    "    # YOUR CODE HERE\n",
    "    raise NotImplementedError()"
   ]
  },
  {
   "cell_type": "code",
   "execution_count": null,
   "metadata": {
    "collapsed": true,
    "deletable": false,
    "editable": false,
    "nbgrader": {
     "checksum": "012ea9942f37135bf314d6e7e76d1682",
     "grade": true,
     "grade_id": "ex156",
     "locked": true,
     "points": 1,
     "schema_version": 1,
     "solution": false
    }
   },
   "outputs": [],
   "source": [
    "test = np.array([[ 22.33,  4.53, 10.64],[ 10.64 ,  4.53, 100.97]])\n",
    "ans  = np.array([   4.53,   10.64,   22.33,  100.97])\n",
    "\n",
    "try: assert np.allclose(unique_finder(test) , ans)\n",
    "except AssertionError as e: print(\"Try again\")"
   ]
  },
  {
   "cell_type": "markdown",
   "metadata": {
    "deletable": false,
    "editable": false,
    "nbgrader": {
     "checksum": "badbce3e39a6076eb963163ed4a9cb0d",
     "grade": false,
     "grade_id": "c445",
     "locked": true,
     "schema_version": 1,
     "solution": false
    }
   },
   "source": [
    "<p style=\"font-family: Arial; font-size:2.75em;color:purple; font-style:bold\"><br>\n",
    "\n",
    "Exercise 8: Broadcasting - <br><br>add first row to every row of the input matrix<br><br></p>\n",
    "\n",
    "\n",
    "In the cell below, modify the function to RETURN a new matrix by taking first row\n",
    "of the input matrix and adding it to every row of entered matrix"
   ]
  },
  {
   "cell_type": "code",
   "execution_count": null,
   "metadata": {
    "collapsed": true,
    "deletable": false,
    "nbgrader": {
     "checksum": "c12e4e22dd790b8d5f9f4506adabd92b",
     "grade": false,
     "grade_id": "c5557",
     "locked": false,
     "schema_version": 1,
     "solution": true
    }
   },
   "outputs": [],
   "source": [
    "# modify this cell\n",
    "\n",
    "def first_row_adder(matx):\n",
    "    # YOUR CODE HERE\n",
    "    raise NotImplementedError()"
   ]
  },
  {
   "cell_type": "code",
   "execution_count": null,
   "metadata": {
    "collapsed": true,
    "deletable": false,
    "editable": false,
    "nbgrader": {
     "checksum": "9265adb6bd263e163cb9517903713f5c",
     "grade": true,
     "grade_id": "ex157",
     "locked": true,
     "points": 1,
     "schema_version": 1,
     "solution": false
    }
   },
   "outputs": [],
   "source": [
    "test = np.array([[ 22.33,  4.53, 10.64],[ 10.64 ,  4.53, 100.97]])\n",
    "ans = [[  44.66,    9.06,   21.28], [  32.97,    9.06,  111.61]]\n",
    "\n",
    "try: assert np.allclose(first_row_adder(test), np.array(ans))\n",
    "except AssertionError as e: print(\"Try again\")"
   ]
  },
  {
   "cell_type": "code",
   "execution_count": null,
   "metadata": {
    "collapsed": true
   },
   "outputs": [],
   "source": []
  }
 ],
 "metadata": {
  "kernelspec": {
   "display_name": "Python 3",
   "language": "python",
   "name": "python3"
  },
  "language_info": {
   "codemirror_mode": {
    "name": "ipython",
    "version": 3
   },
   "file_extension": ".py",
   "mimetype": "text/x-python",
   "name": "python",
   "nbconvert_exporter": "python",
   "pygments_lexer": "ipython3",
   "version": "3.6.0"
  }
 },
 "nbformat": 4,
 "nbformat_minor": 2
}
