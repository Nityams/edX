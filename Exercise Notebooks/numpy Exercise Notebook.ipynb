{
 "cells": [
  {
   "cell_type": "markdown",
   "metadata": {
    "nbgrader": {
     "grade": false,
     "grade_id": "1",
     "locked": true,
     "schema_version": 1,
     "solution": false
    }
   },
   "source": [
    "# numpy Exercise Notebook:"
   ]
  },
  {
   "cell_type": "code",
   "execution_count": 2,
   "metadata": {
    "collapsed": true,
    "nbgrader": {
     "grade": false,
     "grade_id": "3",
     "locked": true,
     "schema_version": 1,
     "solution": false
    }
   },
   "outputs": [],
   "source": [
    "# import appropriate libraries\n",
    "import numpy as np\n",
    "import math\n",
    "# import etc.....\n",
    "import Tester"
   ]
  },
  {
   "cell_type": "markdown",
   "metadata": {
    "nbgrader": {
     "grade": false,
     "grade_id": "2",
     "locked": true,
     "schema_version": 1,
     "solution": false
    }
   },
   "source": [
    "# Setup Notebook\n",
    "\n",
    "Import appropriate libraries.  Can import the Tester, but it's better to import at the point of testing."
   ]
  },
  {
   "cell_type": "code",
   "execution_count": 37,
   "metadata": {},
   "outputs": [
    {
     "data": {
      "text/plain": [
       "array([[ 0.35066314,  0.94844269,  0.69324339,  0.32790416],\n",
       "       [ 0.7935923 ,  0.9212632 ,  0.13607887,  0.56358399],\n",
       "       [ 0.25597054,  0.74834666,  0.81322464,  0.11280075],\n",
       "       [ 0.53822742,  0.63970183,  0.1439784 ,  0.58045905]])"
      ]
     },
     "execution_count": 37,
     "metadata": {},
     "output_type": "execute_result"
    }
   ],
   "source": [
    "mat = np.array(\n",
    "      [[ 0.35066314,  0.94844269,  0.69324339,  0.32790416],\n",
    "       [ 0.7935923 ,  0.9212632 ,  0.13607887,  0.56358399],\n",
    "       [ 0.25597054,  0.74834666,  0.81322464,  0.11280075],\n",
    "       [ 0.53822742,  0.63970183,  0.1439784 ,  0.58045905]])\n",
    "mat"
   ]
  },
  {
   "cell_type": "code",
   "execution_count": 38,
   "metadata": {},
   "outputs": [
    {
     "data": {
      "text/plain": [
       "array([[ 0.35066314,  0.94844269,  0.69324339,  0.32790416],\n",
       "       [ 0.7935923 ,  0.9212632 ,  0.13607887,  0.56358399],\n",
       "       [ 0.25597054,  0.74834666,  0.81322464,  0.11280075],\n",
       "       [ 0.53822742,  0.63970183,  0.1439784 ,  0.58045905]])"
      ]
     },
     "execution_count": 38,
     "metadata": {},
     "output_type": "execute_result"
    }
   ],
   "source": [
    "# create a slice array[:2,1:3]\n",
    "mat"
   ]
  },
  {
   "cell_type": "markdown",
   "metadata": {
    "nbgrader": {
     "grade": false,
     "grade_id": "445",
     "locked": true,
     "schema_version": 1,
     "solution": false
    }
   },
   "source": [
    "# Exercise 1: Create a slice\n",
    "\n",
    "In the cell below, modify the function to return elements occurting in first two rows and 2nd-3rd columns"
   ]
  },
  {
   "cell_type": "code",
   "execution_count": 73,
   "metadata": {
    "collapsed": true,
    "nbgrader": {
     "grade": false,
     "grade_id": "555",
     "locked": false,
     "schema_version": 1,
     "solution": true
    }
   },
   "outputs": [],
   "source": [
    "# modify this cell\n",
    "\n",
    "def find_slice(matx):\n",
    "    ### BEGIN SOLUTION\n",
    "    return matx[:2, 1:3]\n",
    "    ### END SOLUTION"
   ]
  },
  {
   "cell_type": "code",
   "execution_count": 75,
   "metadata": {
    "nbgrader": {
     "grade": true,
     "grade_id": "ex15",
     "locked": true,
     "points": 1,
     "schema_version": 1,
     "solution": false
    }
   },
   "outputs": [],
   "source": [
    "ans = [[ 0.94844269,  0.69324339],[ 0.9212632 ,  0.13607887]]\n",
    "\n",
    "try: assert np.alltrue(find_slice(mat) == np.array(ans))\n",
    "except AssertionError as e:\n",
    "    print(\"Try again\")"
   ]
  },
  {
   "cell_type": "code",
   "execution_count": 11,
   "metadata": {
    "collapsed": true
   },
   "outputs": [],
   "source": [
    "# update array element\n",
    "mat[:2, 1:3] += 1000"
   ]
  },
  {
   "cell_type": "code",
   "execution_count": 14,
   "metadata": {},
   "outputs": [
    {
     "data": {
      "text/plain": [
       "array([ 0.35066314,  0.32790416,  0.7935923 ,  0.56358399,  0.25597054,\n",
       "        0.74834666,  0.81322464,  0.11280075,  0.53822742,  0.63970183,\n",
       "        0.1439784 ,  0.58045905])"
      ]
     },
     "execution_count": 14,
     "metadata": {},
     "output_type": "execute_result"
    }
   ],
   "source": [
    "# boolean indexing\n",
    "mat[mat<1.5]"
   ]
  },
  {
   "cell_type": "code",
   "execution_count": 23,
   "metadata": {},
   "outputs": [
    {
     "data": {
      "text/plain": [
       "array([[   0, 1000, 1000,    0],\n",
       "       [   0, 1000, 1000,    0],\n",
       "       [   0,    0,    0,    0],\n",
       "       [   0,    0,    0,    0]])"
      ]
     },
     "execution_count": 23,
     "metadata": {},
     "output_type": "execute_result"
    }
   ],
   "source": [
    "mat = np.array(mat, dtype=np.int)\n",
    "mat"
   ]
  },
  {
   "cell_type": "code",
   "execution_count": 20,
   "metadata": {
    "collapsed": true
   },
   "outputs": [],
   "source": [
    "mat[mat % 2 == 0] = 55"
   ]
  },
  {
   "cell_type": "code",
   "execution_count": 24,
   "metadata": {},
   "outputs": [
    {
     "data": {
      "text/plain": [
       "array([ 500.,  500.,    0.,    0.])"
      ]
     },
     "execution_count": 24,
     "metadata": {},
     "output_type": "execute_result"
    }
   ],
   "source": [
    "# means by row\n",
    "mat.mean(axis = 1)"
   ]
  },
  {
   "cell_type": "code",
   "execution_count": 25,
   "metadata": {},
   "outputs": [
    {
     "data": {
      "text/plain": [
       "array([   0, 1000])"
      ]
     },
     "execution_count": 25,
     "metadata": {},
     "output_type": "execute_result"
    }
   ],
   "source": [
    "np.unique(mat)"
   ]
  },
  {
   "cell_type": "code",
   "execution_count": 27,
   "metadata": {},
   "outputs": [
    {
     "data": {
      "text/plain": [
       "array([   0, 1000, 1000,    0])"
      ]
     },
     "execution_count": 27,
     "metadata": {},
     "output_type": "execute_result"
    }
   ],
   "source": [
    "# broadcasting\n",
    "# take first row and add to each row\n",
    "first = mat[0,:]\n",
    "first"
   ]
  },
  {
   "cell_type": "code",
   "execution_count": 32,
   "metadata": {},
   "outputs": [
    {
     "data": {
      "text/plain": [
       "array([[   0, 2000, 2000,    0],\n",
       "       [   0, 2000, 2000,    0],\n",
       "       [   0, 1000, 1000,    0],\n",
       "       [   0, 1000, 1000,    0]])"
      ]
     },
     "execution_count": 32,
     "metadata": {},
     "output_type": "execute_result"
    }
   ],
   "source": [
    "mat + mat[0,:]"
   ]
  },
  {
   "cell_type": "markdown",
   "metadata": {
    "nbgrader": {
     "grade": false,
     "grade_id": "4",
     "locked": true,
     "schema_version": 1,
     "solution": false
    }
   },
   "source": [
    "# Exercise 1\n",
    "\n",
    "Tell them what is expected of them.  Here, we'll ask them to create a function find max.....\n",
    "\n",
    "In the cell below, we tell them to modify the cell and possibly give them some starter/helper code."
   ]
  },
  {
   "cell_type": "code",
   "execution_count": null,
   "metadata": {
    "collapsed": true,
    "nbgrader": {
     "grade": false,
     "grade_id": "55",
     "locked": false,
     "schema_version": 1,
     "solution": true
    }
   },
   "outputs": [],
   "source": [
    "# modify this cell\n",
    "\n",
    "def findMax(someList):\n",
    "    ### BEGIN SOLUTION\n",
    "    return min(someList)\n",
    "    ### END SOLUTION\n",
    "    "
   ]
  },
  {
   "cell_type": "code",
   "execution_count": null,
   "metadata": {
    "nbgrader": {
     "grade": true,
     "grade_id": "ex1",
     "locked": true,
     "points": 1,
     "schema_version": 1,
     "solution": false
    }
   },
   "outputs": [],
   "source": [
    "# notice this cell is marked as \"Autograder tests\" and is labelled with an ID (here just ex1, but this is arbitrary for us)\n",
    "# we can also give points based on the cell completing.  If the code executes without an exception, they are given points.\n",
    "# so our test cases will throw exceptions if they make errors (and, preferably, give them feedback why.)\n",
    "import Tester\n",
    "Tester.ex1(findMax)"
   ]
  },
  {
   "cell_type": "markdown",
   "metadata": {
    "nbgrader": {
     "grade": false,
     "grade_id": "5",
     "locked": true,
     "schema_version": 1,
     "solution": false
    }
   },
   "source": [
    "Once the notebook is all done, we want to be able to build a notebook the learners can use. This new notebook will just have the read only pieces embedded in the markup.  When you get to that point, here's how to create the notebook for release.\n",
    "\n",
    "Commands to run to build the notebook for learners:\n",
    "1.  create a folder in \"source\" called \"assignment_name\" (e.g. numpy)\n",
    "2.  create a symlink to the notebook and required files in the \"assignment_name\" folder (ln -s filename .)\n",
    "3.  command1: **nbgrader db assignment add \"assignment_name\"**\n",
    "4.  command2: **nbgrader assign \"assignment_name\"**\n",
    "5.  Look in the release folder for the student files."
   ]
  },
  {
   "cell_type": "code",
   "execution_count": null,
   "metadata": {
    "collapsed": true
   },
   "outputs": [],
   "source": []
  }
 ],
 "metadata": {
  "celltoolbar": "Create Assignment",
  "kernelspec": {
   "display_name": "Python 3",
   "language": "python",
   "name": "python3"
  },
  "language_info": {
   "codemirror_mode": {
    "name": "ipython",
    "version": 3
   },
   "file_extension": ".py",
   "mimetype": "text/x-python",
   "name": "python",
   "nbconvert_exporter": "python",
   "pygments_lexer": "ipython3",
   "version": "3.6.0"
  }
 },
 "nbformat": 4,
 "nbformat_minor": 2
}
