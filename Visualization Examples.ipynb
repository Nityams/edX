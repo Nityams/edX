{
 "cells": [
  {
   "cell_type": "code",
   "execution_count": 49,
   "metadata": {
    "collapsed": true
   },
   "outputs": [],
   "source": [
    "import pandas as pd\n",
    "import numpy as np\n",
    "import random\n",
    "import matplotlib.pyplot as plt"
   ]
  },
  {
   "cell_type": "code",
   "execution_count": 50,
   "metadata": {},
   "outputs": [
    {
     "name": "stdout",
     "output_type": "stream",
     "text": [
      "14\n",
      "14\n"
     ]
    }
   ],
   "source": [
    "x = [0.9, 2.0, 2.7, 3.6, 4.8, 6.0, 6.3, 6.7, 7, 8.7, 10.9,  12.5, 13.4, 14.6]\n",
    "y = [0.5, 0.75, 1.1, 3.6, 7.3, 15.7, 19, 28.6, 32.6, 32.8,  32.1, 33.1, 32.9, 33]\n",
    "\n",
    "print(len(x))\n",
    "print(len(y))"
   ]
  },
  {
   "cell_type": "code",
   "execution_count": 51,
   "metadata": {},
   "outputs": [
    {
     "name": "stdout",
     "output_type": "stream",
     "text": [
      "0.9 ,  0.5\n",
      "2.0 ,  0.75\n",
      "2.7 ,  1.1\n",
      "3.6 ,  3.6\n",
      "4.8 ,  7.3\n",
      "6.0 ,  15.7\n",
      "6.3 ,  19\n",
      "6.7 ,  28.6\n",
      "7 ,  32.6\n",
      "8.7 ,  32.8\n",
      "10.9 ,  32.1\n",
      "12.5 ,  33.1\n",
      "13.4 ,  32.9\n",
      "14.6 ,  33\n"
     ]
    }
   ],
   "source": [
    "for a,b in zip(x,y):\n",
    "    print(a, \", \" ,b)"
   ]
  },
  {
   "cell_type": "code",
   "execution_count": 52,
   "metadata": {
    "scrolled": true
   },
   "outputs": [
    {
     "data": {
      "image/png": "[encoded data removed]",
      "text/plain": [
       "<matplotlib.figure.Figure at 0x7f2979e5b4e0>"
      ]
     },
     "metadata": {},
     "output_type": "display_data"
    }
   ],
   "source": [
    "%matplotlib inline\n",
    "import matplotlib.pyplot as plt\n",
    "\n",
    "fig, axis = plt.subplots()\n",
    "# Grid lines, Xticks, Xlabel, Ylabel\n",
    "\n",
    "#axis.yaxis.grid(True)\n",
    "#axis.set_title('CO2 Emissions vs. GDP \\(per capita\\)',fontsize=10)\n",
    "axis.set_xlabel('x',fontsize=10)\n",
    "axis.set_ylabel('y',fontsize=10)\n",
    "\n",
    "axis.scatter(x, y)\n",
    "plt.show()\n",
    "fig.savefig('vis_example.png')"
   ]
  },
  {
   "cell_type": "code",
   "execution_count": 53,
   "metadata": {},
   "outputs": [
    {
     "name": "stdout",
     "output_type": "stream",
     "text": [
      "7.15 ,  4.18701223172 , 6.5\n",
      "19.5035714286 ,  13.6389733627 , 23.8\n"
     ]
    }
   ],
   "source": [
    "x_np = np.array(x)\n",
    "y_np = np.array(y)\n",
    "\n",
    "print(x_np.mean(), \", \", x_np.std(), \",\", np.median(x_np))\n",
    "print(y_np.mean(), \", \", y_np.std(), \",\", np.median(y_np))\n",
    "\n"
   ]
  },
  {
   "cell_type": "code",
   "execution_count": 54,
   "metadata": {},
   "outputs": [
    {
     "data": {
      "text/plain": [
       "array([[ 1.        ,  0.88305172],\n",
       "       [ 0.88305172,  1.        ]])"
      ]
     },
     "execution_count": 54,
     "metadata": {},
     "output_type": "execute_result"
    }
   ],
   "source": [
    "np.corrcoef(x_np, y_np)"
   ]
  },
  {
   "cell_type": "code",
   "execution_count": 55,
   "metadata": {},
   "outputs": [
    {
     "ename": "FileNotFoundError",
     "evalue": "File b'virtual_grades.csv' does not exist",
     "output_type": "error",
     "traceback": [
      "\u001b[0;31m---------------------------------------------------------------------------\u001b[0m",
      "\u001b[0;31mFileNotFoundError\u001b[0m                         Traceback (most recent call last)",
      "\u001b[0;32m<ipython-input-55-b6cc9f53d7eb>\u001b[0m in \u001b[0;36m<module>\u001b[0;34m()\u001b[0m\n\u001b[0;32m----> 1\u001b[0;31m \u001b[0mframe\u001b[0m \u001b[0;34m=\u001b[0m \u001b[0mpd\u001b[0m\u001b[0;34m.\u001b[0m\u001b[0mread_csv\u001b[0m\u001b[0;34m(\u001b[0m\u001b[0;34m\"virtual_grades.csv\"\u001b[0m\u001b[0;34m)\u001b[0m\u001b[0;34m\u001b[0m\u001b[0m\n\u001b[0m\u001b[1;32m      2\u001b[0m \u001b[0mframe\u001b[0m\u001b[0;34m\u001b[0m\u001b[0m\n",
      "\u001b[0;32m/opt/conda/lib/python3.5/site-packages/pandas/io/parsers.py\u001b[0m in \u001b[0;36mparser_f\u001b[0;34m(filepath_or_buffer, sep, delimiter, header, names, index_col, usecols, squeeze, prefix, mangle_dupe_cols, dtype, engine, converters, true_values, false_values, skipinitialspace, skiprows, nrows, na_values, keep_default_na, na_filter, verbose, skip_blank_lines, parse_dates, infer_datetime_format, keep_date_col, date_parser, dayfirst, iterator, chunksize, compression, thousands, decimal, lineterminator, quotechar, quoting, escapechar, comment, encoding, dialect, tupleize_cols, error_bad_lines, warn_bad_lines, skipfooter, skip_footer, doublequote, delim_whitespace, as_recarray, compact_ints, use_unsigned, low_memory, buffer_lines, memory_map, float_precision)\u001b[0m\n\u001b[1;32m    644\u001b[0m                     skip_blank_lines=skip_blank_lines)\n\u001b[1;32m    645\u001b[0m \u001b[0;34m\u001b[0m\u001b[0m\n\u001b[0;32m--> 646\u001b[0;31m         \u001b[0;32mreturn\u001b[0m \u001b[0m_read\u001b[0m\u001b[0;34m(\u001b[0m\u001b[0mfilepath_or_buffer\u001b[0m\u001b[0;34m,\u001b[0m \u001b[0mkwds\u001b[0m\u001b[0;34m)\u001b[0m\u001b[0;34m\u001b[0m\u001b[0m\n\u001b[0m\u001b[1;32m    647\u001b[0m \u001b[0;34m\u001b[0m\u001b[0m\n\u001b[1;32m    648\u001b[0m     \u001b[0mparser_f\u001b[0m\u001b[0;34m.\u001b[0m\u001b[0m__name__\u001b[0m \u001b[0;34m=\u001b[0m \u001b[0mname\u001b[0m\u001b[0;34m\u001b[0m\u001b[0m\n",
      "\u001b[0;32m/opt/conda/lib/python3.5/site-packages/pandas/io/parsers.py\u001b[0m in \u001b[0;36m_read\u001b[0;34m(filepath_or_buffer, kwds)\u001b[0m\n\u001b[1;32m    387\u001b[0m \u001b[0;34m\u001b[0m\u001b[0m\n\u001b[1;32m    388\u001b[0m     \u001b[0;31m# Create the parser.\u001b[0m\u001b[0;34m\u001b[0m\u001b[0;34m\u001b[0m\u001b[0m\n\u001b[0;32m--> 389\u001b[0;31m     \u001b[0mparser\u001b[0m \u001b[0;34m=\u001b[0m \u001b[0mTextFileReader\u001b[0m\u001b[0;34m(\u001b[0m\u001b[0mfilepath_or_buffer\u001b[0m\u001b[0;34m,\u001b[0m \u001b[0;34m**\u001b[0m\u001b[0mkwds\u001b[0m\u001b[0;34m)\u001b[0m\u001b[0;34m\u001b[0m\u001b[0m\n\u001b[0m\u001b[1;32m    390\u001b[0m \u001b[0;34m\u001b[0m\u001b[0m\n\u001b[1;32m    391\u001b[0m     \u001b[0;32mif\u001b[0m \u001b[0;34m(\u001b[0m\u001b[0mnrows\u001b[0m \u001b[0;32mis\u001b[0m \u001b[0;32mnot\u001b[0m \u001b[0;32mNone\u001b[0m\u001b[0;34m)\u001b[0m \u001b[0;32mand\u001b[0m \u001b[0;34m(\u001b[0m\u001b[0mchunksize\u001b[0m \u001b[0;32mis\u001b[0m \u001b[0;32mnot\u001b[0m \u001b[0;32mNone\u001b[0m\u001b[0;34m)\u001b[0m\u001b[0;34m:\u001b[0m\u001b[0;34m\u001b[0m\u001b[0m\n",
      "\u001b[0;32m/opt/conda/lib/python3.5/site-packages/pandas/io/parsers.py\u001b[0m in \u001b[0;36m__init__\u001b[0;34m(self, f, engine, **kwds)\u001b[0m\n\u001b[1;32m    728\u001b[0m             \u001b[0mself\u001b[0m\u001b[0;34m.\u001b[0m\u001b[0moptions\u001b[0m\u001b[0;34m[\u001b[0m\u001b[0;34m'has_index_names'\u001b[0m\u001b[0;34m]\u001b[0m \u001b[0;34m=\u001b[0m \u001b[0mkwds\u001b[0m\u001b[0;34m[\u001b[0m\u001b[0;34m'has_index_names'\u001b[0m\u001b[0;34m]\u001b[0m\u001b[0;34m\u001b[0m\u001b[0m\n\u001b[1;32m    729\u001b[0m \u001b[0;34m\u001b[0m\u001b[0m\n\u001b[0;32m--> 730\u001b[0;31m         \u001b[0mself\u001b[0m\u001b[0;34m.\u001b[0m\u001b[0m_make_engine\u001b[0m\u001b[0;34m(\u001b[0m\u001b[0mself\u001b[0m\u001b[0;34m.\u001b[0m\u001b[0mengine\u001b[0m\u001b[0;34m)\u001b[0m\u001b[0;34m\u001b[0m\u001b[0m\n\u001b[0m\u001b[1;32m    731\u001b[0m \u001b[0;34m\u001b[0m\u001b[0m\n\u001b[1;32m    732\u001b[0m     \u001b[0;32mdef\u001b[0m \u001b[0mclose\u001b[0m\u001b[0;34m(\u001b[0m\u001b[0mself\u001b[0m\u001b[0;34m)\u001b[0m\u001b[0;34m:\u001b[0m\u001b[0;34m\u001b[0m\u001b[0m\n",
      "\u001b[0;32m/opt/conda/lib/python3.5/site-packages/pandas/io/parsers.py\u001b[0m in \u001b[0;36m_make_engine\u001b[0;34m(self, engine)\u001b[0m\n\u001b[1;32m    921\u001b[0m     \u001b[0;32mdef\u001b[0m \u001b[0m_make_engine\u001b[0m\u001b[0;34m(\u001b[0m\u001b[0mself\u001b[0m\u001b[0;34m,\u001b[0m \u001b[0mengine\u001b[0m\u001b[0;34m=\u001b[0m\u001b[0;34m'c'\u001b[0m\u001b[0;34m)\u001b[0m\u001b[0;34m:\u001b[0m\u001b[0;34m\u001b[0m\u001b[0m\n\u001b[1;32m    922\u001b[0m         \u001b[0;32mif\u001b[0m \u001b[0mengine\u001b[0m \u001b[0;34m==\u001b[0m \u001b[0;34m'c'\u001b[0m\u001b[0;34m:\u001b[0m\u001b[0;34m\u001b[0m\u001b[0m\n\u001b[0;32m--> 923\u001b[0;31m             \u001b[0mself\u001b[0m\u001b[0;34m.\u001b[0m\u001b[0m_engine\u001b[0m \u001b[0;34m=\u001b[0m \u001b[0mCParserWrapper\u001b[0m\u001b[0;34m(\u001b[0m\u001b[0mself\u001b[0m\u001b[0;34m.\u001b[0m\u001b[0mf\u001b[0m\u001b[0;34m,\u001b[0m \u001b[0;34m**\u001b[0m\u001b[0mself\u001b[0m\u001b[0;34m.\u001b[0m\u001b[0moptions\u001b[0m\u001b[0;34m)\u001b[0m\u001b[0;34m\u001b[0m\u001b[0m\n\u001b[0m\u001b[1;32m    924\u001b[0m         \u001b[0;32melse\u001b[0m\u001b[0;34m:\u001b[0m\u001b[0;34m\u001b[0m\u001b[0m\n\u001b[1;32m    925\u001b[0m             \u001b[0;32mif\u001b[0m \u001b[0mengine\u001b[0m \u001b[0;34m==\u001b[0m \u001b[0;34m'python'\u001b[0m\u001b[0;34m:\u001b[0m\u001b[0;34m\u001b[0m\u001b[0m\n",
      "\u001b[0;32m/opt/conda/lib/python3.5/site-packages/pandas/io/parsers.py\u001b[0m in \u001b[0;36m__init__\u001b[0;34m(self, src, **kwds)\u001b[0m\n\u001b[1;32m   1388\u001b[0m         \u001b[0mkwds\u001b[0m\u001b[0;34m[\u001b[0m\u001b[0;34m'allow_leading_cols'\u001b[0m\u001b[0;34m]\u001b[0m \u001b[0;34m=\u001b[0m \u001b[0mself\u001b[0m\u001b[0;34m.\u001b[0m\u001b[0mindex_col\u001b[0m \u001b[0;32mis\u001b[0m \u001b[0;32mnot\u001b[0m \u001b[0;32mFalse\u001b[0m\u001b[0;34m\u001b[0m\u001b[0m\n\u001b[1;32m   1389\u001b[0m \u001b[0;34m\u001b[0m\u001b[0m\n\u001b[0;32m-> 1390\u001b[0;31m         \u001b[0mself\u001b[0m\u001b[0;34m.\u001b[0m\u001b[0m_reader\u001b[0m \u001b[0;34m=\u001b[0m \u001b[0m_parser\u001b[0m\u001b[0;34m.\u001b[0m\u001b[0mTextReader\u001b[0m\u001b[0;34m(\u001b[0m\u001b[0msrc\u001b[0m\u001b[0;34m,\u001b[0m \u001b[0;34m**\u001b[0m\u001b[0mkwds\u001b[0m\u001b[0;34m)\u001b[0m\u001b[0;34m\u001b[0m\u001b[0m\n\u001b[0m\u001b[1;32m   1391\u001b[0m \u001b[0;34m\u001b[0m\u001b[0m\n\u001b[1;32m   1392\u001b[0m         \u001b[0;31m# XXX\u001b[0m\u001b[0;34m\u001b[0m\u001b[0;34m\u001b[0m\u001b[0m\n",
      "\u001b[0;32mpandas/parser.pyx\u001b[0m in \u001b[0;36mpandas.parser.TextReader.__cinit__ (pandas/parser.c:4184)\u001b[0;34m()\u001b[0m\n",
      "\u001b[0;32mpandas/parser.pyx\u001b[0m in \u001b[0;36mpandas.parser.TextReader._setup_parser_source (pandas/parser.c:8449)\u001b[0;34m()\u001b[0m\n",
      "\u001b[0;31mFileNotFoundError\u001b[0m: File b'virtual_grades.csv' does not exist"
     ]
    }
   ],
   "source": [
    "frame = pd.read_csv(\"virtual_grades.csv\")\n",
    "frame"
   ]
  },
  {
   "cell_type": "code",
   "execution_count": null,
   "metadata": {
    "collapsed": true
   },
   "outputs": [],
   "source": [
    "x2_np = np.array(frame['Midterm'])\n",
    "y2_np = np.array(frame['Final'])\n",
    "\n",
    "#x2_np = np.array(frame['Midterm'].values)\n",
    "#frame.columns.values\n",
    "\n",
    "#y2_np = np.array(frame['Final'].values)\n",
    "#y2_np"
   ]
  },
  {
   "cell_type": "code",
   "execution_count": null,
   "metadata": {},
   "outputs": [],
   "source": [
    "%matplotlib inline\n",
    "import matplotlib.pyplot as plt\n",
    "\n",
    "fig, axis = plt.subplots()\n",
    "# Grid lines, Xticks, Xlabel, Ylabel\n",
    "\n",
    "#axis.yaxis.grid(True)\n",
    "#axis.set_title('CO2 Emissions vs. GDP \\(per capita\\)',fontsize=10)\n",
    "axis.set_xlabel('x',fontsize=10)\n",
    "axis.set_ylabel('y',fontsize=10)\n",
    "plt.axis([0,1.0, -0.02, 1.02])\n",
    "\n",
    "axis.scatter(x2_np,y2_np )\n",
    "plt.show()\n",
    "fig.savefig('vis_example2.png')"
   ]
  },
  {
   "cell_type": "code",
   "execution_count": null,
   "metadata": {},
   "outputs": [],
   "source": [
    "np.corrcoef(x2_np[:20], y2_np[:20])"
   ]
  },
  {
   "cell_type": "code",
   "execution_count": null,
   "metadata": {},
   "outputs": [],
   "source": [
    "%matplotlib inline\n",
    "import matplotlib.pyplot as plt\n",
    "\n",
    "fig, axis = plt.subplots()\n",
    "# Grid lines, Xticks, Xlabel, Ylabel\n",
    "\n",
    "#axis.xaxis.grid(True)\n",
    "#axis.yaxis.grid(True)\n",
    "#axis.set_title('Midterm vs. Final Exam',fontsize=10)\n",
    "axis.set_xlabel('Midterm',fontsize=10)\n",
    "axis.set_ylabel('Final',fontsize=10)\n",
    "plt.axis([0,1.0, -0.02, 1.02])\n",
    "\n",
    "axis.scatter(x2_np,y2_np )\n",
    "plt.show()\n",
    "fig.savefig('vis_example2_better.png')"
   ]
  },
  {
   "cell_type": "markdown",
   "metadata": {},
   "source": [
    "Roles of graphs"
   ]
  },
  {
   "cell_type": "code",
   "execution_count": null,
   "metadata": {},
   "outputs": [],
   "source": [
    "import numpy as np\n",
    "import matplotlib.pyplot as plt\n",
    "#plt.style.use('fivethirtyeight') \n",
    "plt.style.use('default') \n",
    "\n",
    "num_courses = 5\n",
    "n_groups = 4\n",
    "means_SI = (24,14,25,16,20)\n",
    "means_PI = (10,11,6,3,7)\n",
    "courses = (\"CS1*\", \"CS1.5\",\"Theory*\",\"Arch*\",\"Average*\")\n",
    " \n",
    "# create plot\n",
    "fig, ax = plt.subplots()\n",
    "index = np.arange(num_courses)\n",
    "bar_width = 0.35\n",
    "opacity = 0.8\n",
    " \n",
    "rects1 = plt.bar(index, means_SI, bar_width,\n",
    "                 alpha=opacity,\n",
    "                 color='b',\n",
    "                 label='Standard Instruction')\n",
    " \n",
    "rects2 = plt.bar(index + bar_width, means_PI, bar_width,\n",
    "                 alpha=opacity,\n",
    "                 color='g',\n",
    "                 label='Peer Instruction')\n",
    " \n",
    "plt.xlabel('* denotes statistically significant (p<0.05)',fontsize=12,fontstyle='italic')\n",
    "plt.ylabel('Failure Rate',fontsize=14)\n",
    "#plt.title('Failure Rate by Pedagogy')\n",
    "plt.xticks(index + bar_width, courses, fontsize = 14)\n",
    "\n",
    "vals = ax.get_yticks()\n",
    "ax.set_yticklabels(['{:3.0f}%'.format(x) for x in vals])\n",
    "\n",
    "plt.legend(bbox_to_anchor=(0., 1.02, 1., .102), loc=3,\n",
    "           ncol=2, mode=\"expand\", borderaxespad=0., fontsize=14,frameon=False)\n",
    "#plt.legend()\n",
    "\n",
    "x1,x2,y1,y2 = plt.axis()\n",
    "\n",
    "plt.axis((x1,x2,y1,y2))\n",
    "\n",
    "\n",
    "plt.plot([3.66, 3.66], [0, 29], 'k-', lw=2)\n",
    "\n",
    "\n",
    "    \n",
    "#plt.tight_layout()\n",
    "plt.show()\n",
    "fig.savefig('vis_presenting.png')"
   ]
  },
  {
   "cell_type": "markdown",
   "metadata": {},
   "source": [
    "## Honesty"
   ]
  },
  {
   "cell_type": "code",
   "execution_count": null,
   "metadata": {},
   "outputs": [],
   "source": [
    "import numpy as np\n",
    "import matplotlib.pyplot as plt\n",
    "#plt.style.use('fivethirtyeight') \n",
    "plt.style.use('default') \n",
    "\n",
    "quarterly_profits_16 = (8.25,8.28,8.32,8.42)\n",
    "quarterly_profits_15 = (7.9,8.0,8.1,8.7)\n",
    "\n",
    "quarters = (\"Q1\", \"Q2\",\"Q3\",\"Q4\")\n",
    " \n",
    "# create plot\n",
    "fig, ax = plt.subplots()\n",
    "index = np.arange(len(quarters))\n",
    "bar_width = 0.35\n",
    "opacity = 0.8\n",
    " \n",
    "rects1 = plt.bar(index, quarterly_profits_16, bar_width,\n",
    "                 alpha=opacity,\n",
    "                 color='b',\n",
    "                 label='Standard Instruction')\n",
    " \n",
    "#rects2 = plt.bar(index + bar_width, means_PI, bar_width,\n",
    "#                 alpha=opacity,\n",
    "#                 color='g',\n",
    "#                 label='Peer Instruction')\n",
    " \n",
    "#plt.xlabel('* denotes statistically significant (p<0.05)',fontsize=12,fontstyle='italic')\n",
    "plt.ylabel('Revenue (Million USD)',fontsize=14)\n",
    "plt.title('Profits Surge in 4th Quarter', fontsize=20, color='g')\n",
    "plt.xticks(index + bar_width, quarters, fontsize = 14)\n",
    "\n",
    "plt.yticks(fontsize = 8)\n",
    "\n",
    "#vals = ax.get_yticks()\n",
    "#ax.set_yticklabels(['{:3.0f}%'.format(x) for x in vals])\n",
    "\n",
    "#plt.legend(bbox_to_anchor=(0., 1.02, 1., .102), loc=3,\n",
    "#           ncol=2, mode=\"expand\", borderaxespad=0., fontsize=14,frameon=False)\n",
    "#plt.legend()\n",
    "\n",
    "x1,x2,y1,y2 = plt.axis()\n",
    "\n",
    "plt.axis((x1,x2,8.2,8.45))\n",
    "\n",
    "\n",
    "    \n",
    "#plt.tight_layout()\n",
    "plt.show()\n",
    "fig.savefig('vis_misleading.png')"
   ]
  },
  {
   "cell_type": "code",
   "execution_count": null,
   "metadata": {},
   "outputs": [],
   "source": [
    "import numpy as np\n",
    "import matplotlib.pyplot as plt\n",
    "#plt.style.use('fivethirtyeight') \n",
    "plt.style.use('default') \n",
    "\n",
    "quarterly_profits_16 = (8.25,8.28,8.32,8.42)\n",
    "quarterly_profits_15 = (7.9,8.0,8.1,8.7)\n",
    "\n",
    "quarters = (\"Q1\", \"Q2\",\"Q3\",\"Q4\")\n",
    " \n",
    "# create plot\n",
    "fig, ax = plt.subplots()\n",
    "index = np.arange(len(quarters))\n",
    "bar_width = 0.35\n",
    "opacity = 0.8\n",
    " \n",
    "rects1 = plt.bar(index, quarterly_profits_16, bar_width,\n",
    "                 alpha=opacity,\n",
    "                 color='b',\n",
    "                 label='Standard Instruction')\n",
    " \n",
    "#rects2 = plt.bar(index + bar_width, means_PI, bar_width,\n",
    "#                 alpha=opacity,\n",
    "#                 color='g',\n",
    "#                 label='Peer Instruction')\n",
    " \n",
    "plt.xlabel('2017',fontsize=12,fontstyle='italic')\n",
    "plt.ylabel('Revenue (Million USD)',fontsize=14)\n",
    "plt.title('Profits Remain Steady in 2017', fontsize=18, color='g')\n",
    "plt.xticks(index + bar_width, quarters, fontsize = 14)\n",
    "\n",
    "#plt.yticks(fontsize = 8)\n",
    "\n",
    "#vals = ax.get_yticks()\n",
    "#ax.set_yticklabels(['{:3.0f}%'.format(x) for x in vals])\n",
    "\n",
    "#plt.legend(bbox_to_anchor=(0., 1.02, 1., .102), loc=3,\n",
    "#           ncol=2, mode=\"expand\", borderaxespad=0., fontsize=14,frameon=False)\n",
    "#plt.legend()\n",
    "\n",
    "x1,x2,y1,y2 = plt.axis()\n",
    "\n",
    "#plt.axis((x1,x2,8.2,8.45))\n",
    "\n",
    "\n",
    "#plt.plot([3.66, 3.66], [0, 29], 'k-', lw=2)\n",
    "\n",
    "\n",
    "    \n",
    "#plt.tight_layout()\n",
    "plt.show()\n",
    "fig.savefig('vis_better1.png')"
   ]
  },
  {
   "cell_type": "code",
   "execution_count": null,
   "metadata": {},
   "outputs": [],
   "source": [
    "import numpy as np\n",
    "import matplotlib.pyplot as plt\n",
    "#plt.style.use('fivethirtyeight') \n",
    "plt.style.use('default') \n",
    "\n",
    "quarterly_profits_16 = (8.25,8.28,8.32,8.42)\n",
    "quarterly_profits_15 = (7.9,8.0,8.3,8.9)\n",
    "\n",
    "quarters = (\"Q1\", \"Q2\",\"Q3\",\"Q4\")\n",
    " \n",
    "# create plot\n",
    "fig, ax = plt.subplots()\n",
    "index = np.arange(len(quarters))\n",
    "bar_width = 0.35\n",
    "opacity = 0.8\n",
    " \n",
    "rects1 = plt.bar(index, quarterly_profits_15, bar_width,\n",
    "                 alpha=opacity,\n",
    "                 color='b',\n",
    "                 label='2015')\n",
    " \n",
    "rects2 = plt.bar(index + bar_width, quarterly_profits_16, bar_width,\n",
    "                 alpha=opacity,\n",
    "                 color='g',\n",
    "                 label='2016')\n",
    " \n",
    "#plt.xlabel('2017',fontsize=12,fontstyle='italic')\n",
    "plt.ylabel('Revenue (Million USD)',fontsize=14)\n",
    "plt.title('Smaller Profit Growth in Q4 for 2016', fontsize=16, color='g')\n",
    "plt.xticks(index + bar_width, quarters, fontsize = 14)\n",
    "\n",
    "#plt.yticks(fontsize = 8)\n",
    "\n",
    "#vals = ax.get_yticks()\n",
    "#ax.set_yticklabels(['{:3.0f}%'.format(x) for x in vals])\n",
    "\n",
    "#plt.legend(bbox_to_anchor=(0., 1.02, 1., .102), loc=3,\n",
    "#           ncol=2, mode=\"expand\", borderaxespad=0., fontsize=14,frameon=False)\n",
    "plt.legend(ncol=2,loc=9)\n",
    "\n",
    "x1,x2,y1,y2 = plt.axis()\n",
    "plt.axis((x1,x2,y1,10.0))\n",
    "\n",
    "\n",
    "#plt.plot([3.66, 3.66], [0, 29], 'k-', lw=2)\n",
    "\n",
    "\n",
    "    \n",
    "#plt.tight_layout()\n",
    "plt.show()\n",
    "fig.savefig('vis_better2.png')"
   ]
  },
  {
   "cell_type": "markdown",
   "metadata": {},
   "source": [
    "## Accessibility"
   ]
  },
  {
   "cell_type": "code",
   "execution_count": null,
   "metadata": {},
   "outputs": [],
   "source": [
    "import numpy as np\n",
    "import matplotlib.pyplot as plt\n",
    "#plt.style.use('fivethirtyeight') \n",
    "plt.style.use('default') \n",
    "\n",
    "cpi_spec = (2.1,2.3,1.9,2.8)\n",
    "#quarterly_profits_15 = (7.9,8.0,8.1,8.7)\n",
    "\n",
    "procs = (\"x21j\", \"x22j\",\"x22k\",\"x23i\")\n",
    " \n",
    "# create plot\n",
    "fig, ax = plt.subplots()\n",
    "index = np.arange(len(procs))\n",
    "bar_width = 0.35\n",
    "opacity = 0.8\n",
    " \n",
    "rects1 = plt.bar(index, cpi_spec, bar_width,\n",
    "                 alpha=opacity,\n",
    "                 color='b',\n",
    "                 label='spec')\n",
    " \n",
    "#rects2 = plt.bar(index + bar_width, means_PI, bar_width,\n",
    "#                 alpha=opacity,\n",
    "#                 color='g',\n",
    "#                 label='Peer Instruction')\n",
    " \n",
    "plt.xlabel('Model',fontsize=12,fontstyle='italic')\n",
    "plt.ylabel('IPC (Ave. SPEC 2006)',fontsize=14)\n",
    "plt.title('Performance by CPU Model', fontsize=18, color='g')\n",
    "#plt.xticks(index + bar_width, procs, fontsize = 14)\n",
    "plt.xticks(index, procs, fontsize = 14)\n",
    "\n",
    "#plt.yticks(fontsize = 8)\n",
    "\n",
    "#vals = ax.get_yticks()\n",
    "#ax.set_yticklabels(['{:3.0f}%'.format(x) for x in vals])\n",
    "\n",
    "#plt.legend(bbox_to_anchor=(0., 1.02, 1., .102), loc=3,\n",
    "#           ncol=2, mode=\"expand\", borderaxespad=0., fontsize=14,frameon=False)\n",
    "#plt.legend()\n",
    "\n",
    "#x1,x2,y1,y2 = plt.axis()\n",
    "\n",
    "#plt.axis((x1,x2,8.2,8.45))\n",
    "\n",
    "\n",
    "#plt.plot([3.66, 3.66], [0, 29], 'k-', lw=2)\n",
    "\n",
    "\n",
    "    \n",
    "plt.tight_layout()\n",
    "plt.show()\n",
    "fig.savefig('vis_accessible.png')"
   ]
  },
  {
   "cell_type": "code",
   "execution_count": null,
   "metadata": {
    "collapsed": true
   },
   "outputs": [],
   "source": []
  }
 ],
 "metadata": {
  "kernelspec": {
   "display_name": "Python 3",
   "language": "python",
   "name": "python3"
  },
  "language_info": {
   "codemirror_mode": {
    "name": "ipython",
    "version": 3
   },
   "file_extension": ".py",
   "mimetype": "text/x-python",
   "name": "python",
   "nbconvert_exporter": "python",
   "pygments_lexer": "ipython3",
   "version": "3.5.2"
  }
 },
 "nbformat": 4,
 "nbformat_minor": 2
}
