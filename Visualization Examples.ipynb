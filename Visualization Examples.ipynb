{
 "cells": [
  {
   "cell_type": "code",
   "execution_count": 81,
   "metadata": {
    "collapsed": true
   },
   "outputs": [],
   "source": [
    "import pandas as pd\n",
    "import numpy as np\n",
    "import random\n",
    "import matplotlib.pyplot as plt"
   ]
  },
  {
   "cell_type": "code",
   "execution_count": 82,
   "metadata": {},
   "outputs": [
    {
     "name": "stdout",
     "output_type": "stream",
     "text": [
      "14\n",
      "14\n"
     ]
    }
   ],
   "source": [
    "x = [0.9, 2.0, 2.7, 3.6, 4.8, 6.0, 6.3, 6.7, 7, 8.7, 10.9,  12.5, 13.4, 14.6]\n",
    "y = [0.5, 0.75, 1.1, 3.6, 7.3, 15.7, 19, 28.6, 32.6, 32.8,  32.1, 33.1, 32.9, 33]\n",
    "\n",
    "print(len(x))\n",
    "print(len(y))"
   ]
  },
  {
   "cell_type": "code",
   "execution_count": 83,
   "metadata": {},
   "outputs": [
    {
     "name": "stdout",
     "output_type": "stream",
     "text": [
      "0.9 ,  0.5\n",
      "2.0 ,  0.75\n",
      "2.7 ,  1.1\n",
      "3.6 ,  3.6\n",
      "4.8 ,  7.3\n",
      "6.0 ,  15.7\n",
      "6.3 ,  19\n",
      "6.7 ,  28.6\n",
      "7 ,  32.6\n",
      "8.7 ,  32.8\n",
      "10.9 ,  32.1\n",
      "12.5 ,  33.1\n",
      "13.4 ,  32.9\n",
      "14.6 ,  33\n"
     ]
    }
   ],
   "source": [
    "for a,b in zip(x,y):\n",
    "    print(a, \", \" ,b)"
   ]
  },
  {
   "cell_type": "code",
   "execution_count": 84,
   "metadata": {
    "scrolled": true
   },
   "outputs": [
    {
     "data": {
      "image/png": "[encoded data removed]",
      "text/plain": [
       "<matplotlib.figure.Figure at 0x7fb8e81364a8>"
      ]
     },
     "metadata": {},
     "output_type": "display_data"
    }
   ],
   "source": [
    "%matplotlib inline\n",
    "import matplotlib.pyplot as plt\n",
    "\n",
    "fig, axis = plt.subplots()\n",
    "# Grid lines, Xticks, Xlabel, Ylabel\n",
    "\n",
    "#axis.yaxis.grid(True)\n",
    "#axis.set_title('CO2 Emissions vs. GDP \\(per capita\\)',fontsize=10)\n",
    "axis.set_xlabel('x',fontsize=10)\n",
    "axis.set_ylabel('y',fontsize=10)\n",
    "\n",
    "axis.scatter(x, y)\n",
    "plt.show()\n",
    "fig.savefig('vis_example.png')"
   ]
  },
  {
   "cell_type": "code",
   "execution_count": 85,
   "metadata": {},
   "outputs": [
    {
     "name": "stdout",
     "output_type": "stream",
     "text": [
      "7.15 ,  4.18701223172 , 6.5\n",
      "19.5035714286 ,  13.6389733627 , 23.8\n"
     ]
    }
   ],
   "source": [
    "x_np = np.array(x)\n",
    "y_np = np.array(y)\n",
    "\n",
    "print(x_np.mean(), \", \", x_np.std(), \",\", np.median(x_np))\n",
    "print(y_np.mean(), \", \", y_np.std(), \",\", np.median(y_np))\n",
    "\n"
   ]
  },
  {
   "cell_type": "code",
   "execution_count": 86,
   "metadata": {},
   "outputs": [
    {
     "data": {
      "text/plain": [
       "array([[ 1.        ,  0.88305172],\n",
       "       [ 0.88305172,  1.        ]])"
      ]
     },
     "execution_count": 86,
     "metadata": {},
     "output_type": "execute_result"
    }
   ],
   "source": [
    "np.corrcoef(x_np, y_np)"
   ]
  },
  {
   "cell_type": "code",
   "execution_count": 87,
   "metadata": {},
   "outputs": [
    {
     "data": {
      "text/html": [
       "<div>\n",
       "<table border=\"1\" class=\"dataframe\">\n",
       "  <thead>\n",
       "    <tr style=\"text-align: right;\">\n",
       "      <th></th>\n",
       "      <th>Midterm</th>\n",
       "      <th>Final</th>\n",
       "    </tr>\n",
       "  </thead>\n",
       "  <tbody>\n",
       "    <tr>\n",
       "      <th>0</th>\n",
       "      <td>0.42</td>\n",
       "      <td>0.46750</td>\n",
       "    </tr>\n",
       "    <tr>\n",
       "      <th>1</th>\n",
       "      <td>0.54</td>\n",
       "      <td>0.62500</td>\n",
       "    </tr>\n",
       "    <tr>\n",
       "      <th>2</th>\n",
       "      <td>0.42</td>\n",
       "      <td>0.53750</td>\n",
       "    </tr>\n",
       "    <tr>\n",
       "      <th>3</th>\n",
       "      <td>0.86</td>\n",
       "      <td>0.92750</td>\n",
       "    </tr>\n",
       "    <tr>\n",
       "      <th>4</th>\n",
       "      <td>0.60</td>\n",
       "      <td>0.63750</td>\n",
       "    </tr>\n",
       "    <tr>\n",
       "      <th>5</th>\n",
       "      <td>0.51</td>\n",
       "      <td>0.63125</td>\n",
       "    </tr>\n",
       "    <tr>\n",
       "      <th>6</th>\n",
       "      <td>0.30</td>\n",
       "      <td>0.35625</td>\n",
       "    </tr>\n",
       "    <tr>\n",
       "      <th>7</th>\n",
       "      <td>0.61</td>\n",
       "      <td>0.65000</td>\n",
       "    </tr>\n",
       "    <tr>\n",
       "      <th>8</th>\n",
       "      <td>0.58</td>\n",
       "      <td>0.63125</td>\n",
       "    </tr>\n",
       "    <tr>\n",
       "      <th>9</th>\n",
       "      <td>0.76</td>\n",
       "      <td>0.72500</td>\n",
       "    </tr>\n",
       "    <tr>\n",
       "      <th>10</th>\n",
       "      <td>0.66</td>\n",
       "      <td>0.51250</td>\n",
       "    </tr>\n",
       "    <tr>\n",
       "      <th>11</th>\n",
       "      <td>0.63</td>\n",
       "      <td>0.48750</td>\n",
       "    </tr>\n",
       "    <tr>\n",
       "      <th>12</th>\n",
       "      <td>0.92</td>\n",
       "      <td>1.00000</td>\n",
       "    </tr>\n",
       "    <tr>\n",
       "      <th>13</th>\n",
       "      <td>0.86</td>\n",
       "      <td>0.88750</td>\n",
       "    </tr>\n",
       "    <tr>\n",
       "      <th>14</th>\n",
       "      <td>0.91</td>\n",
       "      <td>0.97500</td>\n",
       "    </tr>\n",
       "    <tr>\n",
       "      <th>15</th>\n",
       "      <td>0.82</td>\n",
       "      <td>0.75625</td>\n",
       "    </tr>\n",
       "    <tr>\n",
       "      <th>16</th>\n",
       "      <td>0.80</td>\n",
       "      <td>0.85000</td>\n",
       "    </tr>\n",
       "    <tr>\n",
       "      <th>17</th>\n",
       "      <td>0.69</td>\n",
       "      <td>0.79375</td>\n",
       "    </tr>\n",
       "    <tr>\n",
       "      <th>18</th>\n",
       "      <td>0.62</td>\n",
       "      <td>0.74000</td>\n",
       "    </tr>\n",
       "    <tr>\n",
       "      <th>19</th>\n",
       "      <td>0.58</td>\n",
       "      <td>0.48125</td>\n",
       "    </tr>\n",
       "    <tr>\n",
       "      <th>20</th>\n",
       "      <td>0.86</td>\n",
       "      <td>0.00000</td>\n",
       "    </tr>\n",
       "  </tbody>\n",
       "</table>\n",
       "</div>"
      ],
      "text/plain": [
       "    Midterm    Final\n",
       "0      0.42  0.46750\n",
       "1      0.54  0.62500\n",
       "2      0.42  0.53750\n",
       "3      0.86  0.92750\n",
       "4      0.60  0.63750\n",
       "5      0.51  0.63125\n",
       "6      0.30  0.35625\n",
       "7      0.61  0.65000\n",
       "8      0.58  0.63125\n",
       "9      0.76  0.72500\n",
       "10     0.66  0.51250\n",
       "11     0.63  0.48750\n",
       "12     0.92  1.00000\n",
       "13     0.86  0.88750\n",
       "14     0.91  0.97500\n",
       "15     0.82  0.75625\n",
       "16     0.80  0.85000\n",
       "17     0.69  0.79375\n",
       "18     0.62  0.74000\n",
       "19     0.58  0.48125\n",
       "20     0.86  0.00000"
      ]
     },
     "execution_count": 87,
     "metadata": {},
     "output_type": "execute_result"
    }
   ],
   "source": [
    "frame = pd.read_csv(\"virtual_grades.csv\")\n",
    "frame"
   ]
  },
  {
   "cell_type": "code",
   "execution_count": 88,
   "metadata": {
    "collapsed": true
   },
   "outputs": [],
   "source": [
    "x2_np = np.array(frame['Midterm'])\n",
    "y2_np = np.array(frame['Final'])\n",
    "\n",
    "#x2_np = np.array(frame['Midterm'].values)\n",
    "#frame.columns.values\n",
    "\n",
    "#y2_np = np.array(frame['Final'].values)\n",
    "#y2_np"
   ]
  },
  {
   "cell_type": "code",
   "execution_count": 89,
   "metadata": {},
   "outputs": [
    {
     "data": {
      "image/png": "[encoded data removed]",
      "text/plain": [
       "<matplotlib.figure.Figure at 0x7fb8e82a0be0>"
      ]
     },
     "metadata": {},
     "output_type": "display_data"
    }
   ],
   "source": [
    "%matplotlib inline\n",
    "import matplotlib.pyplot as plt\n",
    "\n",
    "fig, axis = plt.subplots()\n",
    "# Grid lines, Xticks, Xlabel, Ylabel\n",
    "\n",
    "#axis.yaxis.grid(True)\n",
    "#axis.set_title('CO2 Emissions vs. GDP \\(per capita\\)',fontsize=10)\n",
    "axis.set_xlabel('x',fontsize=10)\n",
    "axis.set_ylabel('y',fontsize=10)\n",
    "plt.axis([0,1.0, -0.02, 1.02])\n",
    "\n",
    "axis.scatter(x2_np,y2_np )\n",
    "plt.show()\n",
    "fig.savefig('vis_example2.png')"
   ]
  },
  {
   "cell_type": "code",
   "execution_count": 90,
   "metadata": {},
   "outputs": [
    {
     "data": {
      "text/plain": [
       "array([[ 1.       ,  0.8925496],\n",
       "       [ 0.8925496,  1.       ]])"
      ]
     },
     "execution_count": 90,
     "metadata": {},
     "output_type": "execute_result"
    }
   ],
   "source": [
    "np.corrcoef(x2_np[:20], y2_np[:20])"
   ]
  },
  {
   "cell_type": "code",
   "execution_count": 91,
   "metadata": {},
   "outputs": [
    {
     "data": {
      "image/png": "[encoded data removed]",
      "text/plain": [
       "<matplotlib.figure.Figure at 0x7fb8e86463c8>"
      ]
     },
     "metadata": {},
     "output_type": "display_data"
    }
   ],
   "source": [
    "%matplotlib inline\n",
    "import matplotlib.pyplot as plt\n",
    "\n",
    "fig, axis = plt.subplots()\n",
    "# Grid lines, Xticks, Xlabel, Ylabel\n",
    "\n",
    "#axis.xaxis.grid(True)\n",
    "#axis.yaxis.grid(True)\n",
    "#axis.set_title('Midterm vs. Final Exam',fontsize=10)\n",
    "axis.set_xlabel('Midterm',fontsize=10)\n",
    "axis.set_ylabel('Final',fontsize=10)\n",
    "plt.axis([0,1.0, -0.02, 1.02])\n",
    "\n",
    "axis.scatter(x2_np,y2_np )\n",
    "plt.show()\n",
    "fig.savefig('vis_example2_better.png')"
   ]
  },
  {
   "cell_type": "markdown",
   "metadata": {},
   "source": [
    "Roles of graphs"
   ]
  },
  {
   "cell_type": "code",
   "execution_count": 92,
   "metadata": {},
   "outputs": [
    {
     "data": {
      "image/png": "[encoded data removed]",
      "text/plain": [
       "<matplotlib.figure.Figure at 0x7fb8eaf97710>"
      ]
     },
     "metadata": {},
     "output_type": "display_data"
    }
   ],
   "source": [
    "import numpy as np\n",
    "import matplotlib.pyplot as plt\n",
    "#plt.style.use('fivethirtyeight') \n",
    "plt.style.use('default') \n",
    "\n",
    "num_courses = 5\n",
    "n_groups = 4\n",
    "means_SI = (24,14,25,16,20)\n",
    "means_PI = (10,11,6,3,7)\n",
    "courses = (\"CS1*\", \"CS1.5\",\"Theory*\",\"Arch*\",\"Average*\")\n",
    " \n",
    "# create plot\n",
    "fig, ax = plt.subplots()\n",
    "index = np.arange(num_courses)\n",
    "bar_width = 0.35\n",
    "opacity = 0.8\n",
    " \n",
    "rects1 = plt.bar(index, means_SI, bar_width,\n",
    "                 alpha=opacity,\n",
    "                 color='b',\n",
    "                 label='Standard Instruction')\n",
    " \n",
    "rects2 = plt.bar(index + bar_width, means_PI, bar_width,\n",
    "                 alpha=opacity,\n",
    "                 color='g',\n",
    "                 label='Peer Instruction')\n",
    " \n",
    "plt.xlabel('* denotes statistically significant (p<0.05)',fontsize=12,fontstyle='italic')\n",
    "plt.ylabel('Failure Rate',fontsize=14)\n",
    "#plt.title('Failure Rate by Pedagogy')\n",
    "plt.xticks(index + bar_width, courses, fontsize = 14)\n",
    "\n",
    "vals = ax.get_yticks()\n",
    "ax.set_yticklabels(['{:3.0f}%'.format(x) for x in vals])\n",
    "\n",
    "plt.legend(bbox_to_anchor=(0., 1.02, 1., .102), loc=3,\n",
    "           ncol=2, mode=\"expand\", borderaxespad=0., fontsize=14,frameon=False)\n",
    "#plt.legend()\n",
    "\n",
    "x1,x2,y1,y2 = plt.axis()\n",
    "\n",
    "plt.axis((x1,x2,y1,y2))\n",
    "\n",
    "\n",
    "plt.plot([3.66, 3.66], [0, 29], 'k-', lw=2)\n",
    "\n",
    "\n",
    "    \n",
    "#plt.tight_layout()\n",
    "plt.show()\n",
    "fig.savefig('vis_presenting.png')"
   ]
  },
  {
   "cell_type": "markdown",
   "metadata": {},
   "source": [
    "Different dimensions"
   ]
  },
  {
   "cell_type": "code",
   "execution_count": null,
   "metadata": {
    "collapsed": true
   },
   "outputs": [],
   "source": []
  }
 ],
 "metadata": {
  "kernelspec": {
   "display_name": "Python 3",
   "language": "python",
   "name": "python3"
  },
  "language_info": {
   "codemirror_mode": {
    "name": "ipython",
    "version": 3
   },
   "file_extension": ".py",
   "mimetype": "text/x-python",
   "name": "python",
   "nbconvert_exporter": "python",
   "pygments_lexer": "ipython3",
   "version": "3.5.2"
  }
 },
 "nbformat": 4,
 "nbformat_minor": 2
}
