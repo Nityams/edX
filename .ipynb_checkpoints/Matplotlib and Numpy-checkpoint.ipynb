{
 "cells": [
  {
   "cell_type": "code",
   "execution_count": 172,
   "metadata": {
    "collapsed": true
   },
   "outputs": [],
   "source": [
    "# Data Source: https://www.kaggle.com/worldbank/world-development-indicators\n",
    "# Folder: 'world-development-indicators'"
   ]
  },
  {
   "cell_type": "markdown",
   "metadata": {},
   "source": [
    "<br><br><br><br><br><h1 style=\"font-size:4em;color:#2467C0\">World Development Indicators</h1><br><br><br><br><br>"
   ]
  },
  {
   "cell_type": "code",
   "execution_count": 175,
   "metadata": {
    "collapsed": false
   },
   "outputs": [],
   "source": [
    "import pandas as pd\n",
    "import numpy as np\n",
    "import random"
   ]
  },
  {
   "cell_type": "code",
   "execution_count": 176,
   "metadata": {
    "collapsed": false
   },
   "outputs": [
    {
     "data": {
      "text/plain": [
       "(5656458, 6)"
      ]
     },
     "execution_count": 176,
     "metadata": {},
     "output_type": "execute_result"
    }
   ],
   "source": [
    "data = pd.read_csv('./world-development-indicators/Indicators.csv')\n",
    "data.shape"
   ]
  },
  {
   "cell_type": "code",
   "execution_count": 177,
   "metadata": {
    "collapsed": false
   },
   "outputs": [
    {
     "data": {
      "text/html": [
       "<div>\n",
       "<table border=\"1\" class=\"dataframe\">\n",
       "  <thead>\n",
       "    <tr style=\"text-align: right;\">\n",
       "      <th></th>\n",
       "      <th>CountryName</th>\n",
       "      <th>CountryCode</th>\n",
       "      <th>IndicatorName</th>\n",
       "      <th>IndicatorCode</th>\n",
       "      <th>Year</th>\n",
       "      <th>Value</th>\n",
       "    </tr>\n",
       "  </thead>\n",
       "  <tbody>\n",
       "    <tr>\n",
       "      <th>0</th>\n",
       "      <td>Arab World</td>\n",
       "      <td>ARB</td>\n",
       "      <td>Adolescent fertility rate (births per 1,000 wo...</td>\n",
       "      <td>SP.ADO.TFRT</td>\n",
       "      <td>1960</td>\n",
       "      <td>133.560907</td>\n",
       "    </tr>\n",
       "  </tbody>\n",
       "</table>\n",
       "</div>"
      ],
      "text/plain": [
       "  CountryName CountryCode                                      IndicatorName  \\\n",
       "0  Arab World         ARB  Adolescent fertility rate (births per 1,000 wo...   \n",
       "\n",
       "  IndicatorCode  Year       Value  \n",
       "0   SP.ADO.TFRT  1960  133.560907  "
      ]
     },
     "execution_count": 177,
     "metadata": {},
     "output_type": "execute_result"
    }
   ],
   "source": [
    "data.head(1)"
   ]
  },
  {
   "cell_type": "code",
   "execution_count": 196,
   "metadata": {
    "collapsed": false
   },
   "outputs": [
    {
     "data": {
      "text/plain": [
       "247"
      ]
     },
     "execution_count": 196,
     "metadata": {},
     "output_type": "execute_result"
    }
   ],
   "source": [
    "# How many unique country names are there ?\n",
    "countries = data['CountryName'].unique().tolist()\n",
    "len(countries)"
   ]
  },
  {
   "cell_type": "code",
   "execution_count": 197,
   "metadata": {
    "collapsed": false
   },
   "outputs": [
    {
     "name": "stdout",
     "output_type": "stream",
     "text": [
      "['ARB', 'CSS', 'CEB', 'EAS', 'EAP', 'EMU', 'ECS', 'ECA', 'EUU', 'FCS', 'HPC', 'HIC', 'NOC', 'OEC', 'LCN', 'LAC', 'LDC', 'LMY', 'LIC', 'LMC', 'MEA', 'MNA', 'MIC', 'NAC', 'OED', 'OSS', 'PSS', 'SST', 'SAS', 'SSF', 'SSA', 'UMC', 'WLD', 'AFG', 'ALB', 'DZA', 'ASM', 'ADO', 'AGO', 'ATG', 'ARG', 'ARM', 'ABW', 'AUS', 'AUT', 'AZE', 'BHS', 'BHR', 'BGD', 'BRB', 'BLR', 'BEL', 'BLZ', 'BEN', 'BMU', 'BTN', 'BOL', 'BIH', 'BWA', 'BRA', 'BRN', 'BGR', 'BFA', 'BDI', 'CPV', 'KHM', 'CMR', 'CAN', 'CYM', 'CAF', 'TCD', 'CHI', 'CHL', 'CHN', 'COL', 'COM', 'ZAR', 'COG', 'CRI', 'CIV', 'HRV', 'CUB', 'CUW', 'CYP', 'CZE', 'DNK', 'DJI', 'DMA', 'DOM', 'ECU', 'EGY', 'SLV', 'GNQ', 'ERI', 'EST', 'ETH', 'FRO', 'FJI', 'FIN', 'FRA', 'PYF', 'GAB', 'GMB', 'GEO', 'DEU', 'GHA', 'GRC', 'GRL', 'GRD', 'GUM', 'GTM', 'GIN', 'GNB', 'GUY', 'HTI', 'HND', 'HKG', 'HUN', 'ISL', 'IND', 'IDN', 'IRN', 'IRQ', 'IRL', 'IMY', 'ISR', 'ITA', 'JAM', 'JPN', 'JOR', 'KAZ', 'KEN', 'KIR', 'PRK', 'KOR', 'KSV', 'KWT', 'KGZ', 'LAO', 'LVA', 'LBN', 'LSO', 'LBR', 'LBY', 'LIE', 'LTU', 'LUX', 'MAC', 'MKD', 'MDG', 'MWI', 'MYS', 'MDV', 'MLI', 'MLT', 'MHL', 'MRT', 'MUS', 'MEX', 'FSM', 'MDA', 'MCO', 'MNG', 'MNE', 'MAR', 'MOZ', 'MMR', 'NAM', 'NPL', 'NLD', 'NCL', 'NZL', 'NIC', 'NER', 'NGA', 'MNP', 'NOR', 'OMN', 'PAK', 'PLW', 'PAN', 'PNG', 'PRY', 'PER', 'PHL', 'POL', 'PRT', 'PRI', 'QAT', 'ROM', 'RUS', 'RWA', 'WSM', 'SMR', 'STP', 'SAU', 'SEN', 'SRB', 'SYC', 'SLE', 'SGP', 'SXM', 'SVK', 'SVN', 'SLB', 'SOM', 'ZAF', 'SSD', 'ESP', 'LKA', 'KNA', 'LCA', 'MAF', 'VCT', 'SDN', 'SUR', 'SWZ', 'SWE', 'CHE', 'SYR', 'TJK', 'TZA', 'THA', 'TMP', 'TGO', 'TON', 'TTO', 'TUN', 'TUR', 'TKM', 'TCA', 'TUV', 'UGA', 'UKR', 'ARE', 'GBR', 'USA', 'URY', 'UZB', 'VUT', 'VEN', 'VNM', 'VIR', 'WBG', 'YEM', 'ZMB', 'ZWE']\n"
     ]
    }
   ],
   "source": [
    "# How many unique country codes are there ? (should be the same #)\n",
    "countryCodes = data['CountryCode'].unique().tolist()\n",
    "print(countryCodes)"
   ]
  },
  {
   "cell_type": "code",
   "execution_count": 198,
   "metadata": {
    "collapsed": false
   },
   "outputs": [
    {
     "data": {
      "text/plain": [
       "1344"
      ]
     },
     "execution_count": 198,
     "metadata": {},
     "output_type": "execute_result"
    }
   ],
   "source": [
    "# How many unique indicators are there ? (should be the same #)\n",
    "indicators = data['IndicatorName'].unique().tolist()\n",
    "len(indicators)"
   ]
  },
  {
   "cell_type": "code",
   "execution_count": 199,
   "metadata": {
    "collapsed": false
   },
   "outputs": [
    {
     "data": {
      "text/plain": [
       "56"
      ]
     },
     "execution_count": 199,
     "metadata": {},
     "output_type": "execute_result"
    }
   ],
   "source": [
    "# How many years of data do we have ?\n",
    "years = data['Year'].unique().tolist()\n",
    "len(years)"
   ]
  },
  {
   "cell_type": "markdown",
   "metadata": {},
   "source": [
    "# Let us plot some parameters"
   ]
  },
  {
   "cell_type": "code",
   "execution_count": 347,
   "metadata": {
    "collapsed": false
   },
   "outputs": [],
   "source": [
    "# Filter 1\n",
    "\n",
    "# Picks years of choice\n",
    "yearsFilter = [2010, 2011, 2012, 2013, 2014]"
   ]
  },
  {
   "cell_type": "code",
   "execution_count": 348,
   "metadata": {
    "collapsed": false,
    "scrolled": false
   },
   "outputs": [],
   "source": [
    "# Filter 2 \n",
    "\n",
    "# Pick 2 countries randomly\n",
    "countryFilter = random.sample(countries, 2)"
   ]
  },
  {
   "cell_type": "code",
   "execution_count": 349,
   "metadata": {
    "collapsed": false
   },
   "outputs": [
    {
     "data": {
      "text/plain": [
       "['East Asia & Pacific (all income levels)', 'Jordan']"
      ]
     },
     "execution_count": 349,
     "metadata": {},
     "output_type": "execute_result"
    }
   ],
   "source": [
    "countryFilter"
   ]
  },
  {
   "cell_type": "code",
   "execution_count": 350,
   "metadata": {
    "collapsed": false
   },
   "outputs": [
    {
     "data": {
      "text/plain": [
       "['Electricity production from hydroelectric sources (% of total)']"
      ]
     },
     "execution_count": 350,
     "metadata": {},
     "output_type": "execute_result"
    }
   ],
   "source": [
    "# Filter 3\n",
    "\n",
    "# Pick 1 Indicator randomly\n",
    "indicatorsFilter = random.sample(indicators, 1)\n",
    "indicatorsFilter"
   ]
  },
  {
   "cell_type": "code",
   "execution_count": 351,
   "metadata": {
    "collapsed": true
   },
   "outputs": [],
   "source": [
    "filteredData1 = []\n",
    "filteredData2 = []"
   ]
  },
  {
   "cell_type": "code",
   "execution_count": 352,
   "metadata": {
    "collapsed": false
   },
   "outputs": [
    {
     "name": "stdout",
     "output_type": "stream",
     "text": [
      "Skipping ... ['Female headed households (% of households with a female head)'] since very few rows (2) found\n",
      "Skipping ... ['GDP, PPP (constant 2011 international $)'] since very few rows (5) found\n"
     ]
    }
   ],
   "source": [
    "'''\n",
    "Plot: \n",
    "countryFilter:    pick two countries, \n",
    "indicatorsFilter: pick an indicator, \n",
    "yearsFilter: plot for years in yearsFilter\n",
    "'''\n",
    "\n",
    "while(len(filteredData1) < len(yearsFilter)-1):\n",
    "    #pick new indicator\n",
    "    indicatorsFilter = random.sample(indicators, 1)\n",
    "    countryFilter    = random.sample(countries, 2)\n",
    "    filterMesh = (data['CountryName'] == countryFilter[0]) & (data['IndicatorName'].isin(indicatorsFilter)) & (data['Year'].isin(yearsFilter))\n",
    "    filteredData1 = data.loc[filterMesh]\n",
    "    filteredData1 = filteredData1[['CountryName','IndicatorName','Year','Value']]\n",
    "\n",
    "    print('Skipping ... %s since very few rows (%d) found' % (indicatorsFilter, len(filteredData1)))\n"
   ]
  },
  {
   "cell_type": "code",
   "execution_count": 353,
   "metadata": {
    "collapsed": false
   },
   "outputs": [
    {
     "data": {
      "text/plain": [
       "5"
      ]
     },
     "execution_count": 353,
     "metadata": {},
     "output_type": "execute_result"
    }
   ],
   "source": [
    "len(filteredData1)"
   ]
  },
  {
   "cell_type": "code",
   "execution_count": 354,
   "metadata": {
    "collapsed": false
   },
   "outputs": [
    {
     "name": "stdout",
     "output_type": "stream",
     "text": [
      "Skipping ... Fiji, since very few rows (5) found\n"
     ]
    }
   ],
   "source": [
    "'''\n",
    "Country 2\n",
    "'''\n",
    "\n",
    "while(len(filteredData2) < len(filteredData1)-1):\n",
    "    filterMesh = (data['CountryName'] == countryFilter[1]) & (data['IndicatorName'].isin(indicatorsFilter)) & (data['Year'].isin(yearsFilter))\n",
    "    filteredData2 = data.loc[filterMesh]\n",
    "    filteredData2 = filteredData2[['CountryName','IndicatorName','Year','Value']]\n",
    "    #pick new indicator\n",
    "    old = countryFilter[1]\n",
    "    countryFilter[1]    = random.sample(countries, 1)[0]\n",
    "    print('Skipping ... %s, since very few rows (%d) found' % (old, len(filteredData2)))"
   ]
  },
  {
   "cell_type": "code",
   "execution_count": 355,
   "metadata": {
    "collapsed": false
   },
   "outputs": [],
   "source": [
    "if len(filteredData1) < len(filteredData2):\n",
    "    small = len(filteredData1)\n",
    "else:\n",
    "    small = len(filteredData2)"
   ]
  },
  {
   "cell_type": "code",
   "execution_count": 356,
   "metadata": {
    "collapsed": false
   },
   "outputs": [],
   "source": [
    "filteredData1=filteredData1[0:small]\n",
    "filteredData2=filteredData2[0:small]"
   ]
  },
  {
   "cell_type": "code",
   "execution_count": 357,
   "metadata": {
    "collapsed": false
   },
   "outputs": [
    {
     "data": {
      "text/html": [
       "<div>\n",
       "<table border=\"1\" class=\"dataframe\">\n",
       "  <thead>\n",
       "    <tr style=\"text-align: right;\">\n",
       "      <th></th>\n",
       "      <th>CountryName</th>\n",
       "      <th>IndicatorName</th>\n",
       "      <th>Year</th>\n",
       "      <th>Value</th>\n",
       "    </tr>\n",
       "  </thead>\n",
       "  <tbody>\n",
       "    <tr>\n",
       "      <th>4859276</th>\n",
       "      <td>Sub-Saharan Africa (all income levels)</td>\n",
       "      <td>GDP, PPP (constant 2011 international $)</td>\n",
       "      <td>2010</td>\n",
       "      <td>2.742822e+12</td>\n",
       "    </tr>\n",
       "    <tr>\n",
       "      <th>5044842</th>\n",
       "      <td>Sub-Saharan Africa (all income levels)</td>\n",
       "      <td>GDP, PPP (constant 2011 international $)</td>\n",
       "      <td>2011</td>\n",
       "      <td>2.865160e+12</td>\n",
       "    </tr>\n",
       "    <tr>\n",
       "      <th>5221055</th>\n",
       "      <td>Sub-Saharan Africa (all income levels)</td>\n",
       "      <td>GDP, PPP (constant 2011 international $)</td>\n",
       "      <td>2012</td>\n",
       "      <td>2.968024e+12</td>\n",
       "    </tr>\n",
       "    <tr>\n",
       "      <th>5394575</th>\n",
       "      <td>Sub-Saharan Africa (all income levels)</td>\n",
       "      <td>GDP, PPP (constant 2011 international $)</td>\n",
       "      <td>2013</td>\n",
       "      <td>3.111669e+12</td>\n",
       "    </tr>\n",
       "    <tr>\n",
       "      <th>5544831</th>\n",
       "      <td>Sub-Saharan Africa (all income levels)</td>\n",
       "      <td>GDP, PPP (constant 2011 international $)</td>\n",
       "      <td>2014</td>\n",
       "      <td>3.265557e+12</td>\n",
       "    </tr>\n",
       "  </tbody>\n",
       "</table>\n",
       "</div>"
      ],
      "text/plain": [
       "                                    CountryName  \\\n",
       "4859276  Sub-Saharan Africa (all income levels)   \n",
       "5044842  Sub-Saharan Africa (all income levels)   \n",
       "5221055  Sub-Saharan Africa (all income levels)   \n",
       "5394575  Sub-Saharan Africa (all income levels)   \n",
       "5544831  Sub-Saharan Africa (all income levels)   \n",
       "\n",
       "                                    IndicatorName  Year         Value  \n",
       "4859276  GDP, PPP (constant 2011 international $)  2010  2.742822e+12  \n",
       "5044842  GDP, PPP (constant 2011 international $)  2011  2.865160e+12  \n",
       "5221055  GDP, PPP (constant 2011 international $)  2012  2.968024e+12  \n",
       "5394575  GDP, PPP (constant 2011 international $)  2013  3.111669e+12  \n",
       "5544831  GDP, PPP (constant 2011 international $)  2014  3.265557e+12  "
      ]
     },
     "execution_count": 357,
     "metadata": {},
     "output_type": "execute_result"
    }
   ],
   "source": [
    "filteredData1"
   ]
  },
  {
   "cell_type": "code",
   "execution_count": 358,
   "metadata": {
    "collapsed": false
   },
   "outputs": [
    {
     "data": {
      "text/html": [
       "<div>\n",
       "<table border=\"1\" class=\"dataframe\">\n",
       "  <thead>\n",
       "    <tr style=\"text-align: right;\">\n",
       "      <th></th>\n",
       "      <th>CountryName</th>\n",
       "      <th>IndicatorName</th>\n",
       "      <th>Year</th>\n",
       "      <th>Value</th>\n",
       "    </tr>\n",
       "  </thead>\n",
       "  <tbody>\n",
       "    <tr>\n",
       "      <th>4912846</th>\n",
       "      <td>Fiji</td>\n",
       "      <td>GDP, PPP (constant 2011 international $)</td>\n",
       "      <td>2010</td>\n",
       "      <td>6.697771e+09</td>\n",
       "    </tr>\n",
       "    <tr>\n",
       "      <th>5095471</th>\n",
       "      <td>Fiji</td>\n",
       "      <td>GDP, PPP (constant 2011 international $)</td>\n",
       "      <td>2011</td>\n",
       "      <td>6.493470e+09</td>\n",
       "    </tr>\n",
       "    <tr>\n",
       "      <th>5270947</th>\n",
       "      <td>Fiji</td>\n",
       "      <td>GDP, PPP (constant 2011 international $)</td>\n",
       "      <td>2012</td>\n",
       "      <td>6.599638e+09</td>\n",
       "    </tr>\n",
       "    <tr>\n",
       "      <th>5438990</th>\n",
       "      <td>Fiji</td>\n",
       "      <td>GDP, PPP (constant 2011 international $)</td>\n",
       "      <td>2013</td>\n",
       "      <td>6.952811e+09</td>\n",
       "    </tr>\n",
       "    <tr>\n",
       "      <th>5575553</th>\n",
       "      <td>Fiji</td>\n",
       "      <td>GDP, PPP (constant 2011 international $)</td>\n",
       "      <td>2014</td>\n",
       "      <td>7.435654e+09</td>\n",
       "    </tr>\n",
       "  </tbody>\n",
       "</table>\n",
       "</div>"
      ],
      "text/plain": [
       "        CountryName                             IndicatorName  Year  \\\n",
       "4912846        Fiji  GDP, PPP (constant 2011 international $)  2010   \n",
       "5095471        Fiji  GDP, PPP (constant 2011 international $)  2011   \n",
       "5270947        Fiji  GDP, PPP (constant 2011 international $)  2012   \n",
       "5438990        Fiji  GDP, PPP (constant 2011 international $)  2013   \n",
       "5575553        Fiji  GDP, PPP (constant 2011 international $)  2014   \n",
       "\n",
       "                Value  \n",
       "4912846  6.697771e+09  \n",
       "5095471  6.493470e+09  \n",
       "5270947  6.599638e+09  \n",
       "5438990  6.952811e+09  \n",
       "5575553  7.435654e+09  "
      ]
     },
     "execution_count": 358,
     "metadata": {},
     "output_type": "execute_result"
    }
   ],
   "source": [
    "filteredData2"
   ]
  },
  {
   "cell_type": "code",
   "execution_count": 359,
   "metadata": {
    "collapsed": false
   },
   "outputs": [],
   "source": [
    "ymin = min(filteredData1['Value'].min(), filteredData2['Value'].min())\n",
    "ymax = max(filteredData1['Value'].max(), filteredData2['Value'].max())\n",
    "limt = max(abs(ymin), abs(ymax))"
   ]
  },
  {
   "cell_type": "code",
   "execution_count": 372,
   "metadata": {
    "collapsed": false
   },
   "outputs": [],
   "source": [
    "import matplotlib.pyplot as plt\n",
    "\n",
    "fig, ax = plt.subplots(figsize=(20, 10))\n",
    "\n",
    "ax.set_ylim(filteredData1['Value'].min(), filteredData1['Value'].max())\n",
    "\n",
    "ax.plot(filteredData1['Year'], filteredData1['Value'] , 'r--', label=filteredData1['CountryName'].unique()) \n",
    "\n",
    "# Add the legend:\n",
    "legend = plt.legend(loc = 'upper center', \n",
    "                    shadow=True,\n",
    "                    prop={'weight':'roman','size':'xx-large'})\n",
    "\n",
    "# Rectangle surrounding the legengframe = legend.get_frame()\n",
    "frame.set_facecolor('.90')"
   ]
  },
  {
   "cell_type": "code",
   "execution_count": 373,
   "metadata": {
    "collapsed": false
   },
   "outputs": [
    {
     "data": {
      "image/png": "[encoded data removed]",
      "text/plain": [
       "<matplotlib.figure.Figure at 0x7fb290990e80>"
      ]
     },
     "metadata": {},
     "output_type": "display_data"
    }
   ],
   "source": [
    "plt.show()"
   ]
  },
  {
   "cell_type": "code",
   "execution_count": 380,
   "metadata": {
    "collapsed": false
   },
   "outputs": [],
   "source": [
    "import matplotlib.pyplot as plt\n",
    "\n",
    "fig, ax = plt.subplots(figsize=(20, 10))\n",
    "\n",
    "ax.set_ylim(filteredData2['Value'].min(), filteredData2['Value'].max())\n",
    "\n",
    "ax.plot(filteredData2['Year'], filteredData2['Value'] , 'b--', label=filteredData2['CountryName'].unique()) \n",
    "\n",
    "\n",
    "# Add the legend:\n",
    "legend = plt.legend(loc = 'upper center', \n",
    "                    shadow=True,\n",
    "                    prop={'weight':'roman','size':'xx-large'})\n",
    "\n",
    "# Rectangle surrounding the legengframe = legend.get_frame()\n",
    "frame.set_facecolor('.90')"
   ]
  },
  {
   "cell_type": "code",
   "execution_count": 381,
   "metadata": {
    "collapsed": false
   },
   "outputs": [
    {
     "data": {
      "image/png": "[encoded data removed]",
      "text/plain": [
       "<matplotlib.figure.Figure at 0x7fb28fdbf710>"
      ]
     },
     "metadata": {},
     "output_type": "display_data"
    }
   ],
   "source": [
    "plt.show()"
   ]
  },
  {
   "cell_type": "code",
   "execution_count": null,
   "metadata": {
    "collapsed": true
   },
   "outputs": [],
   "source": []
  }
 ],
 "metadata": {
  "kernelspec": {
   "display_name": "Python 3",
   "language": "python",
   "name": "python3"
  },
  "language_info": {
   "codemirror_mode": {
    "name": "ipython",
    "version": 3
   },
   "file_extension": ".py",
   "mimetype": "text/x-python",
   "name": "python",
   "nbconvert_exporter": "python",
   "pygments_lexer": "ipython3",
   "version": "3.6.0"
  }
 },
 "nbformat": 4,
 "nbformat_minor": 2
}
