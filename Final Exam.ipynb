{
 "cells": [
  {
   "cell_type": "markdown",
   "metadata": {},
   "source": [
    "# Python Basics"
   ]
  },
  {
   "cell_type": "code",
   "execution_count": 85,
   "metadata": {},
   "outputs": [
    {
     "name": "stdout",
     "output_type": "stream",
     "text": [
      "7 ,  3\n"
     ]
    }
   ],
   "source": [
    "x = 3\n",
    "y = x\n",
    "x = 7\n",
    "print(x, \", \", y)"
   ]
  },
  {
   "cell_type": "code",
   "execution_count": 87,
   "metadata": {},
   "outputs": [
    {
     "name": "stdout",
     "output_type": "stream",
     "text": [
      "[1, 2, 3]\n"
     ]
    }
   ],
   "source": [
    "a = [1,2,3]\n",
    "b = list(a)\n",
    "b[0]=6\n",
    "print(a)"
   ]
  },
  {
   "cell_type": "markdown",
   "metadata": {},
   "source": [
    "# Numpy"
   ]
  },
  {
   "cell_type": "code",
   "execution_count": 13,
   "metadata": {},
   "outputs": [],
   "source": [
    "import numpy as np\n",
    "#setup an initial array\n",
    "an_array = np.array([[11,12,13,14], [21,22,23,24], [31,32,33,34]])"
   ]
  },
  {
   "cell_type": "markdown",
   "metadata": {},
   "source": [
    "### 1. Slicing (produce code)\n",
    "Which command will give you back:<br>\n",
    "array([[22, 23],<br>\n",
    "            [32, 33]])\n"
   ]
  },
  {
   "cell_type": "code",
   "execution_count": 40,
   "metadata": {},
   "outputs": [
    {
     "data": {
      "text/plain": [
       "array([[22, 23],\n",
       "       [32, 33]])"
      ]
     },
     "execution_count": 40,
     "metadata": {},
     "output_type": "execute_result"
    }
   ],
   "source": [
    "an_array[1:,1:3]"
   ]
  },
  {
   "cell_type": "markdown",
   "metadata": {},
   "source": [
    "### 2. Boolean Indexing\n",
    "Which command gives you back:\n",
    "\n",
    "array([[False, False, False, False],<br>\n",
    "       [ True,  True,  True,  True],<br>\n",
    "       [ True,  True, False,  True]], dtype=bool)"
   ]
  },
  {
   "cell_type": "code",
   "execution_count": 53,
   "metadata": {},
   "outputs": [
    {
     "data": {
      "text/plain": [
       "array([[False, False, False, False],\n",
       "       [ True,  True,  True,  True],\n",
       "       [ True,  True, False,  True]], dtype=bool)"
      ]
     },
     "execution_count": 53,
     "metadata": {},
     "output_type": "execute_result"
    }
   ],
   "source": [
    "#(an_array>20) & ( (an_array<32) | (an_array%2==0))\n",
    "(an_array>20) & (an_array!=33)\n",
    "#slice = an_array[(an_array>20) & ( (an_array<32) | (an_array%2==0))]\n"
   ]
  },
  {
   "cell_type": "markdown",
   "metadata": {},
   "source": [
    "### 3. Slicing (Tracing)\n",
    "What does the following command produce?"
   ]
  },
  {
   "cell_type": "code",
   "execution_count": 54,
   "metadata": {},
   "outputs": [
    {
     "data": {
      "text/plain": [
       "array([12, 13])"
      ]
     },
     "execution_count": 54,
     "metadata": {},
     "output_type": "execute_result"
    }
   ],
   "source": [
    "an_array[0, 1:3]"
   ]
  },
  {
   "cell_type": "markdown",
   "metadata": {},
   "source": [
    "### 4. Broadcasting Rules\n",
    "\n",
    "Which of the following would cause an error? (Select all that apply)"
   ]
  },
  {
   "cell_type": "code",
   "execution_count": 63,
   "metadata": {},
   "outputs": [
    {
     "data": {
      "text/plain": [
       "array([[12, 14, 16, 18],\n",
       "       [22, 24, 26, 28],\n",
       "       [32, 34, 36, 38]])"
      ]
     },
     "execution_count": 63,
     "metadata": {},
     "output_type": "execute_result"
    }
   ],
   "source": [
    "an_array + (np.array([1,2,3,4])).T"
   ]
  },
  {
   "cell_type": "code",
   "execution_count": 64,
   "metadata": {},
   "outputs": [
    {
     "data": {
      "text/plain": [
       "array([[12, 14, 16, 18],\n",
       "       [22, 24, 26, 28],\n",
       "       [32, 34, 36, 38]])"
      ]
     },
     "execution_count": 64,
     "metadata": {},
     "output_type": "execute_result"
    }
   ],
   "source": [
    "an_array + np.array([1,2,3,4])"
   ]
  },
  {
   "cell_type": "code",
   "execution_count": 68,
   "metadata": {},
   "outputs": [
    {
     "ename": "ValueError",
     "evalue": "operands could not be broadcast together with shapes (3,4) (1,3) ",
     "output_type": "error",
     "traceback": [
      "\u001b[0;31m---------------------------------------------------------------------------\u001b[0m",
      "\u001b[0;31mValueError\u001b[0m                                Traceback (most recent call last)",
      "\u001b[0;32m<ipython-input-68-74ac0f679327>\u001b[0m in \u001b[0;36m<module>\u001b[0;34m()\u001b[0m\n\u001b[0;32m----> 1\u001b[0;31m \u001b[0man_array\u001b[0m \u001b[0;34m+\u001b[0m \u001b[0;34m(\u001b[0m\u001b[0mnp\u001b[0m\u001b[0;34m.\u001b[0m\u001b[0marray\u001b[0m\u001b[0;34m(\u001b[0m\u001b[0;34m[\u001b[0m\u001b[0;34m[\u001b[0m\u001b[0;36m1\u001b[0m\u001b[0;34m,\u001b[0m\u001b[0;36m2\u001b[0m\u001b[0;34m,\u001b[0m\u001b[0;36m3\u001b[0m\u001b[0;34m]\u001b[0m\u001b[0;34m]\u001b[0m\u001b[0;34m)\u001b[0m\u001b[0;34m)\u001b[0m\u001b[0;34m\u001b[0m\u001b[0m\n\u001b[0m",
      "\u001b[0;31mValueError\u001b[0m: operands could not be broadcast together with shapes (3,4) (1,3) "
     ]
    }
   ],
   "source": [
    "an_array + (np.array([[1,2,3]]))"
   ]
  },
  {
   "cell_type": "code",
   "execution_count": 66,
   "metadata": {},
   "outputs": [
    {
     "data": {
      "text/plain": [
       "array([[13, 14, 15, 16],\n",
       "       [23, 24, 25, 26],\n",
       "       [33, 34, 35, 36]])"
      ]
     },
     "execution_count": 66,
     "metadata": {},
     "output_type": "execute_result"
    }
   ],
   "source": [
    "an_array + np.array([2])"
   ]
  },
  {
   "cell_type": "markdown",
   "metadata": {},
   "source": [
    "### 5. Types in ndarray"
   ]
  },
  {
   "cell_type": "code",
   "execution_count": 81,
   "metadata": {},
   "outputs": [],
   "source": [
    "arr = np.array([1,2])+1.4"
   ]
  },
  {
   "cell_type": "code",
   "execution_count": 82,
   "metadata": {},
   "outputs": [
    {
     "data": {
      "text/plain": [
       "dtype('float64')"
      ]
     },
     "execution_count": 82,
     "metadata": {},
     "output_type": "execute_result"
    }
   ],
   "source": [
    "arr.dtype\n"
   ]
  },
  {
   "cell_type": "markdown",
   "metadata": {},
   "source": [
    "# Visualization"
   ]
  },
  {
   "cell_type": "code",
   "execution_count": 93,
   "metadata": {},
   "outputs": [
    {
     "data": {
      "image/png": "[encoded data removed]",
      "text/plain": [
       "<matplotlib.figure.Figure at 0x7f2469ce8c50>"
      ]
     },
     "metadata": {},
     "output_type": "display_data"
    }
   ],
   "source": [
    "import numpy as np\n",
    "import matplotlib.pyplot as plt\n",
    "#plt.style.use('fivethirtyeight') \n",
    "plt.style.use('default') \n",
    "\n",
    "sales_16 = (19000,21500,21000,21200)\n",
    "\n",
    "quarters = (\"2013\", \"2014\",\"2015\",\"2016\")\n",
    " \n",
    "# create plot\n",
    "fig, ax = plt.subplots()\n",
    "index = np.arange(len(quarters))\n",
    "bar_width = 0.35\n",
    "opacity = 0.8\n",
    " \n",
    "rects1 = plt.bar(index, sales_16, bar_width,\n",
    "                 alpha=opacity,\n",
    "                 color='b',\n",
    "                 label='Standard Instruction')\n",
    " \n",
    "#rects2 = plt.bar(index + bar_width, means_PI, bar_width,\n",
    "#                 alpha=opacity,\n",
    "#                 color='g',\n",
    "#                 label='Peer Instruction')\n",
    " \n",
    "#plt.xlabel('* denotes statistically significant (p<0.05)',fontsize=12,fontstyle='italic')\n",
    "plt.ylabel('Units Sold',fontsize=14)\n",
    "plt.title('Sales Remain Steady', fontsize=20, color='g')\n",
    "plt.xticks(index, quarters, fontsize = 14)\n",
    "\n",
    "plt.yticks(fontsize = 8)\n",
    "\n",
    "#vals = ax.get_yticks()\n",
    "#ax.set_yticklabels(['{:3.0f}%'.format(x) for x in vals])\n",
    "\n",
    "#plt.legend(bbox_to_anchor=(0., 1.02, 1., .102), loc=3,\n",
    "#           ncol=2, mode=\"expand\", borderaxespad=0., fontsize=14,frameon=False)\n",
    "#plt.legend()\n",
    "\n",
    "x1,x2,y1,y2 = plt.axis()\n",
    "\n",
    "#plt.axis((x1,x2,8.2,8.45))\n",
    "\n",
    "\n",
    "    \n",
    "#plt.tight_layout()\n",
    "plt.show()\n",
    "fig.savefig('vis_misleading2.png')"
   ]
  },
  {
   "cell_type": "code",
   "execution_count": 101,
   "metadata": {},
   "outputs": [
    {
     "data": {
      "image/png": "[encoded data removed]",
      "text/plain": [
       "<matplotlib.figure.Figure at 0x7f2468fb4ba8>"
      ]
     },
     "metadata": {},
     "output_type": "display_data"
    }
   ],
   "source": [
    "# drop question??  trying to do accessible by having a hard to reach chart and a better to read chart...\n",
    "# idea is to have a ton of bubble charts which just show more highly rated products make more money\n",
    "from pylab import *\n",
    "from scipy import *\n",
    "\n",
    "# reading the data from a csv file\n",
    "#durl = 'http://datasets.flowingdata.com/crimeRatesByState2005.csv'\n",
    "#rdata = genfromtxt(durl,dtype='S8,f,f,f,f,f,f,f,i',delimiter=',')\n",
    "\n",
    "#rdata[0] = zeros(8) # cutting the label's titles\n",
    "#rdata[1] = zeros(8) # cutting the global statistics\n",
    "\n",
    "x = [2013,2014,2015]\n",
    "y = [3,4,5]\n",
    "\n",
    "color = ['red','green','blue']\n",
    "area = [100,20,30]\n",
    "\n",
    "# making the scatter plot\n",
    "sct = scatter(x, y, c=color, s=area, linewidths=2, edgecolor='w')\n",
    "#sct.set_alpha(0.75)\n",
    "\n",
    "xlabel('Year')\n",
    "ylabel('Item Rating')\n",
    "\n",
    "show()"
   ]
  },
  {
   "cell_type": "code",
   "execution_count": null,
   "metadata": {
    "collapsed": true
   },
   "outputs": [],
   "source": []
  }
 ],
 "metadata": {
  "kernelspec": {
   "display_name": "Python 3",
   "language": "python",
   "name": "python3"
  },
  "language_info": {
   "codemirror_mode": {
    "name": "ipython",
    "version": 3
   },
   "file_extension": ".py",
   "mimetype": "text/x-python",
   "name": "python",
   "nbconvert_exporter": "python",
   "pygments_lexer": "ipython3",
   "version": "3.5.2"
  }
 },
 "nbformat": 4,
 "nbformat_minor": 2
}
