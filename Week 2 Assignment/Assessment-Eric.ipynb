{
 "cells": [
  {
   "cell_type": "markdown",
   "metadata": {},
   "source": [
    "# EdX Week 2 Assignment : Word Count in Python\n",
    "### Written by Eric Chen\n"
   ]
  },
  {
   "cell_type": "markdown",
   "metadata": {},
   "source": [
    "## Important\n",
    "\n",
    "- This outline is designed to guide you. By any means, you can adhere to other guidelines or information. You do not have to strictly follow this!\n",
    "\n",
    "- Your best friend will be Google, and the Python documentation!\n"
   ]
  },
  {
   "cell_type": "code",
   "execution_count": 1,
   "metadata": {
    "collapsed": true
   },
   "outputs": [],
   "source": [
    "#Import the necessary libraries. You will need this.\n",
    "from nltk.corpus import stopwords\n",
    "import nltk\n",
    "import operator\n",
    "from itertools import islice\n",
    "import collections"
   ]
  },
  {
   "cell_type": "code",
   "execution_count": 2,
   "metadata": {
    "collapsed": true
   },
   "outputs": [],
   "source": [
    "# Open the file. Ensure that it is in the same directory\n",
    "file=open('speeches.txt')"
   ]
  },
  {
   "cell_type": "code",
   "execution_count": 3,
   "metadata": {
    "collapsed": false,
    "scrolled": true
   },
   "outputs": [
    {
     "name": "stdout",
     "output_type": "stream",
     "text": [
      "{'do', 'theirs', 'don', 'in', 'now', 'than', 't', 'a', 'yourselves', 'too', 'them', 'through', 'by', 'themselves', 'they', 'yourself', 'this', 'is', 'you', 'where', 'about', 'haven', 'herself', 'his', 'ain', 'some', 'aren', 'during', 'd', 'until', 'doing', 'your', 'itself', 'be', 'her', 'if', 'for', 'from', 'having', 'himself', 'under', 'how', 'on', 'above', 'each', 'other', 'hers', 'ours', 'most', 've', 'myself', 'their', 'y', 'isn', 'both', 'between', 'o', 'further', 'once', 'hasn', 'been', 'did', 'because', 'will', 'yours', 'should', 'as', 'does', 'but', 'after', 'ourselves', 'its', 'we', 'no', 'more', 'and', 'shouldn', 'him', 'was', 'who', 'again', 'won', 'any', 'to', 'up', 'down', 'over', 'only', 'just', 'wouldn', 'off', 'own', 'what', 'those', 'at', 'couldn', 'which', 'out', 'all', 'here', 'nor', 'mustn', 'shan', 'am', 'wasn', 'needn', 'had', 'being', 'before', 'few', 'i', 'have', 'with', 'there', 'not', 'were', 'our', 'me', 'mightn', 'he', 'm', 'that', 'didn', 'can', 'below', 'hadn', 'my', 'these', 'of', 'or', 'are', 'has', 'into', 'such', 'against', 'the', 'll', 'while', 'why', 'she', 'same', 're', 'very', 'it', 'weren', 'then', 'when', 'so', 'an', 'doesn', 'ma', 's', 'whom'}\n",
      "done\n"
     ]
    }
   ],
   "source": [
    "# Make a list of stopwords using the nltk toolkit. \n",
    "\n",
    "stop = set(stopwords.words('english'))\n",
    "#stop.update(['.', ',', '', \"don't\", '?', '!', ':', ';', '(', ')', '[', ']', '{', '}', \"i'm\", \"they\", \"it's\"]) \n",
    "print(stop)\n",
    "\n",
    "print(\"done\")\n"
   ]
  },
  {
   "cell_type": "code",
   "execution_count": 5,
   "metadata": {
    "collapsed": false
   },
   "outputs": [],
   "source": [
    "wordcount={}\n",
    "\n",
    "# Instantiate a dictionary, and for every word in the file, add to the dictionary if it doesn't exist. If it does, increase the count.\n",
    "# Hint: To eliminate duplicates, remember to split by punctuation, and use case demiliters. The functions lower() and split() will be useful!\n",
    "for word in file.read().lower().split():\n",
    "    if word not in stop:\n",
    "        if word not in wordcount:\n",
    "            wordcount[word] = 1\n",
    "        else:\n",
    "            wordcount[word] += 1"
   ]
  },
  {
   "cell_type": "code",
   "execution_count": 6,
   "metadata": {
    "collapsed": false,
    "scrolled": false
   },
   "outputs": [
    {
     "data": {
      "text/plain": [
       "[]"
      ]
     },
     "execution_count": 6,
     "metadata": {},
     "output_type": "execute_result"
    }
   ],
   "source": [
    "#print(wordcount)\n",
    "#newA = dict(sorted(wordcount.items(), key=operator.itemgetter(1), reverse=True)[:20])\n",
    "#print(newA)\n",
    "\n",
    "# Sort the dictionary by the 20 most common words.\n",
    "d = collections.Counter(wordcount)\n",
    "d.most_common(20)\n"
   ]
  },
  {
   "cell_type": "code",
   "execution_count": 20,
   "metadata": {
    "collapsed": false
   },
   "outputs": [
    {
     "name": "stdout",
     "output_type": "stream",
     "text": [
      "going: 2043\n",
      "–: 1300\n",
      "it’s: 1094\n",
      "people: 964\n",
      "we’re: 964\n",
      "don’t: 858\n",
      "i’m: 757\n",
      "want: 732\n",
      "they’re: 670\n",
      "know: 655\n"
     ]
    }
   ],
   "source": [
    "# Print the most common ten words.\n",
    "for k, v in d.most_common(10):\n",
    "    print ('%s: %i' % (k, v))"
   ]
  },
  {
   "cell_type": "code",
   "execution_count": null,
   "metadata": {
    "collapsed": true
   },
   "outputs": [],
   "source": []
  }
 ],
 "metadata": {
  "kernelspec": {
   "display_name": "Python 3",
   "language": "python",
   "name": "python3"
  },
  "language_info": {
   "codemirror_mode": {
    "name": "ipython",
    "version": 3
   },
   "file_extension": ".py",
   "mimetype": "text/x-python",
   "name": "python",
   "nbconvert_exporter": "python",
   "pygments_lexer": "ipython3",
   "version": "3.6.0"
  }
 },
 "nbformat": 4,
 "nbformat_minor": 2
}
