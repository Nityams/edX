{
 "cells": [
  {
   "cell_type": "markdown",
   "metadata": {},
   "source": [
    "# EdX Week 2 Assignment : Word Count in Python\n",
    "### Written by Eric Chen\n",
    "(LP: we haven't had an author on prior notebooks other than the development team, so we should discuss)"
   ]
  },
  {
   "cell_type": "markdown",
   "metadata": {},
   "source": [
    "## Important\n",
    "\n",
    "- This outline is designed to guide you. By any means, you can adhere to other guidelines or information. You do not have to strictly follow this!\n",
    "\n",
    "- Your best friend will be Google, and the Python documentation!\n"
   ]
  },
  {
   "cell_type": "markdown",
   "metadata": {},
   "source": [
    "Let's grab the transcripts of recent Trump speeches. You can access these for educational use here:<br>\n",
    "https://github.com/ryanmcdermott/trump-speeches <br>\n",
    "or use the copy in the provided .zip file."
   ]
  },
  {
   "cell_type": "code",
   "execution_count": 50,
   "metadata": {
    "collapsed": true
   },
   "outputs": [],
   "source": [
    "#Import the necessary libraries. You will need this.\n",
    "from nltk.corpus import stopwords\n",
    "import nltk\n",
    "import operator\n",
    "from itertools import islice\n",
    "import collections"
   ]
  },
  {
   "cell_type": "markdown",
   "metadata": {},
   "source": [
    "Eric - we need to fine an open use file and one which is cleaned (no punctuation, etc.) to make this easier on the students"
   ]
  },
  {
   "cell_type": "code",
   "execution_count": 51,
   "metadata": {
    "collapsed": true
   },
   "outputs": [],
   "source": [
    "# Open the file. Ensure that it is in the same directory\n",
    "file=open('speeches.txt')"
   ]
  },
  {
   "cell_type": "markdown",
   "metadata": {},
   "source": [
    "Make sure you have the nltk on your machine. To do this, you can do:<br>\n",
    "\\>\\>\\> import nltk <br>\n",
    "\\>\\>\\> nltk.download()"
   ]
  },
  {
   "cell_type": "code",
   "execution_count": 52,
   "metadata": {
    "scrolled": true
   },
   "outputs": [
    {
     "name": "stdout",
     "output_type": "stream",
     "text": [
      "{'him', 'before', 'she', 'under', 'ma', 'such', 'am', 'whom', 'which', 'this', 'or', 'needn', 'both', 'have', 'further', 'i', 'me', 'same', 'a', 'where', 'ain', 'can', 'then', 'if', 'few', 'll', 'how', 'yourself', 'was', 'and', 'here', 't', 'its', 'being', 'ourselves', 'for', 'from', 'through', 'we', 's', 'out', 'they', 'yourselves', 'down', 'you', 'once', 're', 'as', 'most', 'did', 'weren', 'having', 'so', 'themselves', 'hers', 'doesn', 'than', 'until', 'all', 'about', 'during', 'hadn', 'between', 'y', 'myself', 'it', 'didn', 'them', 'an', 'to', 'just', 've', 'your', 'hasn', 'there', 'wasn', 'these', 'don', 'below', 'more', 'own', 'no', 'now', 'haven', 'is', 'each', 'but', 'with', 'theirs', 'm', 'shan', 'does', 'wouldn', 'will', 'won', 'because', 'in', 'too', 'above', 'couldn', 'who', 'do', 'd', 'ours', 'against', 'the', 'my', 'when', 'not', 'those', 'o', 'himself', 'on', 'aren', 'has', 'he', 'shouldn', 'while', 'up', 'mustn', 'why', 'were', 'at', 'over', 'our', 'very', 'are', 'his', 'mightn', 'be', 'after', 'doing', 'of', 'what', 'herself', 'by', 'had', 'that', 'other', 'isn', 'their', 'any', 'only', 'into', 'off', 'itself', 'been', 'nor', 'some', 'her', 'again', 'yours', 'should'}\n"
     ]
    }
   ],
   "source": [
    "# Make a list of stopwords using the nltk toolkit. \n",
    "from nltk.corpus import stopwords\n",
    "stop = set(stopwords.words('english'))\n",
    "print(stop)\n"
   ]
  },
  {
   "cell_type": "markdown",
   "metadata": {},
   "source": [
    "These stopwords will not cover all the words we'll want to strip out, so let's also use the stopwords from <br>\n",
    "https://github.com/amueller/word_cloud"
   ]
  },
  {
   "cell_type": "code",
   "execution_count": 53,
   "metadata": {},
   "outputs": [
    {
     "name": "stdout",
     "output_type": "stream",
     "text": [
      "{'him', 'before', 'she', 'under', 'ma', \"isn't\", \"weren't\", 'such', 'get', 'am', \"i'll\", 'whom', 'could', \"they've\", \"won't\", 'which', \"they'll\", \"she's\", 'this', 'or', 'needn', 'both', 'have', 'further', 'i', \"hasn't\", 'me', 'same', 'a', \"he'll\", 'where', 'ain', \"how's\", 'can', 'then', 'if', 'few', \"he's\", 'll', 'cannot', \"shan't\", \"you'd\", 'how', \"i'm\", 'yourself', 'was', 'and', 'here', 't', \"you're\", 'its', 'being', 'ourselves', 'for', 'from', 'through', \"where's\", 'we', 's', 'out', 'they', 'yourselves', 'down', \"you've\", 'you', \"doesn't\", \"there's\", 'once', \"what's\", \"she'd\", 're', \"who's\", \"hadn't\", 'as', 'most', '-', 'r', 'did', 'weren', 'having', 'so', \"we've\", '–', 'themselves', 'hers', 'doesn', 'than', 'until', 'like', \"why's\", 'all', 'about', 'during', 'hadn', 'between', 'y', 'myself', \"they're\", 'it', 'didn', 'them', 'an', \"we'd\", 'http', \"aren't\", 'to', 'just', 've', 'your', 'hasn', 'there', 'wasn', 'these', 'would', \"haven't\", 'don', \"it's\", 'below', 'more', 'own', 'no', 'now', 'haven', 'is', 'each', 'but', 'with', 'theirs', 'm', 'shan', 'does', 'wouldn', \"she'll\", 'will', 'won', 'because', 'in', 'too', 'above', 'couldn', 'ever', \"wasn't\", \"here's\", 'who', 'do', \"i've\", 'd', 'ours', \"when's\", 'against', 'com', 'the', 'my', 'when', \"he'd\", 'not', 'those', \"let's\", 'o', \"you'll\", 'himself', 'on', 'aren', 'has', 'he', \"i'd\", 'shouldn', 'while', 'up', 'shall', 'mustn', \"don't\", 'why', 'were', 'at', \"we'll\", \"can't\", 'over', 'ought', 'our', 'very', \"they'd\", 'are', 'his', 'mightn', \"wouldn't\", \"we're\", 'be', \"shouldn't\", 'after', 'doing', 'of', 'what', 'k', \"couldn't\", 'herself', 'by', \"mustn't\", 'had', 'that', 'other', 'isn', 'their', 'any', 'only', \"didn't\", 'into', 'else', 'off', 'itself', 'been', 'nor', 'www', 'some', 'her', 'again', 'yours', 'should', \"that's\"}\n"
     ]
    }
   ],
   "source": [
    "additional_stopwords = set(line.strip() for line in open('stopwords.txt'))\n",
    "stopwords = stop | additional_stopwords\n",
    "print(stopwords)"
   ]
  },
  {
   "cell_type": "code",
   "execution_count": 54,
   "metadata": {},
   "outputs": [],
   "source": [
    "wordcount={}\n",
    "\n",
    "# Instantiate a dictionary, and for every word in the file, add to the dictionary if it doesn't exist. If it does, increase the count.\n",
    "# Hint: To eliminate duplicates, remember to split by punctuation, and use case demiliters. The functions lower() and split() will be useful!\n",
    "for word in file.read().lower().split():\n",
    "    word.replace(\".\",\"\")\n",
    "    if word not in stopwords:\n",
    "        if word not in wordcount:\n",
    "            wordcount[word] = 1\n",
    "        else:\n",
    "            wordcount[word] += 1"
   ]
  },
  {
   "cell_type": "code",
   "execution_count": 55,
   "metadata": {},
   "outputs": [
    {
     "name": "stdout",
     "output_type": "stream",
     "text": [
      "False\n"
     ]
    }
   ],
   "source": [
    "print('i’m' in wordcount)"
   ]
  },
  {
   "cell_type": "code",
   "execution_count": 56,
   "metadata": {
    "scrolled": false
   },
   "outputs": [
    {
     "data": {
      "text/plain": [
       "[('going', 2043),\n",
       " ('people', 964),\n",
       " ('want', 732),\n",
       " ('know', 655),\n",
       " ('it.', 648),\n",
       " ('think', 596),\n",
       " ('great', 593),\n",
       " ('know,', 550),\n",
       " ('one', 506),\n",
       " ('said', 397),\n",
       " ('say', 367),\n",
       " ('said,', 365),\n",
       " ('got', 361),\n",
       " ('go', 355),\n",
       " ('lot', 340),\n",
       " ('make', 336),\n",
       " ('many', 329),\n",
       " ('really', 323),\n",
       " ('even', 312),\n",
       " ('take', 299)]"
      ]
     },
     "execution_count": 56,
     "metadata": {},
     "output_type": "execute_result"
    }
   ],
   "source": [
    "#print(wordcount)\n",
    "#newA = dict(sorted(wordcount.items(), key=operator.itemgetter(1), reverse=True)[:20])\n",
    "#print(newA)\n",
    "\n",
    "# Sort the dictionary by the 20 most common words.\n",
    "d = collections.Counter(wordcount)\n",
    "d.most_common(20)\n"
   ]
  },
  {
   "cell_type": "code",
   "execution_count": 57,
   "metadata": {},
   "outputs": [
    {
     "name": "stdout",
     "output_type": "stream",
     "text": [
      "going: 2043\n",
      "people: 964\n",
      "want: 732\n",
      "know: 655\n",
      "it.: 648\n",
      "think: 596\n",
      "great: 593\n",
      "know,: 550\n",
      "one: 506\n",
      "said: 397\n"
     ]
    }
   ],
   "source": [
    "# Print the most common ten words.\n",
    "for k, v in d.most_common(10):\n",
    "    print ('%s: %i' % (k, v))"
   ]
  },
  {
   "cell_type": "code",
   "execution_count": null,
   "metadata": {
    "collapsed": true
   },
   "outputs": [],
   "source": []
  }
 ],
 "metadata": {
  "kernelspec": {
   "display_name": "Python 3",
   "language": "python",
   "name": "python3"
  },
  "language_info": {
   "codemirror_mode": {
    "name": "ipython",
    "version": 3
   },
   "file_extension": ".py",
   "mimetype": "text/x-python",
   "name": "python",
   "nbconvert_exporter": "python",
   "pygments_lexer": "ipython3",
   "version": "3.5.2"
  }
 },
 "nbformat": 4,
 "nbformat_minor": 2
}
