{
 "cells": [
  {
   "cell_type": "markdown",
   "metadata": {},
   "source": [
    "# Astrophysics example: simulate Planck data"
   ]
  },
  {
   "cell_type": "code",
   "execution_count": 3,
   "metadata": {
    "collapsed": false,
    "scrolled": true
   },
   "outputs": [],
   "source": [
    "# This cells gives formatting to the images embedded in this Notebook\n",
    "from IPython.core.display import HTML\n",
    "HTML(\"\"\"\n",
    "<style>\n",
    "img[alt=image] { width: 300px; }\n",
    "</style>\n",
    "\"\"\");"
   ]
  },
  {
   "cell_type": "markdown",
   "metadata": {},
   "source": [
    "## The Planck satellite\n",
    "\n",
    "[Planck](http://www.esa.int/Our_Activities/Space_Science/Planck_overview) is a Space Mission by the European Space Agency in collaboration with NASA. Its purpose is to measure the Cosmic Microwave Background; the relic radiation, originated just 300,000 years after the Big Bang, is a pillar in understanding how the Universe was born and how it evolved into its current state.\n",
    "\n",
    "In this Notebook we will create a simulation of the Planck data using advanced functionalities of `pandas`.\n",
    "![image](http://www.esa.int/var/esa/storage/images/esa_multimedia/images/2009/03/planck_being_prepared_for_tests/9836424-3-eng-GB/Planck_being_prepared_for_tests.jpg)"
   ]
  },
  {
   "cell_type": "code",
   "execution_count": 4,
   "metadata": {
    "collapsed": true
   },
   "outputs": [],
   "source": [
    "import pandas as pd"
   ]
  },
  {
   "cell_type": "markdown",
   "metadata": {},
   "source": [
    "## Load a map created by the Planck satellite\n",
    "\n",
    "The Planck satellite has several frequency channels between 30 GHz and 857 GHz, let's choose one of the middle channels which are the cleanest channels to investigate the Cosmic Microwave Background: 70 GHz.\n",
    "\n",
    "I prepared a dataset from the official Planck 70 GHz map located at <http://irsa.ipac.caltech.edu/data/Planck/release_2/all-sky-maps/>, you can download it from **TODO** figshare address"
   ]
  },
  {
   "cell_type": "markdown",
   "metadata": {},
   "source": [
    "Let's use `!` to execute a shell command (`ls`) in the current folder to check that the file is available:"
   ]
  },
  {
   "cell_type": "code",
   "execution_count": 5,
   "metadata": {
    "collapsed": false
   },
   "outputs": [
    {
     "name": "stdout",
     "output_type": "stream",
     "text": [
      "planck_70GHz_map.hdf5\r\n"
     ]
    }
   ],
   "source": [
    "!ls planck*"
   ]
  },
  {
   "cell_type": "markdown",
   "metadata": {},
   "source": [
    "### HDF5\n",
    "\n",
    "[`HDF5`](https://en.wikipedia.org/wiki/Hierarchical_Data_Format) is a binary file format extremely efficient in storing scientific data. It is very convenient because it stores also metadata about the file content and can have a hierarchical structure. It is currently the more efficient general purpose file format in terms of space (it supports several compression algorithms) and reading speed (it also supports parallel access on Supercomputers).\n",
    "\n",
    "The first advanced `pandas` feature is reading and writing `pd.Series` and `pd.DataFrames` to `HDF5` with `read_hdf` and `to_hdf`.\n",
    "\n",
    "Let's read the map from `HDF5` into a `pandas` object:"
   ]
  },
  {
   "cell_type": "code",
   "execution_count": 6,
   "metadata": {
    "collapsed": true
   },
   "outputs": [],
   "source": [
    "planck_map = pd.read_hdf(\"planck_70GHz_map.hdf5\")"
   ]
  },
  {
   "cell_type": "code",
   "execution_count": 7,
   "metadata": {
    "collapsed": false
   },
   "outputs": [
    {
     "data": {
      "text/plain": [
       "pandas.core.series.Series"
      ]
     },
     "execution_count": 7,
     "metadata": {},
     "output_type": "execute_result"
    }
   ],
   "source": [
    "type(planck_map)"
   ]
  },
  {
   "cell_type": "markdown",
   "metadata": {},
   "source": [
    "The more portable way to save a `pd.DataFrame` to disk is `HDF5`,  `pickle` instead does not always work the same way on different platforms, `CSV` is text-based so it is an option only for small datasets."
   ]
  },
  {
   "cell_type": "markdown",
   "metadata": {},
   "source": [
    "It is a `pd.Series`, in fact it is only 1 column of data: **Temperature of the sky in Kelvin degrees**, let's inspect this object:"
   ]
  },
  {
   "cell_type": "code",
   "execution_count": 8,
   "metadata": {
    "collapsed": false
   },
   "outputs": [
    {
     "data": {
      "text/plain": [
       "(64800,)"
      ]
     },
     "execution_count": 8,
     "metadata": {},
     "output_type": "execute_result"
    }
   ],
   "source": [
    "planck_map.shape"
   ]
  },
  {
   "cell_type": "markdown",
   "metadata": {},
   "source": [
    "It is 500 thousand points, but how are those points organized?\n",
    "\n",
    "`pandas` objected are organized with their `index`, which is a label attached to every data point."
   ]
  },
  {
   "cell_type": "code",
   "execution_count": 9,
   "metadata": {
    "collapsed": false
   },
   "outputs": [
    {
     "data": {
      "text/plain": [
       "pandas.indexes.multi.MultiIndex"
      ]
     },
     "execution_count": 9,
     "metadata": {},
     "output_type": "execute_result"
    }
   ],
   "source": [
    "type(planck_map.index)"
   ]
  },
  {
   "cell_type": "code",
   "execution_count": 10,
   "metadata": {
    "collapsed": false
   },
   "outputs": [
    {
     "data": {
      "text/plain": [
       "latitude  longitude\n",
       "-90       -180        -0.002445\n",
       "          -179        -0.002445\n",
       "          -178        -0.002445\n",
       "          -177        -0.002445\n",
       "          -176        -0.002445\n",
       "Name: temperature, dtype: float64"
      ]
     },
     "execution_count": 10,
     "metadata": {},
     "output_type": "execute_result"
    }
   ],
   "source": [
    "planck_map.head()"
   ]
  },
  {
   "cell_type": "code",
   "execution_count": 11,
   "metadata": {
    "collapsed": false
   },
   "outputs": [
    {
     "data": {
      "text/plain": [
       "latitude  longitude\n",
       "90        176          0.002535\n",
       "          177          0.002535\n",
       "          178          0.002535\n",
       "          179          0.002535\n",
       "          180          0.002474\n",
       "Name: temperature, dtype: float64"
      ]
     },
     "execution_count": 11,
     "metadata": {},
     "output_type": "execute_result"
    }
   ],
   "source": [
    "planck_map.tail()"
   ]
  },
  {
   "cell_type": "code",
   "execution_count": 12,
   "metadata": {
    "collapsed": false
   },
   "outputs": [
    {
     "data": {
      "text/plain": [
       "FrozenList(['latitude', 'longitude'])"
      ]
     },
     "execution_count": 12,
     "metadata": {},
     "output_type": "execute_result"
    }
   ],
   "source": [
    "planck_map.index.names"
   ]
  },
  {
   "cell_type": "code",
   "execution_count": 13,
   "metadata": {
    "collapsed": false
   },
   "outputs": [
    {
     "data": {
      "text/plain": [
       "(180, 360)"
      ]
     },
     "execution_count": 13,
     "metadata": {},
     "output_type": "execute_result"
    }
   ],
   "source": [
    "planck_map.index.levshape"
   ]
  },
  {
   "cell_type": "markdown",
   "metadata": {},
   "source": [
    "### Hierarchical indexing\n",
    "\n",
    "The second advance feature of `pandas` is `pd.MultiIndex`, it is a way to setup a hierarchical indexing, in this case we have a rectangular grid of latitudes and longitudes with sizes:"
   ]
  },
  {
   "cell_type": "code",
   "execution_count": 14,
   "metadata": {
    "collapsed": false
   },
   "outputs": [
    {
     "data": {
      "text/plain": [
       "[('latitude', 180), ('longitude', 360)]"
      ]
     },
     "execution_count": 14,
     "metadata": {},
     "output_type": "execute_result"
    }
   ],
   "source": [
    "list(zip(planck_map.index.names, planck_map.index.levshape))"
   ]
  },
  {
   "cell_type": "markdown",
   "metadata": {
    "collapsed": true
   },
   "source": [
    "in Galactic coordinates (latitude 0 is the Galactic Plane). For each value of latitude, for example 15 degrees above the Galactic plane, we have longitudes running from -180 to 180 degrees:"
   ]
  },
  {
   "cell_type": "code",
   "execution_count": 15,
   "metadata": {
    "collapsed": false
   },
   "outputs": [
    {
     "data": {
      "text/plain": [
       "longitude\n",
       "-180    0.001039\n",
       "-179    0.001005\n",
       "-178    0.001014\n",
       "-177    0.001047\n",
       "-176    0.001105\n",
       "-175    0.001087\n",
       "-174    0.001007\n",
       "-173    0.001211\n",
       "-172    0.001247\n",
       "-171    0.001424\n",
       "-170    0.001403\n",
       "-169    0.001521\n",
       "-168    0.001375\n",
       "-167    0.001469\n",
       "-166    0.001515\n",
       "-165    0.001635\n",
       "-164    0.001451\n",
       "-163    0.001373\n",
       "-162    0.001719\n",
       "-161    0.001561\n",
       "-160    0.001652\n",
       "-159    0.001637\n",
       "-158    0.001540\n",
       "-157    0.001865\n",
       "-156    0.001710\n",
       "-155    0.001871\n",
       "-154    0.001576\n",
       "-153    0.001823\n",
       "-152    0.001929\n",
       "-151    0.002113\n",
       "          ...   \n",
       " 151   -0.000094\n",
       " 152   -0.000079\n",
       " 153   -0.000116\n",
       " 154   -0.000261\n",
       " 155    0.000051\n",
       " 156    0.000020\n",
       " 157   -0.000165\n",
       " 158    0.000056\n",
       " 159    0.000154\n",
       " 160    0.000269\n",
       " 161    0.000267\n",
       " 162    0.000403\n",
       " 163    0.000114\n",
       " 164    0.000356\n",
       " 165    0.000481\n",
       " 166    0.000233\n",
       " 167    0.000425\n",
       " 168    0.000550\n",
       " 169    0.000424\n",
       " 170    0.000510\n",
       " 171    0.000741\n",
       " 172    0.000532\n",
       " 173    0.000618\n",
       " 174    0.000773\n",
       " 175    0.000707\n",
       " 176    0.001059\n",
       " 177    0.000955\n",
       " 178    0.000784\n",
       " 179    0.000901\n",
       " 180    0.001039\n",
       "Name: temperature, dtype: float64"
      ]
     },
     "execution_count": 15,
     "metadata": {},
     "output_type": "execute_result"
    }
   ],
   "source": [
    "planck_map.loc[15]"
   ]
  },
  {
   "cell_type": "markdown",
   "metadata": {},
   "source": [
    "#### MultiIndex example\n",
    "\n",
    "Let's build a simpler example to play with a `pd.Series` with `pd.MultiIndex`, here we start from a list of tuples where we spell out all combinations of the 2 levels of our index:"
   ]
  },
  {
   "cell_type": "code",
   "execution_count": 16,
   "metadata": {
    "collapsed": false
   },
   "outputs": [],
   "source": [
    "sample_multiindex = pd.MultiIndex.from_tuples([(\"A\", 1), (\"A\", 2), (\"A\", 3), (\"B\", 2), (\"B\", 3)], names=[\"letters\", \"numbers\"])"
   ]
  },
  {
   "cell_type": "markdown",
   "metadata": {},
   "source": [
    "Now we create a simple dataset with integers between 100 and 105 with this index:"
   ]
  },
  {
   "cell_type": "code",
   "execution_count": 17,
   "metadata": {
    "collapsed": false
   },
   "outputs": [],
   "source": [
    "sample_series_with_multiindex = pd.Series(list(range(100, 105)),index=sample_multiindex)"
   ]
  },
  {
   "cell_type": "code",
   "execution_count": 18,
   "metadata": {
    "collapsed": false
   },
   "outputs": [
    {
     "data": {
      "text/plain": [
       "letters  numbers\n",
       "A        1          100\n",
       "         2          101\n",
       "         3          102\n",
       "B        2          103\n",
       "         3          104\n",
       "dtype: int64"
      ]
     },
     "execution_count": 18,
     "metadata": {},
     "output_type": "execute_result"
    }
   ],
   "source": [
    "sample_series_with_multiindex"
   ]
  },
  {
   "cell_type": "markdown",
   "metadata": {},
   "source": [
    "If we want to select a data point, we need to specify a value for both levels of the index:"
   ]
  },
  {
   "cell_type": "code",
   "execution_count": 19,
   "metadata": {
    "collapsed": false
   },
   "outputs": [
    {
     "data": {
      "text/plain": [
       "103"
      ]
     },
     "execution_count": 19,
     "metadata": {},
     "output_type": "execute_result"
    }
   ],
   "source": [
    "sample_series_with_multiindex[(\"B\", 2)]"
   ]
  },
  {
   "cell_type": "markdown",
   "metadata": {},
   "source": [
    "We can use the levels for grouping purposes:"
   ]
  },
  {
   "cell_type": "code",
   "execution_count": 20,
   "metadata": {
    "collapsed": false
   },
   "outputs": [
    {
     "data": {
      "text/plain": [
       "letters\n",
       "A    102\n",
       "B    104\n",
       "dtype: int64"
      ]
     },
     "execution_count": 20,
     "metadata": {},
     "output_type": "execute_result"
    }
   ],
   "source": [
    "sample_series_with_multiindex.groupby(level=\"letters\").max()"
   ]
  },
  {
   "cell_type": "code",
   "execution_count": 21,
   "metadata": {
    "collapsed": false
   },
   "outputs": [
    {
     "data": {
      "text/plain": [
       "numbers\n",
       "1    100\n",
       "2    103\n",
       "3    104\n",
       "dtype: int64"
      ]
     },
     "execution_count": 21,
     "metadata": {},
     "output_type": "execute_result"
    }
   ],
   "source": [
    "sample_series_with_multiindex.groupby(level=\"numbers\").max()"
   ]
  },
  {
   "cell_type": "markdown",
   "metadata": {},
   "source": [
    "## Plot slices of the dataset\n",
    "\n",
    "**TODO** after the main part"
   ]
  },
  {
   "cell_type": "code",
   "execution_count": 22,
   "metadata": {
    "collapsed": true
   },
   "outputs": [],
   "source": [
    "%matplotlib inline\n",
    "import matplotlib.pyplot as plt"
   ]
  },
  {
   "cell_type": "markdown",
   "metadata": {},
   "source": [
    "## Plot a map of the sky\n",
    "\n"
   ]
  },
  {
   "cell_type": "code",
   "execution_count": 23,
   "metadata": {
    "collapsed": true
   },
   "outputs": [],
   "source": [
    "map_2d = planck_map.unstack()"
   ]
  },
  {
   "cell_type": "code",
   "execution_count": 24,
   "metadata": {
    "collapsed": false
   },
   "outputs": [
    {
     "data": {
      "text/html": [
       "<div>\n",
       "<table border=\"1\" class=\"dataframe\">\n",
       "  <thead>\n",
       "    <tr style=\"text-align: right;\">\n",
       "      <th>longitude</th>\n",
       "      <th>-180</th>\n",
       "      <th>-179</th>\n",
       "      <th>-178</th>\n",
       "      <th>-177</th>\n",
       "      <th>-176</th>\n",
       "      <th>-175</th>\n",
       "      <th>-174</th>\n",
       "      <th>-173</th>\n",
       "      <th>-172</th>\n",
       "      <th>-171</th>\n",
       "      <th>...</th>\n",
       "      <th>171</th>\n",
       "      <th>172</th>\n",
       "      <th>173</th>\n",
       "      <th>174</th>\n",
       "      <th>175</th>\n",
       "      <th>176</th>\n",
       "      <th>177</th>\n",
       "      <th>178</th>\n",
       "      <th>179</th>\n",
       "      <th>180</th>\n",
       "    </tr>\n",
       "    <tr>\n",
       "      <th>latitude</th>\n",
       "      <th></th>\n",
       "      <th></th>\n",
       "      <th></th>\n",
       "      <th></th>\n",
       "      <th></th>\n",
       "      <th></th>\n",
       "      <th></th>\n",
       "      <th></th>\n",
       "      <th></th>\n",
       "      <th></th>\n",
       "      <th></th>\n",
       "      <th></th>\n",
       "      <th></th>\n",
       "      <th></th>\n",
       "      <th></th>\n",
       "      <th></th>\n",
       "      <th></th>\n",
       "      <th></th>\n",
       "      <th></th>\n",
       "      <th></th>\n",
       "      <th></th>\n",
       "    </tr>\n",
       "  </thead>\n",
       "  <tbody>\n",
       "    <tr>\n",
       "      <th>-90</th>\n",
       "      <td>-0.002445</td>\n",
       "      <td>-0.002445</td>\n",
       "      <td>-0.002445</td>\n",
       "      <td>-0.002445</td>\n",
       "      <td>-0.002445</td>\n",
       "      <td>-0.002445</td>\n",
       "      <td>-0.002445</td>\n",
       "      <td>-0.002445</td>\n",
       "      <td>-0.002445</td>\n",
       "      <td>-0.002445</td>\n",
       "      <td>...</td>\n",
       "      <td>-0.002387</td>\n",
       "      <td>-0.002387</td>\n",
       "      <td>-0.002387</td>\n",
       "      <td>-0.002387</td>\n",
       "      <td>-0.002387</td>\n",
       "      <td>-0.002387</td>\n",
       "      <td>-0.002387</td>\n",
       "      <td>-0.002387</td>\n",
       "      <td>-0.002387</td>\n",
       "      <td>-0.002445</td>\n",
       "    </tr>\n",
       "    <tr>\n",
       "      <th>-89</th>\n",
       "      <td>-0.002723</td>\n",
       "      <td>-0.002627</td>\n",
       "      <td>-0.002627</td>\n",
       "      <td>-0.002627</td>\n",
       "      <td>-0.002627</td>\n",
       "      <td>-0.002683</td>\n",
       "      <td>-0.002683</td>\n",
       "      <td>-0.002683</td>\n",
       "      <td>-0.002683</td>\n",
       "      <td>-0.002557</td>\n",
       "      <td>...</td>\n",
       "      <td>-0.002698</td>\n",
       "      <td>-0.002567</td>\n",
       "      <td>-0.002567</td>\n",
       "      <td>-0.002567</td>\n",
       "      <td>-0.002567</td>\n",
       "      <td>-0.002664</td>\n",
       "      <td>-0.002664</td>\n",
       "      <td>-0.002664</td>\n",
       "      <td>-0.002664</td>\n",
       "      <td>-0.002723</td>\n",
       "    </tr>\n",
       "    <tr>\n",
       "      <th>-88</th>\n",
       "      <td>-0.002693</td>\n",
       "      <td>-0.002695</td>\n",
       "      <td>-0.002695</td>\n",
       "      <td>-0.002675</td>\n",
       "      <td>-0.002675</td>\n",
       "      <td>-0.002680</td>\n",
       "      <td>-0.002680</td>\n",
       "      <td>-0.002521</td>\n",
       "      <td>-0.002521</td>\n",
       "      <td>-0.002638</td>\n",
       "      <td>...</td>\n",
       "      <td>-0.002731</td>\n",
       "      <td>-0.002780</td>\n",
       "      <td>-0.002780</td>\n",
       "      <td>-0.002689</td>\n",
       "      <td>-0.002689</td>\n",
       "      <td>-0.002821</td>\n",
       "      <td>-0.002821</td>\n",
       "      <td>-0.002801</td>\n",
       "      <td>-0.002801</td>\n",
       "      <td>-0.002693</td>\n",
       "    </tr>\n",
       "    <tr>\n",
       "      <th>-87</th>\n",
       "      <td>-0.002645</td>\n",
       "      <td>-0.002660</td>\n",
       "      <td>-0.002613</td>\n",
       "      <td>-0.002796</td>\n",
       "      <td>-0.002796</td>\n",
       "      <td>-0.002665</td>\n",
       "      <td>-0.002522</td>\n",
       "      <td>-0.002603</td>\n",
       "      <td>-0.002603</td>\n",
       "      <td>-0.002570</td>\n",
       "      <td>...</td>\n",
       "      <td>-0.002512</td>\n",
       "      <td>-0.002576</td>\n",
       "      <td>-0.002576</td>\n",
       "      <td>-0.002648</td>\n",
       "      <td>-0.002651</td>\n",
       "      <td>-0.002655</td>\n",
       "      <td>-0.002655</td>\n",
       "      <td>-0.002743</td>\n",
       "      <td>-0.002618</td>\n",
       "      <td>-0.002645</td>\n",
       "    </tr>\n",
       "    <tr>\n",
       "      <th>-86</th>\n",
       "      <td>-0.002335</td>\n",
       "      <td>-0.002325</td>\n",
       "      <td>-0.002317</td>\n",
       "      <td>-0.002469</td>\n",
       "      <td>-0.002349</td>\n",
       "      <td>-0.002359</td>\n",
       "      <td>-0.002326</td>\n",
       "      <td>-0.002436</td>\n",
       "      <td>-0.002333</td>\n",
       "      <td>-0.002366</td>\n",
       "      <td>...</td>\n",
       "      <td>-0.002482</td>\n",
       "      <td>-0.002398</td>\n",
       "      <td>-0.002357</td>\n",
       "      <td>-0.002563</td>\n",
       "      <td>-0.002448</td>\n",
       "      <td>-0.002582</td>\n",
       "      <td>-0.002495</td>\n",
       "      <td>-0.002340</td>\n",
       "      <td>-0.002472</td>\n",
       "      <td>-0.002335</td>\n",
       "    </tr>\n",
       "  </tbody>\n",
       "</table>\n",
       "<p>5 rows × 360 columns</p>\n",
       "</div>"
      ],
      "text/plain": [
       "longitude      -180      -179      -178      -177      -176      -175  \\\n",
       "latitude                                                                \n",
       "-90       -0.002445 -0.002445 -0.002445 -0.002445 -0.002445 -0.002445   \n",
       "-89       -0.002723 -0.002627 -0.002627 -0.002627 -0.002627 -0.002683   \n",
       "-88       -0.002693 -0.002695 -0.002695 -0.002675 -0.002675 -0.002680   \n",
       "-87       -0.002645 -0.002660 -0.002613 -0.002796 -0.002796 -0.002665   \n",
       "-86       -0.002335 -0.002325 -0.002317 -0.002469 -0.002349 -0.002359   \n",
       "\n",
       "longitude      -174      -173      -172      -171    ...          171  \\\n",
       "latitude                                             ...                \n",
       "-90       -0.002445 -0.002445 -0.002445 -0.002445    ...    -0.002387   \n",
       "-89       -0.002683 -0.002683 -0.002683 -0.002557    ...    -0.002698   \n",
       "-88       -0.002680 -0.002521 -0.002521 -0.002638    ...    -0.002731   \n",
       "-87       -0.002522 -0.002603 -0.002603 -0.002570    ...    -0.002512   \n",
       "-86       -0.002326 -0.002436 -0.002333 -0.002366    ...    -0.002482   \n",
       "\n",
       "longitude       172       173       174       175       176       177  \\\n",
       "latitude                                                                \n",
       "-90       -0.002387 -0.002387 -0.002387 -0.002387 -0.002387 -0.002387   \n",
       "-89       -0.002567 -0.002567 -0.002567 -0.002567 -0.002664 -0.002664   \n",
       "-88       -0.002780 -0.002780 -0.002689 -0.002689 -0.002821 -0.002821   \n",
       "-87       -0.002576 -0.002576 -0.002648 -0.002651 -0.002655 -0.002655   \n",
       "-86       -0.002398 -0.002357 -0.002563 -0.002448 -0.002582 -0.002495   \n",
       "\n",
       "longitude       178       179       180  \n",
       "latitude                                 \n",
       "-90       -0.002387 -0.002387 -0.002445  \n",
       "-89       -0.002664 -0.002664 -0.002723  \n",
       "-88       -0.002801 -0.002801 -0.002693  \n",
       "-87       -0.002743 -0.002618 -0.002645  \n",
       "-86       -0.002340 -0.002472 -0.002335  \n",
       "\n",
       "[5 rows x 360 columns]"
      ]
     },
     "execution_count": 24,
     "metadata": {},
     "output_type": "execute_result"
    }
   ],
   "source": [
    "map_2d.head()"
   ]
  },
  {
   "cell_type": "markdown",
   "metadata": {},
   "source": [
    "### Unstacking"
   ]
  },
  {
   "cell_type": "code",
   "execution_count": 25,
   "metadata": {
    "collapsed": false
   },
   "outputs": [
    {
     "data": {
      "text/plain": [
       "(180, 360)"
      ]
     },
     "execution_count": 25,
     "metadata": {},
     "output_type": "execute_result"
    }
   ],
   "source": [
    "map_2d.shape"
   ]
  },
  {
   "cell_type": "code",
   "execution_count": 26,
   "metadata": {
    "collapsed": false
   },
   "outputs": [
    {
     "data": {
      "image/png": "[encoded data removed]",
      "text/plain": [
       "<matplotlib.figure.Figure at 0x7f95f98ce198>"
      ]
     },
     "metadata": {},
     "output_type": "display_data"
    }
   ],
   "source": [
    "plt.imshow(map_2d, vmin=-3e-3, vmax=3e-3);"
   ]
  },
  {
   "cell_type": "code",
   "execution_count": 27,
   "metadata": {
    "collapsed": false
   },
   "outputs": [],
   "source": [
    "latitude, longitude = planck_map.index.levels"
   ]
  },
  {
   "cell_type": "code",
   "execution_count": 28,
   "metadata": {
    "collapsed": false
   },
   "outputs": [
    {
     "ename": "AttributeError",
     "evalue": "'DataFrame' object has no attribute 'flatten'",
     "output_type": "error",
     "traceback": [
      "\u001b[1;31m---------------------------------------------------------------------------\u001b[0m",
      "\u001b[1;31mAttributeError\u001b[0m                            Traceback (most recent call last)",
      "\u001b[1;32m<ipython-input-28-c33b9da64fab>\u001b[0m in \u001b[0;36m<module>\u001b[1;34m()\u001b[0m\n\u001b[1;32m----> 1\u001b[1;33m \u001b[0mmap_2d\u001b[0m\u001b[1;33m.\u001b[0m\u001b[0mflatten\u001b[0m\u001b[1;33m(\u001b[0m\u001b[1;33m)\u001b[0m\u001b[1;33m.\u001b[0m\u001b[0mshape\u001b[0m\u001b[1;33m\u001b[0m\u001b[0m\n\u001b[0m",
      "\u001b[1;32m/global/project/projectdirs/cmb/modules/carver/pycmb3/envs/py35/lib/python3.5/site-packages/pandas/core/generic.py\u001b[0m in \u001b[0;36m__getattr__\u001b[1;34m(self, name)\u001b[0m\n\u001b[0;32m   2667\u001b[0m             \u001b[1;32mif\u001b[0m \u001b[0mname\u001b[0m \u001b[1;32min\u001b[0m \u001b[0mself\u001b[0m\u001b[1;33m.\u001b[0m\u001b[0m_info_axis\u001b[0m\u001b[1;33m:\u001b[0m\u001b[1;33m\u001b[0m\u001b[0m\n\u001b[0;32m   2668\u001b[0m                 \u001b[1;32mreturn\u001b[0m \u001b[0mself\u001b[0m\u001b[1;33m[\u001b[0m\u001b[0mname\u001b[0m\u001b[1;33m]\u001b[0m\u001b[1;33m\u001b[0m\u001b[0m\n\u001b[1;32m-> 2669\u001b[1;33m             \u001b[1;32mreturn\u001b[0m \u001b[0mobject\u001b[0m\u001b[1;33m.\u001b[0m\u001b[0m__getattribute__\u001b[0m\u001b[1;33m(\u001b[0m\u001b[0mself\u001b[0m\u001b[1;33m,\u001b[0m \u001b[0mname\u001b[0m\u001b[1;33m)\u001b[0m\u001b[1;33m\u001b[0m\u001b[0m\n\u001b[0m\u001b[0;32m   2670\u001b[0m \u001b[1;33m\u001b[0m\u001b[0m\n\u001b[0;32m   2671\u001b[0m     \u001b[1;32mdef\u001b[0m \u001b[0m__setattr__\u001b[0m\u001b[1;33m(\u001b[0m\u001b[0mself\u001b[0m\u001b[1;33m,\u001b[0m \u001b[0mname\u001b[0m\u001b[1;33m,\u001b[0m \u001b[0mvalue\u001b[0m\u001b[1;33m)\u001b[0m\u001b[1;33m:\u001b[0m\u001b[1;33m\u001b[0m\u001b[0m\n",
      "\u001b[1;31mAttributeError\u001b[0m: 'DataFrame' object has no attribute 'flatten'"
     ]
    }
   ],
   "source": [
    "map_2d.flatten().shape"
   ]
  },
  {
   "cell_type": "code",
   "execution_count": null,
   "metadata": {
    "collapsed": false
   },
   "outputs": [],
   "source": [
    "longitude"
   ]
  },
  {
   "cell_type": "code",
   "execution_count": 29,
   "metadata": {
    "collapsed": false
   },
   "outputs": [],
   "source": [
    "import numpy as np"
   ]
  },
  {
   "cell_type": "code",
   "execution_count": 30,
   "metadata": {
    "collapsed": false,
    "scrolled": true
   },
   "outputs": [
    {
     "ename": "NameError",
     "evalue": "name 'l' is not defined",
     "output_type": "error",
     "traceback": [
      "\u001b[1;31m---------------------------------------------------------------------------\u001b[0m",
      "\u001b[1;31mNameError\u001b[0m                                 Traceback (most recent call last)",
      "\u001b[1;32m<ipython-input-30-0abbff60a19c>\u001b[0m in \u001b[0;36m<module>\u001b[1;34m()\u001b[0m\n\u001b[0;32m      7\u001b[0m \u001b[1;33m\u001b[0m\u001b[0m\n\u001b[0;32m      8\u001b[0m \u001b[0mplt\u001b[0m\u001b[1;33m.\u001b[0m\u001b[0mpcolormesh\u001b[0m\u001b[1;33m(\u001b[0m\u001b[0mnp\u001b[0m\u001b[1;33m.\u001b[0m\u001b[0mradians\u001b[0m\u001b[1;33m(\u001b[0m\u001b[0mlongitude\u001b[0m\u001b[1;33m)\u001b[0m\u001b[1;33m,\u001b[0m \u001b[0mnp\u001b[0m\u001b[1;33m.\u001b[0m\u001b[0mradians\u001b[0m\u001b[1;33m(\u001b[0m\u001b[0mlatitude\u001b[0m\u001b[1;33m)\u001b[0m\u001b[1;33m,\u001b[0m \u001b[0mmap_2d\u001b[0m\u001b[1;33m,\u001b[0m \u001b[0mvmin\u001b[0m\u001b[1;33m=\u001b[0m\u001b[0mvmin\u001b[0m\u001b[1;33m,\u001b[0m \u001b[0mvmax\u001b[0m\u001b[1;33m=\u001b[0m\u001b[0mvmax\u001b[0m\u001b[1;33m)\u001b[0m\u001b[1;33m;\u001b[0m\u001b[1;33m\u001b[0m\u001b[0m\n\u001b[1;32m----> 9\u001b[1;33m \u001b[0max\u001b[0m\u001b[1;33m.\u001b[0m\u001b[0mplot\u001b[0m\u001b[1;33m(\u001b[0m\u001b[0ml\u001b[0m\u001b[1;33m,\u001b[0m \u001b[0mb\u001b[0m\u001b[1;33m,\u001b[0m \u001b[1;34m'.'\u001b[0m\u001b[1;33m)\u001b[0m\u001b[1;33m\u001b[0m\u001b[0m\n\u001b[0m",
      "\u001b[1;31mNameError\u001b[0m: name 'l' is not defined"
     ]
    },
    {
     "data": {
      "image/png": "[encoded data removed]",
      "text/plain": [
       "<matplotlib.figure.Figure at 0x7f95f51ea470>"
      ]
     },
     "metadata": {},
     "output_type": "display_data"
    }
   ],
   "source": [
    "fig = plt.figure(figsize=(10,20))\n",
    "\n",
    "ax = fig.add_subplot(111, projection=\"mollweide\")\n",
    "\n",
    "vmax = 3e-3\n",
    "vmin = -3e-3\n",
    "\n",
    "plt.pcolormesh(np.radians(longitude), np.radians(latitude), map_2d, vmin=vmin, vmax=vmax);\n",
    "ax.plot(l, b, '.')"
   ]
  },
  {
   "cell_type": "markdown",
   "metadata": {
    "collapsed": true
   },
   "source": [
    "## Generate timelines"
   ]
  },
  {
   "cell_type": "code",
   "execution_count": 31,
   "metadata": {
    "collapsed": false
   },
   "outputs": [],
   "source": [
    "ecliptic_to_galactic = np.array([[-0.054882486, -0.993821033, -0.096476249],\n",
    "                   [ 0.494116468, -0.110993846,  0.862281440],\n",
    "                   [-0.867661702, -0.000346354,  0.497154957]])"
   ]
  },
  {
   "cell_type": "code",
   "execution_count": 32,
   "metadata": {
    "collapsed": true
   },
   "outputs": [],
   "source": [
    "ecliptic_plane_vec = np.zeros([3, 360])"
   ]
  },
  {
   "cell_type": "code",
   "execution_count": 33,
   "metadata": {
    "collapsed": false
   },
   "outputs": [],
   "source": [
    "angle = np.linspace(0, 2*np.pi, 360)\n",
    "ecliptic_plane_vec[0, :] = np.cos(angle)\n",
    "ecliptic_plane_vec[1, :] = np.sin(angle)"
   ]
  },
  {
   "cell_type": "code",
   "execution_count": 34,
   "metadata": {
    "collapsed": true
   },
   "outputs": [],
   "source": [
    "ecliptic_plane_vec = np.zeros([3, 360*360])"
   ]
  },
  {
   "cell_type": "markdown",
   "metadata": {},
   "source": [
    "for each of the 360 pointing periods we have 360 points to rotate around that axis.\n",
    "\n",
    "those are 180 with -90 and 180 with +90"
   ]
  },
  {
   "cell_type": "code",
   "execution_count": 35,
   "metadata": {
    "collapsed": false
   },
   "outputs": [],
   "source": [
    "lon_axis = np.repeat(np.linspace(0, 2*np.pi, 360), 360)\n",
    "lon = lon_axis - np.tile(np.concatenate([np.ones(180)*np.pi/2, -np.ones(180)*np.pi/2]), 360)\n",
    "lat = np.tile(np.linspace(-np.pi/2, np.pi/2, 180), 360*2)"
   ]
  },
  {
   "cell_type": "code",
   "execution_count": 36,
   "metadata": {
    "collapsed": false
   },
   "outputs": [],
   "source": [
    "    theta,phi = np.pi/2.-lat,lon\n",
    "    ct,st,cp,sp = np.cos(theta),np.sin(theta),np.cos(phi),np.sin(phi)\n",
    "    vec = np.empty((3, ct.size), np.float64)\n",
    "    ecliptic_plane_vec[0, :] = st * cp\n",
    "    ecliptic_plane_vec[1, :] = st * sp\n",
    "    ecliptic_plane_vec[2, :] = ct"
   ]
  },
  {
   "cell_type": "code",
   "execution_count": 37,
   "metadata": {
    "collapsed": false
   },
   "outputs": [],
   "source": [
    "ecliptic_plane_vec_in_galactic = ecliptic_to_galactic.dot(ecliptic_plane_vec)"
   ]
  },
  {
   "cell_type": "code",
   "execution_count": 38,
   "metadata": {
    "collapsed": false
   },
   "outputs": [
    {
     "data": {
      "text/plain": [
       "array([[ 0.09647625,  0.11390285,  0.13129436, ..., -0.13129436,\n",
       "        -0.11390285, -0.09647625],\n",
       "       [-0.86228144, -0.86020071, -0.85785502, ...,  0.85785502,\n",
       "         0.86020071,  0.86228144],\n",
       "       [-0.49715496, -0.49707231, -0.49683656, ...,  0.49683656,\n",
       "         0.49707231,  0.49715496]])"
      ]
     },
     "execution_count": 38,
     "metadata": {},
     "output_type": "execute_result"
    }
   ],
   "source": [
    "ecliptic_plane_vec_in_galactic"
   ]
  },
  {
   "cell_type": "code",
   "execution_count": 39,
   "metadata": {
    "collapsed": true
   },
   "outputs": [],
   "source": [
    "b = np.pi/2 - np.arccos(ecliptic_plane_vec_in_galactic[2]) \n",
    "l = np.arctan2(ecliptic_plane_vec_in_galactic[1], ecliptic_plane_vec_in_galactic[0])"
   ]
  },
  {
   "cell_type": "code",
   "execution_count": 40,
   "metadata": {
    "collapsed": false
   },
   "outputs": [
    {
     "data": {
      "text/plain": [
       "-179.99041092847531"
      ]
     },
     "execution_count": 40,
     "metadata": {},
     "output_type": "execute_result"
    }
   ],
   "source": [
    "np.degrees(l.min())"
   ]
  },
  {
   "cell_type": "code",
   "execution_count": 41,
   "metadata": {
    "collapsed": false
   },
   "outputs": [
    {
     "data": {
      "text/plain": [
       "[<matplotlib.lines.Line2D at 0x7f95f4d488d0>]"
      ]
     },
     "execution_count": 41,
     "metadata": {},
     "output_type": "execute_result"
    },
    {
     "data": {
      "image/png": "[encoded data removed]",
      "text/plain": [
       "<matplotlib.figure.Figure at 0x7f95f4c54fd0>"
      ]
     },
     "metadata": {},
     "output_type": "display_data"
    }
   ],
   "source": [
    "plt.plot(np.degrees(b))"
   ]
  },
  {
   "cell_type": "code",
   "execution_count": 42,
   "metadata": {
    "collapsed": false
   },
   "outputs": [
    {
     "data": {
      "text/plain": [
       "[<matplotlib.lines.Line2D at 0x7f95f4d29668>]"
      ]
     },
     "execution_count": 42,
     "metadata": {},
     "output_type": "execute_result"
    },
    {
     "data": {
      "image/png": "[encoded data removed]",
      "text/plain": [
       "<matplotlib.figure.Figure at 0x7f95f4d5db00>"
      ]
     },
     "metadata": {},
     "output_type": "display_data"
    }
   ],
   "source": [
    "plt.plot(np.degrees(l))"
   ]
  },
  {
   "cell_type": "code",
   "execution_count": 43,
   "metadata": {
    "collapsed": true
   },
   "outputs": [],
   "source": [
    "from ipywidgets import interact"
   ]
  },
  {
   "cell_type": "code",
   "execution_count": 44,
   "metadata": {
    "collapsed": false
   },
   "outputs": [],
   "source": [
    "def create_scanning_ring_figure(num):\n",
    "    fig = plt.figure(figsize=(10,20))\n",
    "\n",
    "    ax = fig.add_subplot(111, projection=\"mollweide\")\n",
    "    section = slice(360*num, 360*(num+1))\n",
    "    plt.plot(l[section], b[section], '.')"
   ]
  },
  {
   "cell_type": "code",
   "execution_count": 45,
   "metadata": {
    "collapsed": false
   },
   "outputs": [
    {
     "data": {
      "image/png": "[encoded data removed]",
      "text/plain": [
       "<matplotlib.figure.Figure at 0x7f95f4d5da90>"
      ]
     },
     "metadata": {},
     "output_type": "display_data"
    }
   ],
   "source": [
    "create_scanning_ring_figure(0)"
   ]
  },
  {
   "cell_type": "code",
   "execution_count": 46,
   "metadata": {
    "collapsed": false
   },
   "outputs": [
    {
     "data": {
      "image/png": "[encoded data removed]",
      "text/plain": [
       "<matplotlib.figure.Figure at 0x7f95f402d748>"
      ]
     },
     "metadata": {},
     "output_type": "display_data"
    }
   ],
   "source": [
    "create_scanning_ring_figure(20)"
   ]
  },
  {
   "cell_type": "code",
   "execution_count": 47,
   "metadata": {
    "collapsed": false
   },
   "outputs": [
    {
     "data": {
      "image/png": "[encoded data removed]",
      "text/plain": [
       "<matplotlib.figure.Figure at 0x7f95e40ce320>"
      ]
     },
     "metadata": {},
     "output_type": "display_data"
    }
   ],
   "source": [
    "interact(create_scanning_ring_figure, num=(0,360));"
   ]
  },
  {
   "cell_type": "code",
   "execution_count": 48,
   "metadata": {
    "collapsed": false
   },
   "outputs": [
    {
     "data": {
      "text/plain": [
       "array([-1.45937485, -1.43914792, -1.41892524, ...,  1.72266742,\n",
       "        1.70244474,  1.68221781])"
      ]
     },
     "execution_count": 48,
     "metadata": {},
     "output_type": "execute_result"
    }
   ],
   "source": [
    "l"
   ]
  },
  {
   "cell_type": "code",
   "execution_count": 49,
   "metadata": {
    "collapsed": false
   },
   "outputs": [
    {
     "data": {
      "text/plain": [
       "array([-0.52031671, -0.52022146, -0.51994978, ...,  0.51994978,\n",
       "        0.52022146,  0.52031671])"
      ]
     },
     "execution_count": 49,
     "metadata": {},
     "output_type": "execute_result"
    }
   ],
   "source": [
    "b"
   ]
  },
  {
   "cell_type": "code",
   "execution_count": 230,
   "metadata": {
    "collapsed": false
   },
   "outputs": [
    {
     "data": {
      "text/html": [
       "<div>\n",
       "<table border=\"1\" class=\"dataframe\">\n",
       "  <thead>\n",
       "    <tr style=\"text-align: right;\">\n",
       "      <th>longitude</th>\n",
       "      <th>-180</th>\n",
       "      <th>-179</th>\n",
       "      <th>-178</th>\n",
       "      <th>-177</th>\n",
       "      <th>-176</th>\n",
       "      <th>-175</th>\n",
       "      <th>-174</th>\n",
       "      <th>-173</th>\n",
       "      <th>-172</th>\n",
       "      <th>-171</th>\n",
       "      <th>...</th>\n",
       "      <th>171</th>\n",
       "      <th>172</th>\n",
       "      <th>173</th>\n",
       "      <th>174</th>\n",
       "      <th>175</th>\n",
       "      <th>176</th>\n",
       "      <th>177</th>\n",
       "      <th>178</th>\n",
       "      <th>179</th>\n",
       "      <th>180</th>\n",
       "    </tr>\n",
       "    <tr>\n",
       "      <th>latitude</th>\n",
       "      <th></th>\n",
       "      <th></th>\n",
       "      <th></th>\n",
       "      <th></th>\n",
       "      <th></th>\n",
       "      <th></th>\n",
       "      <th></th>\n",
       "      <th></th>\n",
       "      <th></th>\n",
       "      <th></th>\n",
       "      <th></th>\n",
       "      <th></th>\n",
       "      <th></th>\n",
       "      <th></th>\n",
       "      <th></th>\n",
       "      <th></th>\n",
       "      <th></th>\n",
       "      <th></th>\n",
       "      <th></th>\n",
       "      <th></th>\n",
       "      <th></th>\n",
       "    </tr>\n",
       "  </thead>\n",
       "  <tbody>\n",
       "    <tr>\n",
       "      <th>-90</th>\n",
       "      <td>-0.002445</td>\n",
       "      <td>-0.002445</td>\n",
       "      <td>-0.002445</td>\n",
       "      <td>-0.002445</td>\n",
       "      <td>-0.002445</td>\n",
       "      <td>-0.002445</td>\n",
       "      <td>-0.002445</td>\n",
       "      <td>-0.002445</td>\n",
       "      <td>-0.002445</td>\n",
       "      <td>-0.002445</td>\n",
       "      <td>...</td>\n",
       "      <td>-0.002387</td>\n",
       "      <td>-0.002387</td>\n",
       "      <td>-0.002387</td>\n",
       "      <td>-0.002387</td>\n",
       "      <td>-0.002387</td>\n",
       "      <td>-0.002387</td>\n",
       "      <td>-0.002387</td>\n",
       "      <td>-0.002387</td>\n",
       "      <td>-0.002387</td>\n",
       "      <td>-0.002445</td>\n",
       "    </tr>\n",
       "    <tr>\n",
       "      <th>-89</th>\n",
       "      <td>-0.002723</td>\n",
       "      <td>-0.002627</td>\n",
       "      <td>-0.002627</td>\n",
       "      <td>-0.002627</td>\n",
       "      <td>-0.002627</td>\n",
       "      <td>-0.002683</td>\n",
       "      <td>-0.002683</td>\n",
       "      <td>-0.002683</td>\n",
       "      <td>-0.002683</td>\n",
       "      <td>-0.002557</td>\n",
       "      <td>...</td>\n",
       "      <td>-0.002698</td>\n",
       "      <td>-0.002567</td>\n",
       "      <td>-0.002567</td>\n",
       "      <td>-0.002567</td>\n",
       "      <td>-0.002567</td>\n",
       "      <td>-0.002664</td>\n",
       "      <td>-0.002664</td>\n",
       "      <td>-0.002664</td>\n",
       "      <td>-0.002664</td>\n",
       "      <td>-0.002723</td>\n",
       "    </tr>\n",
       "    <tr>\n",
       "      <th>-88</th>\n",
       "      <td>-0.002693</td>\n",
       "      <td>-0.002695</td>\n",
       "      <td>-0.002695</td>\n",
       "      <td>-0.002675</td>\n",
       "      <td>-0.002675</td>\n",
       "      <td>-0.002680</td>\n",
       "      <td>-0.002680</td>\n",
       "      <td>-0.002521</td>\n",
       "      <td>-0.002521</td>\n",
       "      <td>-0.002638</td>\n",
       "      <td>...</td>\n",
       "      <td>-0.002731</td>\n",
       "      <td>-0.002780</td>\n",
       "      <td>-0.002780</td>\n",
       "      <td>-0.002689</td>\n",
       "      <td>-0.002689</td>\n",
       "      <td>-0.002821</td>\n",
       "      <td>-0.002821</td>\n",
       "      <td>-0.002801</td>\n",
       "      <td>-0.002801</td>\n",
       "      <td>-0.002693</td>\n",
       "    </tr>\n",
       "    <tr>\n",
       "      <th>-87</th>\n",
       "      <td>-0.002645</td>\n",
       "      <td>-0.002660</td>\n",
       "      <td>-0.002613</td>\n",
       "      <td>-0.002796</td>\n",
       "      <td>-0.002796</td>\n",
       "      <td>-0.002665</td>\n",
       "      <td>-0.002522</td>\n",
       "      <td>-0.002603</td>\n",
       "      <td>-0.002603</td>\n",
       "      <td>-0.002570</td>\n",
       "      <td>...</td>\n",
       "      <td>-0.002512</td>\n",
       "      <td>-0.002576</td>\n",
       "      <td>-0.002576</td>\n",
       "      <td>-0.002648</td>\n",
       "      <td>-0.002651</td>\n",
       "      <td>-0.002655</td>\n",
       "      <td>-0.002655</td>\n",
       "      <td>-0.002743</td>\n",
       "      <td>-0.002618</td>\n",
       "      <td>-0.002645</td>\n",
       "    </tr>\n",
       "    <tr>\n",
       "      <th>-86</th>\n",
       "      <td>-0.002335</td>\n",
       "      <td>-0.002325</td>\n",
       "      <td>-0.002317</td>\n",
       "      <td>-0.002469</td>\n",
       "      <td>-0.002349</td>\n",
       "      <td>-0.002359</td>\n",
       "      <td>-0.002326</td>\n",
       "      <td>-0.002436</td>\n",
       "      <td>-0.002333</td>\n",
       "      <td>-0.002366</td>\n",
       "      <td>...</td>\n",
       "      <td>-0.002482</td>\n",
       "      <td>-0.002398</td>\n",
       "      <td>-0.002357</td>\n",
       "      <td>-0.002563</td>\n",
       "      <td>-0.002448</td>\n",
       "      <td>-0.002582</td>\n",
       "      <td>-0.002495</td>\n",
       "      <td>-0.002340</td>\n",
       "      <td>-0.002472</td>\n",
       "      <td>-0.002335</td>\n",
       "    </tr>\n",
       "    <tr>\n",
       "      <th>-85</th>\n",
       "      <td>-0.002513</td>\n",
       "      <td>-0.002538</td>\n",
       "      <td>-0.002476</td>\n",
       "      <td>-0.002442</td>\n",
       "      <td>-0.002529</td>\n",
       "      <td>-0.002293</td>\n",
       "      <td>-0.002420</td>\n",
       "      <td>-0.002319</td>\n",
       "      <td>-0.002243</td>\n",
       "      <td>-0.002239</td>\n",
       "      <td>...</td>\n",
       "      <td>-0.002379</td>\n",
       "      <td>-0.002275</td>\n",
       "      <td>-0.002379</td>\n",
       "      <td>-0.002408</td>\n",
       "      <td>-0.002343</td>\n",
       "      <td>-0.002595</td>\n",
       "      <td>-0.002644</td>\n",
       "      <td>-0.002714</td>\n",
       "      <td>-0.002620</td>\n",
       "      <td>-0.002513</td>\n",
       "    </tr>\n",
       "    <tr>\n",
       "      <th>-84</th>\n",
       "      <td>-0.002475</td>\n",
       "      <td>-0.002425</td>\n",
       "      <td>-0.002371</td>\n",
       "      <td>-0.002325</td>\n",
       "      <td>-0.002375</td>\n",
       "      <td>-0.002330</td>\n",
       "      <td>-0.002238</td>\n",
       "      <td>-0.002319</td>\n",
       "      <td>-0.002299</td>\n",
       "      <td>-0.002287</td>\n",
       "      <td>...</td>\n",
       "      <td>-0.002421</td>\n",
       "      <td>-0.002370</td>\n",
       "      <td>-0.002454</td>\n",
       "      <td>-0.002487</td>\n",
       "      <td>-0.002472</td>\n",
       "      <td>-0.002492</td>\n",
       "      <td>-0.002595</td>\n",
       "      <td>-0.002434</td>\n",
       "      <td>-0.002533</td>\n",
       "      <td>-0.002475</td>\n",
       "    </tr>\n",
       "    <tr>\n",
       "      <th>-83</th>\n",
       "      <td>-0.002549</td>\n",
       "      <td>-0.002563</td>\n",
       "      <td>-0.002318</td>\n",
       "      <td>-0.002344</td>\n",
       "      <td>-0.002296</td>\n",
       "      <td>-0.002079</td>\n",
       "      <td>-0.002141</td>\n",
       "      <td>-0.002126</td>\n",
       "      <td>-0.002235</td>\n",
       "      <td>-0.002314</td>\n",
       "      <td>...</td>\n",
       "      <td>-0.002495</td>\n",
       "      <td>-0.002613</td>\n",
       "      <td>-0.002477</td>\n",
       "      <td>-0.002558</td>\n",
       "      <td>-0.002528</td>\n",
       "      <td>-0.002601</td>\n",
       "      <td>-0.002515</td>\n",
       "      <td>-0.002495</td>\n",
       "      <td>-0.002629</td>\n",
       "      <td>-0.002549</td>\n",
       "    </tr>\n",
       "    <tr>\n",
       "      <th>-82</th>\n",
       "      <td>-0.002512</td>\n",
       "      <td>-0.002519</td>\n",
       "      <td>-0.002388</td>\n",
       "      <td>-0.002523</td>\n",
       "      <td>-0.002509</td>\n",
       "      <td>-0.002494</td>\n",
       "      <td>-0.002431</td>\n",
       "      <td>-0.002484</td>\n",
       "      <td>-0.002455</td>\n",
       "      <td>-0.002432</td>\n",
       "      <td>...</td>\n",
       "      <td>-0.002679</td>\n",
       "      <td>-0.002605</td>\n",
       "      <td>-0.002587</td>\n",
       "      <td>-0.002477</td>\n",
       "      <td>-0.002511</td>\n",
       "      <td>-0.002497</td>\n",
       "      <td>-0.002468</td>\n",
       "      <td>-0.002495</td>\n",
       "      <td>-0.002505</td>\n",
       "      <td>-0.002512</td>\n",
       "    </tr>\n",
       "    <tr>\n",
       "      <th>-81</th>\n",
       "      <td>-0.002686</td>\n",
       "      <td>-0.002558</td>\n",
       "      <td>-0.002587</td>\n",
       "      <td>-0.002588</td>\n",
       "      <td>-0.002562</td>\n",
       "      <td>-0.002469</td>\n",
       "      <td>-0.002447</td>\n",
       "      <td>-0.002481</td>\n",
       "      <td>-0.002462</td>\n",
       "      <td>-0.002471</td>\n",
       "      <td>...</td>\n",
       "      <td>-0.002571</td>\n",
       "      <td>-0.002451</td>\n",
       "      <td>-0.002428</td>\n",
       "      <td>-0.002428</td>\n",
       "      <td>-0.002461</td>\n",
       "      <td>-0.002416</td>\n",
       "      <td>-0.002469</td>\n",
       "      <td>-0.002528</td>\n",
       "      <td>-0.002452</td>\n",
       "      <td>-0.002686</td>\n",
       "    </tr>\n",
       "    <tr>\n",
       "      <th>-80</th>\n",
       "      <td>-0.002435</td>\n",
       "      <td>-0.002677</td>\n",
       "      <td>-0.002687</td>\n",
       "      <td>-0.002529</td>\n",
       "      <td>-0.002598</td>\n",
       "      <td>-0.002602</td>\n",
       "      <td>-0.002726</td>\n",
       "      <td>-0.002632</td>\n",
       "      <td>-0.002479</td>\n",
       "      <td>-0.002340</td>\n",
       "      <td>...</td>\n",
       "      <td>-0.002559</td>\n",
       "      <td>-0.002501</td>\n",
       "      <td>-0.002467</td>\n",
       "      <td>-0.002345</td>\n",
       "      <td>-0.002424</td>\n",
       "      <td>-0.002499</td>\n",
       "      <td>-0.002517</td>\n",
       "      <td>-0.002576</td>\n",
       "      <td>-0.002494</td>\n",
       "      <td>-0.002435</td>\n",
       "    </tr>\n",
       "    <tr>\n",
       "      <th>-79</th>\n",
       "      <td>-0.002493</td>\n",
       "      <td>-0.002423</td>\n",
       "      <td>-0.002474</td>\n",
       "      <td>-0.002460</td>\n",
       "      <td>-0.002482</td>\n",
       "      <td>-0.002391</td>\n",
       "      <td>-0.002294</td>\n",
       "      <td>-0.002337</td>\n",
       "      <td>-0.002324</td>\n",
       "      <td>-0.002389</td>\n",
       "      <td>...</td>\n",
       "      <td>-0.002525</td>\n",
       "      <td>-0.002497</td>\n",
       "      <td>-0.002496</td>\n",
       "      <td>-0.002435</td>\n",
       "      <td>-0.002540</td>\n",
       "      <td>-0.002462</td>\n",
       "      <td>-0.002556</td>\n",
       "      <td>-0.002380</td>\n",
       "      <td>-0.002531</td>\n",
       "      <td>-0.002493</td>\n",
       "    </tr>\n",
       "    <tr>\n",
       "      <th>-78</th>\n",
       "      <td>-0.002550</td>\n",
       "      <td>-0.002435</td>\n",
       "      <td>-0.002565</td>\n",
       "      <td>-0.002665</td>\n",
       "      <td>-0.002639</td>\n",
       "      <td>-0.002667</td>\n",
       "      <td>-0.002810</td>\n",
       "      <td>-0.002653</td>\n",
       "      <td>-0.002527</td>\n",
       "      <td>-0.002480</td>\n",
       "      <td>...</td>\n",
       "      <td>-0.002527</td>\n",
       "      <td>-0.002514</td>\n",
       "      <td>-0.002549</td>\n",
       "      <td>-0.002481</td>\n",
       "      <td>-0.002438</td>\n",
       "      <td>-0.002460</td>\n",
       "      <td>-0.002380</td>\n",
       "      <td>-0.002477</td>\n",
       "      <td>-0.002547</td>\n",
       "      <td>-0.002550</td>\n",
       "    </tr>\n",
       "    <tr>\n",
       "      <th>-77</th>\n",
       "      <td>-0.002519</td>\n",
       "      <td>-0.002604</td>\n",
       "      <td>-0.002579</td>\n",
       "      <td>-0.002375</td>\n",
       "      <td>-0.002278</td>\n",
       "      <td>-0.002321</td>\n",
       "      <td>-0.002292</td>\n",
       "      <td>-0.002355</td>\n",
       "      <td>-0.002324</td>\n",
       "      <td>-0.002423</td>\n",
       "      <td>...</td>\n",
       "      <td>-0.002329</td>\n",
       "      <td>-0.002131</td>\n",
       "      <td>-0.002231</td>\n",
       "      <td>-0.002259</td>\n",
       "      <td>-0.002491</td>\n",
       "      <td>-0.002408</td>\n",
       "      <td>-0.002329</td>\n",
       "      <td>-0.002296</td>\n",
       "      <td>-0.002385</td>\n",
       "      <td>-0.002519</td>\n",
       "    </tr>\n",
       "    <tr>\n",
       "      <th>-76</th>\n",
       "      <td>-0.002424</td>\n",
       "      <td>-0.002314</td>\n",
       "      <td>-0.002243</td>\n",
       "      <td>-0.002392</td>\n",
       "      <td>-0.002211</td>\n",
       "      <td>-0.002274</td>\n",
       "      <td>-0.002287</td>\n",
       "      <td>-0.002359</td>\n",
       "      <td>-0.002354</td>\n",
       "      <td>-0.002264</td>\n",
       "      <td>...</td>\n",
       "      <td>-0.002389</td>\n",
       "      <td>-0.002364</td>\n",
       "      <td>-0.002474</td>\n",
       "      <td>-0.002264</td>\n",
       "      <td>-0.002422</td>\n",
       "      <td>-0.002258</td>\n",
       "      <td>-0.002218</td>\n",
       "      <td>-0.002349</td>\n",
       "      <td>-0.002321</td>\n",
       "      <td>-0.002424</td>\n",
       "    </tr>\n",
       "    <tr>\n",
       "      <th>-75</th>\n",
       "      <td>-0.002156</td>\n",
       "      <td>-0.002362</td>\n",
       "      <td>-0.002264</td>\n",
       "      <td>-0.002460</td>\n",
       "      <td>-0.002435</td>\n",
       "      <td>-0.002393</td>\n",
       "      <td>-0.002276</td>\n",
       "      <td>-0.002231</td>\n",
       "      <td>-0.002289</td>\n",
       "      <td>-0.002318</td>\n",
       "      <td>...</td>\n",
       "      <td>-0.002243</td>\n",
       "      <td>-0.002405</td>\n",
       "      <td>-0.002555</td>\n",
       "      <td>-0.002451</td>\n",
       "      <td>-0.002354</td>\n",
       "      <td>-0.002440</td>\n",
       "      <td>-0.002309</td>\n",
       "      <td>-0.002160</td>\n",
       "      <td>-0.002144</td>\n",
       "      <td>-0.002156</td>\n",
       "    </tr>\n",
       "    <tr>\n",
       "      <th>-74</th>\n",
       "      <td>-0.002430</td>\n",
       "      <td>-0.002347</td>\n",
       "      <td>-0.002246</td>\n",
       "      <td>-0.002270</td>\n",
       "      <td>-0.002165</td>\n",
       "      <td>-0.002076</td>\n",
       "      <td>-0.002034</td>\n",
       "      <td>-0.002125</td>\n",
       "      <td>-0.002131</td>\n",
       "      <td>-0.002289</td>\n",
       "      <td>...</td>\n",
       "      <td>-0.002291</td>\n",
       "      <td>-0.002377</td>\n",
       "      <td>-0.002319</td>\n",
       "      <td>-0.002276</td>\n",
       "      <td>-0.002237</td>\n",
       "      <td>-0.002270</td>\n",
       "      <td>-0.002155</td>\n",
       "      <td>-0.002247</td>\n",
       "      <td>-0.002374</td>\n",
       "      <td>-0.002430</td>\n",
       "    </tr>\n",
       "    <tr>\n",
       "      <th>-73</th>\n",
       "      <td>-0.002056</td>\n",
       "      <td>-0.002089</td>\n",
       "      <td>-0.002097</td>\n",
       "      <td>-0.002138</td>\n",
       "      <td>-0.002168</td>\n",
       "      <td>-0.002189</td>\n",
       "      <td>-0.002209</td>\n",
       "      <td>-0.002207</td>\n",
       "      <td>-0.002241</td>\n",
       "      <td>-0.002037</td>\n",
       "      <td>...</td>\n",
       "      <td>-0.002288</td>\n",
       "      <td>-0.002190</td>\n",
       "      <td>-0.002342</td>\n",
       "      <td>-0.002241</td>\n",
       "      <td>-0.002138</td>\n",
       "      <td>-0.002033</td>\n",
       "      <td>-0.002163</td>\n",
       "      <td>-0.002144</td>\n",
       "      <td>-0.002294</td>\n",
       "      <td>-0.002056</td>\n",
       "    </tr>\n",
       "    <tr>\n",
       "      <th>-72</th>\n",
       "      <td>-0.002131</td>\n",
       "      <td>-0.002209</td>\n",
       "      <td>-0.002077</td>\n",
       "      <td>-0.002157</td>\n",
       "      <td>-0.002125</td>\n",
       "      <td>-0.002090</td>\n",
       "      <td>-0.002170</td>\n",
       "      <td>-0.002242</td>\n",
       "      <td>-0.002443</td>\n",
       "      <td>-0.002361</td>\n",
       "      <td>...</td>\n",
       "      <td>-0.002390</td>\n",
       "      <td>-0.002320</td>\n",
       "      <td>-0.002147</td>\n",
       "      <td>-0.002252</td>\n",
       "      <td>-0.002118</td>\n",
       "      <td>-0.002252</td>\n",
       "      <td>-0.002309</td>\n",
       "      <td>-0.002118</td>\n",
       "      <td>-0.002008</td>\n",
       "      <td>-0.002131</td>\n",
       "    </tr>\n",
       "    <tr>\n",
       "      <th>-71</th>\n",
       "      <td>-0.002119</td>\n",
       "      <td>-0.002293</td>\n",
       "      <td>-0.002144</td>\n",
       "      <td>-0.002068</td>\n",
       "      <td>-0.002199</td>\n",
       "      <td>-0.002290</td>\n",
       "      <td>-0.002405</td>\n",
       "      <td>-0.002231</td>\n",
       "      <td>-0.002290</td>\n",
       "      <td>-0.002151</td>\n",
       "      <td>...</td>\n",
       "      <td>-0.002584</td>\n",
       "      <td>-0.002509</td>\n",
       "      <td>-0.002285</td>\n",
       "      <td>-0.002296</td>\n",
       "      <td>-0.002399</td>\n",
       "      <td>-0.002237</td>\n",
       "      <td>-0.002194</td>\n",
       "      <td>-0.002242</td>\n",
       "      <td>-0.002085</td>\n",
       "      <td>-0.002119</td>\n",
       "    </tr>\n",
       "    <tr>\n",
       "      <th>-70</th>\n",
       "      <td>-0.002169</td>\n",
       "      <td>-0.002135</td>\n",
       "      <td>-0.002238</td>\n",
       "      <td>-0.002116</td>\n",
       "      <td>-0.002181</td>\n",
       "      <td>-0.002368</td>\n",
       "      <td>-0.002267</td>\n",
       "      <td>-0.002313</td>\n",
       "      <td>-0.002217</td>\n",
       "      <td>-0.002275</td>\n",
       "      <td>...</td>\n",
       "      <td>-0.002469</td>\n",
       "      <td>-0.002280</td>\n",
       "      <td>-0.002246</td>\n",
       "      <td>-0.002274</td>\n",
       "      <td>-0.002234</td>\n",
       "      <td>-0.002195</td>\n",
       "      <td>-0.002222</td>\n",
       "      <td>-0.002256</td>\n",
       "      <td>-0.002309</td>\n",
       "      <td>-0.002169</td>\n",
       "    </tr>\n",
       "    <tr>\n",
       "      <th>-69</th>\n",
       "      <td>-0.002016</td>\n",
       "      <td>-0.002161</td>\n",
       "      <td>-0.002036</td>\n",
       "      <td>-0.002137</td>\n",
       "      <td>-0.002055</td>\n",
       "      <td>-0.002152</td>\n",
       "      <td>-0.001956</td>\n",
       "      <td>-0.001947</td>\n",
       "      <td>-0.001902</td>\n",
       "      <td>-0.001956</td>\n",
       "      <td>...</td>\n",
       "      <td>-0.002464</td>\n",
       "      <td>-0.002549</td>\n",
       "      <td>-0.002543</td>\n",
       "      <td>-0.002400</td>\n",
       "      <td>-0.002277</td>\n",
       "      <td>-0.002232</td>\n",
       "      <td>-0.002135</td>\n",
       "      <td>-0.002257</td>\n",
       "      <td>-0.002356</td>\n",
       "      <td>-0.002016</td>\n",
       "    </tr>\n",
       "    <tr>\n",
       "      <th>-68</th>\n",
       "      <td>-0.002180</td>\n",
       "      <td>-0.002245</td>\n",
       "      <td>-0.002227</td>\n",
       "      <td>-0.002072</td>\n",
       "      <td>-0.002061</td>\n",
       "      <td>-0.002078</td>\n",
       "      <td>-0.002075</td>\n",
       "      <td>-0.002147</td>\n",
       "      <td>-0.002180</td>\n",
       "      <td>-0.002223</td>\n",
       "      <td>...</td>\n",
       "      <td>-0.002422</td>\n",
       "      <td>-0.002376</td>\n",
       "      <td>-0.002324</td>\n",
       "      <td>-0.002327</td>\n",
       "      <td>-0.002290</td>\n",
       "      <td>-0.002434</td>\n",
       "      <td>-0.002470</td>\n",
       "      <td>-0.002274</td>\n",
       "      <td>-0.002237</td>\n",
       "      <td>-0.002180</td>\n",
       "    </tr>\n",
       "    <tr>\n",
       "      <th>-67</th>\n",
       "      <td>-0.002284</td>\n",
       "      <td>-0.002320</td>\n",
       "      <td>-0.002188</td>\n",
       "      <td>-0.002213</td>\n",
       "      <td>-0.002105</td>\n",
       "      <td>-0.002105</td>\n",
       "      <td>-0.002137</td>\n",
       "      <td>-0.001933</td>\n",
       "      <td>-0.002155</td>\n",
       "      <td>-0.002064</td>\n",
       "      <td>...</td>\n",
       "      <td>-0.002410</td>\n",
       "      <td>-0.002461</td>\n",
       "      <td>-0.002310</td>\n",
       "      <td>-0.002421</td>\n",
       "      <td>-0.002459</td>\n",
       "      <td>-0.002178</td>\n",
       "      <td>-0.002212</td>\n",
       "      <td>-0.002110</td>\n",
       "      <td>-0.002232</td>\n",
       "      <td>-0.002284</td>\n",
       "    </tr>\n",
       "    <tr>\n",
       "      <th>-66</th>\n",
       "      <td>-0.002136</td>\n",
       "      <td>-0.002026</td>\n",
       "      <td>-0.002161</td>\n",
       "      <td>-0.001862</td>\n",
       "      <td>-0.002106</td>\n",
       "      <td>-0.002050</td>\n",
       "      <td>-0.001954</td>\n",
       "      <td>-0.001898</td>\n",
       "      <td>-0.001976</td>\n",
       "      <td>-0.001967</td>\n",
       "      <td>...</td>\n",
       "      <td>-0.002429</td>\n",
       "      <td>-0.002362</td>\n",
       "      <td>-0.002241</td>\n",
       "      <td>-0.002223</td>\n",
       "      <td>-0.002288</td>\n",
       "      <td>-0.002336</td>\n",
       "      <td>-0.002167</td>\n",
       "      <td>-0.002190</td>\n",
       "      <td>-0.002230</td>\n",
       "      <td>-0.002136</td>\n",
       "    </tr>\n",
       "    <tr>\n",
       "      <th>-65</th>\n",
       "      <td>-0.002105</td>\n",
       "      <td>-0.001962</td>\n",
       "      <td>-0.001961</td>\n",
       "      <td>-0.002034</td>\n",
       "      <td>-0.002030</td>\n",
       "      <td>-0.002204</td>\n",
       "      <td>-0.001933</td>\n",
       "      <td>-0.002044</td>\n",
       "      <td>-0.002070</td>\n",
       "      <td>-0.002029</td>\n",
       "      <td>...</td>\n",
       "      <td>-0.002191</td>\n",
       "      <td>-0.002157</td>\n",
       "      <td>-0.002121</td>\n",
       "      <td>-0.002232</td>\n",
       "      <td>-0.002170</td>\n",
       "      <td>-0.001997</td>\n",
       "      <td>-0.002028</td>\n",
       "      <td>-0.002203</td>\n",
       "      <td>-0.002119</td>\n",
       "      <td>-0.002105</td>\n",
       "    </tr>\n",
       "    <tr>\n",
       "      <th>-64</th>\n",
       "      <td>-0.002218</td>\n",
       "      <td>-0.001892</td>\n",
       "      <td>-0.002007</td>\n",
       "      <td>-0.001954</td>\n",
       "      <td>-0.002210</td>\n",
       "      <td>-0.002146</td>\n",
       "      <td>-0.001952</td>\n",
       "      <td>-0.001973</td>\n",
       "      <td>-0.001941</td>\n",
       "      <td>-0.001962</td>\n",
       "      <td>...</td>\n",
       "      <td>-0.002288</td>\n",
       "      <td>-0.002168</td>\n",
       "      <td>-0.002089</td>\n",
       "      <td>-0.002144</td>\n",
       "      <td>-0.002046</td>\n",
       "      <td>-0.002233</td>\n",
       "      <td>-0.002206</td>\n",
       "      <td>-0.002039</td>\n",
       "      <td>-0.002018</td>\n",
       "      <td>-0.002218</td>\n",
       "    </tr>\n",
       "    <tr>\n",
       "      <th>-63</th>\n",
       "      <td>-0.002015</td>\n",
       "      <td>-0.001972</td>\n",
       "      <td>-0.002002</td>\n",
       "      <td>-0.001944</td>\n",
       "      <td>-0.002033</td>\n",
       "      <td>-0.002057</td>\n",
       "      <td>-0.002083</td>\n",
       "      <td>-0.002026</td>\n",
       "      <td>-0.001985</td>\n",
       "      <td>-0.001815</td>\n",
       "      <td>...</td>\n",
       "      <td>-0.002258</td>\n",
       "      <td>-0.002272</td>\n",
       "      <td>-0.002316</td>\n",
       "      <td>-0.002307</td>\n",
       "      <td>-0.002274</td>\n",
       "      <td>-0.002294</td>\n",
       "      <td>-0.002236</td>\n",
       "      <td>-0.002147</td>\n",
       "      <td>-0.002181</td>\n",
       "      <td>-0.002015</td>\n",
       "    </tr>\n",
       "    <tr>\n",
       "      <th>-62</th>\n",
       "      <td>-0.002115</td>\n",
       "      <td>-0.001885</td>\n",
       "      <td>-0.001987</td>\n",
       "      <td>-0.001942</td>\n",
       "      <td>-0.001851</td>\n",
       "      <td>-0.001949</td>\n",
       "      <td>-0.002117</td>\n",
       "      <td>-0.001997</td>\n",
       "      <td>-0.001953</td>\n",
       "      <td>-0.001883</td>\n",
       "      <td>...</td>\n",
       "      <td>-0.002005</td>\n",
       "      <td>-0.002333</td>\n",
       "      <td>-0.002233</td>\n",
       "      <td>-0.002204</td>\n",
       "      <td>-0.002097</td>\n",
       "      <td>-0.002098</td>\n",
       "      <td>-0.002234</td>\n",
       "      <td>-0.002004</td>\n",
       "      <td>-0.002062</td>\n",
       "      <td>-0.002115</td>\n",
       "    </tr>\n",
       "    <tr>\n",
       "      <th>-61</th>\n",
       "      <td>-0.001872</td>\n",
       "      <td>-0.001834</td>\n",
       "      <td>-0.001933</td>\n",
       "      <td>-0.002001</td>\n",
       "      <td>-0.002065</td>\n",
       "      <td>-0.001859</td>\n",
       "      <td>-0.001818</td>\n",
       "      <td>-0.001923</td>\n",
       "      <td>-0.002036</td>\n",
       "      <td>-0.001905</td>\n",
       "      <td>...</td>\n",
       "      <td>-0.002099</td>\n",
       "      <td>-0.002238</td>\n",
       "      <td>-0.002218</td>\n",
       "      <td>-0.002258</td>\n",
       "      <td>-0.002156</td>\n",
       "      <td>-0.001917</td>\n",
       "      <td>-0.002088</td>\n",
       "      <td>-0.002075</td>\n",
       "      <td>-0.001983</td>\n",
       "      <td>-0.001872</td>\n",
       "    </tr>\n",
       "    <tr>\n",
       "      <th>...</th>\n",
       "      <td>...</td>\n",
       "      <td>...</td>\n",
       "      <td>...</td>\n",
       "      <td>...</td>\n",
       "      <td>...</td>\n",
       "      <td>...</td>\n",
       "      <td>...</td>\n",
       "      <td>...</td>\n",
       "      <td>...</td>\n",
       "      <td>...</td>\n",
       "      <td>...</td>\n",
       "      <td>...</td>\n",
       "      <td>...</td>\n",
       "      <td>...</td>\n",
       "      <td>...</td>\n",
       "      <td>...</td>\n",
       "      <td>...</td>\n",
       "      <td>...</td>\n",
       "      <td>...</td>\n",
       "      <td>...</td>\n",
       "      <td>...</td>\n",
       "    </tr>\n",
       "    <tr>\n",
       "      <th>61</th>\n",
       "      <td>0.002345</td>\n",
       "      <td>0.002212</td>\n",
       "      <td>0.002294</td>\n",
       "      <td>0.002403</td>\n",
       "      <td>0.002371</td>\n",
       "      <td>0.002451</td>\n",
       "      <td>0.002454</td>\n",
       "      <td>0.002515</td>\n",
       "      <td>0.002360</td>\n",
       "      <td>0.002473</td>\n",
       "      <td>...</td>\n",
       "      <td>0.002062</td>\n",
       "      <td>0.002226</td>\n",
       "      <td>0.002173</td>\n",
       "      <td>0.002091</td>\n",
       "      <td>0.002250</td>\n",
       "      <td>0.002373</td>\n",
       "      <td>0.002190</td>\n",
       "      <td>0.002261</td>\n",
       "      <td>0.002323</td>\n",
       "      <td>0.002345</td>\n",
       "    </tr>\n",
       "    <tr>\n",
       "      <th>62</th>\n",
       "      <td>0.002411</td>\n",
       "      <td>0.002216</td>\n",
       "      <td>0.002353</td>\n",
       "      <td>0.002386</td>\n",
       "      <td>0.002246</td>\n",
       "      <td>0.002354</td>\n",
       "      <td>0.002404</td>\n",
       "      <td>0.002431</td>\n",
       "      <td>0.002493</td>\n",
       "      <td>0.002334</td>\n",
       "      <td>...</td>\n",
       "      <td>0.002026</td>\n",
       "      <td>0.002233</td>\n",
       "      <td>0.002361</td>\n",
       "      <td>0.002297</td>\n",
       "      <td>0.002255</td>\n",
       "      <td>0.002016</td>\n",
       "      <td>0.002172</td>\n",
       "      <td>0.002151</td>\n",
       "      <td>0.002306</td>\n",
       "      <td>0.002411</td>\n",
       "    </tr>\n",
       "    <tr>\n",
       "      <th>63</th>\n",
       "      <td>0.002189</td>\n",
       "      <td>0.002301</td>\n",
       "      <td>0.002281</td>\n",
       "      <td>0.002213</td>\n",
       "      <td>0.002424</td>\n",
       "      <td>0.002506</td>\n",
       "      <td>0.002613</td>\n",
       "      <td>0.002561</td>\n",
       "      <td>0.002401</td>\n",
       "      <td>0.002577</td>\n",
       "      <td>...</td>\n",
       "      <td>0.002276</td>\n",
       "      <td>0.002348</td>\n",
       "      <td>0.002417</td>\n",
       "      <td>0.002209</td>\n",
       "      <td>0.002368</td>\n",
       "      <td>0.002205</td>\n",
       "      <td>0.002108</td>\n",
       "      <td>0.002295</td>\n",
       "      <td>0.002307</td>\n",
       "      <td>0.002189</td>\n",
       "    </tr>\n",
       "    <tr>\n",
       "      <th>64</th>\n",
       "      <td>0.002346</td>\n",
       "      <td>0.002267</td>\n",
       "      <td>0.002360</td>\n",
       "      <td>0.002348</td>\n",
       "      <td>0.002517</td>\n",
       "      <td>0.002555</td>\n",
       "      <td>0.002477</td>\n",
       "      <td>0.002584</td>\n",
       "      <td>0.002540</td>\n",
       "      <td>0.002627</td>\n",
       "      <td>...</td>\n",
       "      <td>0.002200</td>\n",
       "      <td>0.002077</td>\n",
       "      <td>0.002220</td>\n",
       "      <td>0.002418</td>\n",
       "      <td>0.002530</td>\n",
       "      <td>0.002531</td>\n",
       "      <td>0.002348</td>\n",
       "      <td>0.002345</td>\n",
       "      <td>0.002326</td>\n",
       "      <td>0.002346</td>\n",
       "    </tr>\n",
       "    <tr>\n",
       "      <th>65</th>\n",
       "      <td>0.002436</td>\n",
       "      <td>0.002534</td>\n",
       "      <td>0.002567</td>\n",
       "      <td>0.002500</td>\n",
       "      <td>0.002516</td>\n",
       "      <td>0.002484</td>\n",
       "      <td>0.002609</td>\n",
       "      <td>0.002576</td>\n",
       "      <td>0.002698</td>\n",
       "      <td>0.002537</td>\n",
       "      <td>...</td>\n",
       "      <td>0.002346</td>\n",
       "      <td>0.002287</td>\n",
       "      <td>0.002359</td>\n",
       "      <td>0.002261</td>\n",
       "      <td>0.002343</td>\n",
       "      <td>0.002397</td>\n",
       "      <td>0.002409</td>\n",
       "      <td>0.002276</td>\n",
       "      <td>0.002428</td>\n",
       "      <td>0.002436</td>\n",
       "    </tr>\n",
       "    <tr>\n",
       "      <th>66</th>\n",
       "      <td>0.002388</td>\n",
       "      <td>0.002330</td>\n",
       "      <td>0.002479</td>\n",
       "      <td>0.002543</td>\n",
       "      <td>0.002571</td>\n",
       "      <td>0.002553</td>\n",
       "      <td>0.002515</td>\n",
       "      <td>0.002608</td>\n",
       "      <td>0.002710</td>\n",
       "      <td>0.002637</td>\n",
       "      <td>...</td>\n",
       "      <td>0.002324</td>\n",
       "      <td>0.002303</td>\n",
       "      <td>0.002470</td>\n",
       "      <td>0.002492</td>\n",
       "      <td>0.002516</td>\n",
       "      <td>0.002394</td>\n",
       "      <td>0.002436</td>\n",
       "      <td>0.002471</td>\n",
       "      <td>0.002679</td>\n",
       "      <td>0.002388</td>\n",
       "    </tr>\n",
       "    <tr>\n",
       "      <th>67</th>\n",
       "      <td>0.002473</td>\n",
       "      <td>0.002433</td>\n",
       "      <td>0.002600</td>\n",
       "      <td>0.002581</td>\n",
       "      <td>0.002474</td>\n",
       "      <td>0.002640</td>\n",
       "      <td>0.002596</td>\n",
       "      <td>0.002524</td>\n",
       "      <td>0.002344</td>\n",
       "      <td>0.002596</td>\n",
       "      <td>...</td>\n",
       "      <td>0.002453</td>\n",
       "      <td>0.002470</td>\n",
       "      <td>0.002360</td>\n",
       "      <td>0.002387</td>\n",
       "      <td>0.002519</td>\n",
       "      <td>0.002357</td>\n",
       "      <td>0.002387</td>\n",
       "      <td>0.002456</td>\n",
       "      <td>0.002370</td>\n",
       "      <td>0.002473</td>\n",
       "    </tr>\n",
       "    <tr>\n",
       "      <th>68</th>\n",
       "      <td>0.002412</td>\n",
       "      <td>0.002462</td>\n",
       "      <td>0.002515</td>\n",
       "      <td>0.002601</td>\n",
       "      <td>0.002521</td>\n",
       "      <td>0.002614</td>\n",
       "      <td>0.002421</td>\n",
       "      <td>0.002509</td>\n",
       "      <td>0.002462</td>\n",
       "      <td>0.002543</td>\n",
       "      <td>...</td>\n",
       "      <td>0.002322</td>\n",
       "      <td>0.002333</td>\n",
       "      <td>0.002287</td>\n",
       "      <td>0.002253</td>\n",
       "      <td>0.002383</td>\n",
       "      <td>0.002595</td>\n",
       "      <td>0.002496</td>\n",
       "      <td>0.002300</td>\n",
       "      <td>0.002447</td>\n",
       "      <td>0.002412</td>\n",
       "    </tr>\n",
       "    <tr>\n",
       "      <th>69</th>\n",
       "      <td>0.002367</td>\n",
       "      <td>0.002470</td>\n",
       "      <td>0.002442</td>\n",
       "      <td>0.002498</td>\n",
       "      <td>0.002505</td>\n",
       "      <td>0.002497</td>\n",
       "      <td>0.002394</td>\n",
       "      <td>0.002505</td>\n",
       "      <td>0.002526</td>\n",
       "      <td>0.002615</td>\n",
       "      <td>...</td>\n",
       "      <td>0.002360</td>\n",
       "      <td>0.002233</td>\n",
       "      <td>0.002285</td>\n",
       "      <td>0.002473</td>\n",
       "      <td>0.002488</td>\n",
       "      <td>0.002250</td>\n",
       "      <td>0.002350</td>\n",
       "      <td>0.002258</td>\n",
       "      <td>0.002419</td>\n",
       "      <td>0.002367</td>\n",
       "    </tr>\n",
       "    <tr>\n",
       "      <th>70</th>\n",
       "      <td>0.002597</td>\n",
       "      <td>0.002507</td>\n",
       "      <td>0.002444</td>\n",
       "      <td>0.002351</td>\n",
       "      <td>0.002468</td>\n",
       "      <td>0.002621</td>\n",
       "      <td>0.002686</td>\n",
       "      <td>0.002453</td>\n",
       "      <td>0.002433</td>\n",
       "      <td>0.002367</td>\n",
       "      <td>...</td>\n",
       "      <td>0.002274</td>\n",
       "      <td>0.002283</td>\n",
       "      <td>0.002353</td>\n",
       "      <td>0.002267</td>\n",
       "      <td>0.002386</td>\n",
       "      <td>0.002370</td>\n",
       "      <td>0.002506</td>\n",
       "      <td>0.002610</td>\n",
       "      <td>0.002532</td>\n",
       "      <td>0.002597</td>\n",
       "    </tr>\n",
       "    <tr>\n",
       "      <th>71</th>\n",
       "      <td>0.002566</td>\n",
       "      <td>0.002541</td>\n",
       "      <td>0.002593</td>\n",
       "      <td>0.002416</td>\n",
       "      <td>0.002478</td>\n",
       "      <td>0.002370</td>\n",
       "      <td>0.002443</td>\n",
       "      <td>0.002570</td>\n",
       "      <td>0.002519</td>\n",
       "      <td>0.002452</td>\n",
       "      <td>...</td>\n",
       "      <td>0.002259</td>\n",
       "      <td>0.002202</td>\n",
       "      <td>0.002409</td>\n",
       "      <td>0.002431</td>\n",
       "      <td>0.002352</td>\n",
       "      <td>0.002391</td>\n",
       "      <td>0.002456</td>\n",
       "      <td>0.002385</td>\n",
       "      <td>0.002507</td>\n",
       "      <td>0.002566</td>\n",
       "    </tr>\n",
       "    <tr>\n",
       "      <th>72</th>\n",
       "      <td>0.002396</td>\n",
       "      <td>0.002448</td>\n",
       "      <td>0.002674</td>\n",
       "      <td>0.002611</td>\n",
       "      <td>0.002612</td>\n",
       "      <td>0.002461</td>\n",
       "      <td>0.002549</td>\n",
       "      <td>0.002541</td>\n",
       "      <td>0.002507</td>\n",
       "      <td>0.002608</td>\n",
       "      <td>...</td>\n",
       "      <td>0.002531</td>\n",
       "      <td>0.002362</td>\n",
       "      <td>0.002428</td>\n",
       "      <td>0.002438</td>\n",
       "      <td>0.002399</td>\n",
       "      <td>0.002477</td>\n",
       "      <td>0.002363</td>\n",
       "      <td>0.002457</td>\n",
       "      <td>0.002422</td>\n",
       "      <td>0.002396</td>\n",
       "    </tr>\n",
       "    <tr>\n",
       "      <th>73</th>\n",
       "      <td>0.002521</td>\n",
       "      <td>0.002650</td>\n",
       "      <td>0.002577</td>\n",
       "      <td>0.002529</td>\n",
       "      <td>0.002761</td>\n",
       "      <td>0.002699</td>\n",
       "      <td>0.002526</td>\n",
       "      <td>0.002425</td>\n",
       "      <td>0.002539</td>\n",
       "      <td>0.002705</td>\n",
       "      <td>...</td>\n",
       "      <td>0.002454</td>\n",
       "      <td>0.002344</td>\n",
       "      <td>0.002349</td>\n",
       "      <td>0.002171</td>\n",
       "      <td>0.002217</td>\n",
       "      <td>0.002383</td>\n",
       "      <td>0.002571</td>\n",
       "      <td>0.002492</td>\n",
       "      <td>0.002536</td>\n",
       "      <td>0.002521</td>\n",
       "    </tr>\n",
       "    <tr>\n",
       "      <th>74</th>\n",
       "      <td>0.002472</td>\n",
       "      <td>0.002522</td>\n",
       "      <td>0.002551</td>\n",
       "      <td>0.002446</td>\n",
       "      <td>0.002461</td>\n",
       "      <td>0.002498</td>\n",
       "      <td>0.002492</td>\n",
       "      <td>0.002486</td>\n",
       "      <td>0.002584</td>\n",
       "      <td>0.002726</td>\n",
       "      <td>...</td>\n",
       "      <td>0.002336</td>\n",
       "      <td>0.002559</td>\n",
       "      <td>0.002671</td>\n",
       "      <td>0.002572</td>\n",
       "      <td>0.002526</td>\n",
       "      <td>0.002413</td>\n",
       "      <td>0.002366</td>\n",
       "      <td>0.002523</td>\n",
       "      <td>0.002329</td>\n",
       "      <td>0.002472</td>\n",
       "    </tr>\n",
       "    <tr>\n",
       "      <th>75</th>\n",
       "      <td>0.002566</td>\n",
       "      <td>0.002603</td>\n",
       "      <td>0.002644</td>\n",
       "      <td>0.002533</td>\n",
       "      <td>0.002466</td>\n",
       "      <td>0.002631</td>\n",
       "      <td>0.002556</td>\n",
       "      <td>0.002493</td>\n",
       "      <td>0.002660</td>\n",
       "      <td>0.002755</td>\n",
       "      <td>...</td>\n",
       "      <td>0.002491</td>\n",
       "      <td>0.002727</td>\n",
       "      <td>0.002628</td>\n",
       "      <td>0.002575</td>\n",
       "      <td>0.002604</td>\n",
       "      <td>0.002592</td>\n",
       "      <td>0.002683</td>\n",
       "      <td>0.002602</td>\n",
       "      <td>0.002529</td>\n",
       "      <td>0.002566</td>\n",
       "    </tr>\n",
       "    <tr>\n",
       "      <th>76</th>\n",
       "      <td>0.002541</td>\n",
       "      <td>0.002627</td>\n",
       "      <td>0.002682</td>\n",
       "      <td>0.002591</td>\n",
       "      <td>0.002523</td>\n",
       "      <td>0.002618</td>\n",
       "      <td>0.002464</td>\n",
       "      <td>0.002603</td>\n",
       "      <td>0.002593</td>\n",
       "      <td>0.002569</td>\n",
       "      <td>...</td>\n",
       "      <td>0.002589</td>\n",
       "      <td>0.002719</td>\n",
       "      <td>0.002777</td>\n",
       "      <td>0.002628</td>\n",
       "      <td>0.002566</td>\n",
       "      <td>0.002695</td>\n",
       "      <td>0.002698</td>\n",
       "      <td>0.002708</td>\n",
       "      <td>0.002657</td>\n",
       "      <td>0.002541</td>\n",
       "    </tr>\n",
       "    <tr>\n",
       "      <th>77</th>\n",
       "      <td>0.002644</td>\n",
       "      <td>0.002647</td>\n",
       "      <td>0.002619</td>\n",
       "      <td>0.002665</td>\n",
       "      <td>0.002833</td>\n",
       "      <td>0.002833</td>\n",
       "      <td>0.002580</td>\n",
       "      <td>0.002545</td>\n",
       "      <td>0.002503</td>\n",
       "      <td>0.002636</td>\n",
       "      <td>...</td>\n",
       "      <td>0.002749</td>\n",
       "      <td>0.002672</td>\n",
       "      <td>0.002561</td>\n",
       "      <td>0.002592</td>\n",
       "      <td>0.002698</td>\n",
       "      <td>0.002636</td>\n",
       "      <td>0.002639</td>\n",
       "      <td>0.002706</td>\n",
       "      <td>0.002723</td>\n",
       "      <td>0.002644</td>\n",
       "    </tr>\n",
       "    <tr>\n",
       "      <th>78</th>\n",
       "      <td>0.002478</td>\n",
       "      <td>0.002439</td>\n",
       "      <td>0.002640</td>\n",
       "      <td>0.002676</td>\n",
       "      <td>0.002601</td>\n",
       "      <td>0.002582</td>\n",
       "      <td>0.002640</td>\n",
       "      <td>0.002570</td>\n",
       "      <td>0.002649</td>\n",
       "      <td>0.002741</td>\n",
       "      <td>...</td>\n",
       "      <td>0.002520</td>\n",
       "      <td>0.002667</td>\n",
       "      <td>0.002651</td>\n",
       "      <td>0.002646</td>\n",
       "      <td>0.002545</td>\n",
       "      <td>0.002501</td>\n",
       "      <td>0.002513</td>\n",
       "      <td>0.002507</td>\n",
       "      <td>0.002513</td>\n",
       "      <td>0.002478</td>\n",
       "    </tr>\n",
       "    <tr>\n",
       "      <th>79</th>\n",
       "      <td>0.002510</td>\n",
       "      <td>0.002466</td>\n",
       "      <td>0.002544</td>\n",
       "      <td>0.002541</td>\n",
       "      <td>0.002601</td>\n",
       "      <td>0.002522</td>\n",
       "      <td>0.002660</td>\n",
       "      <td>0.002550</td>\n",
       "      <td>0.002729</td>\n",
       "      <td>0.002754</td>\n",
       "      <td>...</td>\n",
       "      <td>0.002474</td>\n",
       "      <td>0.002441</td>\n",
       "      <td>0.002583</td>\n",
       "      <td>0.002622</td>\n",
       "      <td>0.002678</td>\n",
       "      <td>0.002681</td>\n",
       "      <td>0.002567</td>\n",
       "      <td>0.002420</td>\n",
       "      <td>0.002504</td>\n",
       "      <td>0.002510</td>\n",
       "    </tr>\n",
       "    <tr>\n",
       "      <th>80</th>\n",
       "      <td>0.002816</td>\n",
       "      <td>0.002819</td>\n",
       "      <td>0.002700</td>\n",
       "      <td>0.002707</td>\n",
       "      <td>0.002642</td>\n",
       "      <td>0.002640</td>\n",
       "      <td>0.002798</td>\n",
       "      <td>0.002847</td>\n",
       "      <td>0.002977</td>\n",
       "      <td>0.002543</td>\n",
       "      <td>...</td>\n",
       "      <td>0.002362</td>\n",
       "      <td>0.002547</td>\n",
       "      <td>0.002647</td>\n",
       "      <td>0.002626</td>\n",
       "      <td>0.002629</td>\n",
       "      <td>0.002759</td>\n",
       "      <td>0.002792</td>\n",
       "      <td>0.002764</td>\n",
       "      <td>0.002745</td>\n",
       "      <td>0.002816</td>\n",
       "    </tr>\n",
       "    <tr>\n",
       "      <th>81</th>\n",
       "      <td>0.002631</td>\n",
       "      <td>0.002593</td>\n",
       "      <td>0.002618</td>\n",
       "      <td>0.002585</td>\n",
       "      <td>0.002540</td>\n",
       "      <td>0.002515</td>\n",
       "      <td>0.002511</td>\n",
       "      <td>0.002450</td>\n",
       "      <td>0.002527</td>\n",
       "      <td>0.002562</td>\n",
       "      <td>...</td>\n",
       "      <td>0.002504</td>\n",
       "      <td>0.002454</td>\n",
       "      <td>0.002362</td>\n",
       "      <td>0.002623</td>\n",
       "      <td>0.002646</td>\n",
       "      <td>0.002588</td>\n",
       "      <td>0.002572</td>\n",
       "      <td>0.002648</td>\n",
       "      <td>0.002594</td>\n",
       "      <td>0.002631</td>\n",
       "    </tr>\n",
       "    <tr>\n",
       "      <th>82</th>\n",
       "      <td>0.002602</td>\n",
       "      <td>0.002616</td>\n",
       "      <td>0.002633</td>\n",
       "      <td>0.002640</td>\n",
       "      <td>0.002567</td>\n",
       "      <td>0.002433</td>\n",
       "      <td>0.002659</td>\n",
       "      <td>0.002670</td>\n",
       "      <td>0.002594</td>\n",
       "      <td>0.002718</td>\n",
       "      <td>...</td>\n",
       "      <td>0.002580</td>\n",
       "      <td>0.002558</td>\n",
       "      <td>0.002647</td>\n",
       "      <td>0.002487</td>\n",
       "      <td>0.002597</td>\n",
       "      <td>0.002526</td>\n",
       "      <td>0.002587</td>\n",
       "      <td>0.002649</td>\n",
       "      <td>0.002600</td>\n",
       "      <td>0.002602</td>\n",
       "    </tr>\n",
       "    <tr>\n",
       "      <th>83</th>\n",
       "      <td>0.002665</td>\n",
       "      <td>0.002630</td>\n",
       "      <td>0.002706</td>\n",
       "      <td>0.002842</td>\n",
       "      <td>0.002662</td>\n",
       "      <td>0.002730</td>\n",
       "      <td>0.002677</td>\n",
       "      <td>0.002678</td>\n",
       "      <td>0.002705</td>\n",
       "      <td>0.002607</td>\n",
       "      <td>...</td>\n",
       "      <td>0.002565</td>\n",
       "      <td>0.002584</td>\n",
       "      <td>0.002567</td>\n",
       "      <td>0.002635</td>\n",
       "      <td>0.002625</td>\n",
       "      <td>0.002658</td>\n",
       "      <td>0.002556</td>\n",
       "      <td>0.002603</td>\n",
       "      <td>0.002608</td>\n",
       "      <td>0.002665</td>\n",
       "    </tr>\n",
       "    <tr>\n",
       "      <th>84</th>\n",
       "      <td>0.002634</td>\n",
       "      <td>0.002707</td>\n",
       "      <td>0.002744</td>\n",
       "      <td>0.002738</td>\n",
       "      <td>0.002760</td>\n",
       "      <td>0.002731</td>\n",
       "      <td>0.002803</td>\n",
       "      <td>0.002767</td>\n",
       "      <td>0.002792</td>\n",
       "      <td>0.002698</td>\n",
       "      <td>...</td>\n",
       "      <td>0.002435</td>\n",
       "      <td>0.002524</td>\n",
       "      <td>0.002556</td>\n",
       "      <td>0.002554</td>\n",
       "      <td>0.002678</td>\n",
       "      <td>0.002647</td>\n",
       "      <td>0.002555</td>\n",
       "      <td>0.002622</td>\n",
       "      <td>0.002533</td>\n",
       "      <td>0.002634</td>\n",
       "    </tr>\n",
       "    <tr>\n",
       "      <th>85</th>\n",
       "      <td>0.002631</td>\n",
       "      <td>0.002460</td>\n",
       "      <td>0.002461</td>\n",
       "      <td>0.002557</td>\n",
       "      <td>0.002591</td>\n",
       "      <td>0.002684</td>\n",
       "      <td>0.002805</td>\n",
       "      <td>0.002711</td>\n",
       "      <td>0.002705</td>\n",
       "      <td>0.002688</td>\n",
       "      <td>...</td>\n",
       "      <td>0.002620</td>\n",
       "      <td>0.002557</td>\n",
       "      <td>0.002499</td>\n",
       "      <td>0.002479</td>\n",
       "      <td>0.002514</td>\n",
       "      <td>0.002534</td>\n",
       "      <td>0.002607</td>\n",
       "      <td>0.002456</td>\n",
       "      <td>0.002452</td>\n",
       "      <td>0.002631</td>\n",
       "    </tr>\n",
       "    <tr>\n",
       "      <th>86</th>\n",
       "      <td>0.002725</td>\n",
       "      <td>0.002713</td>\n",
       "      <td>0.002790</td>\n",
       "      <td>0.002804</td>\n",
       "      <td>0.002823</td>\n",
       "      <td>0.002776</td>\n",
       "      <td>0.002811</td>\n",
       "      <td>0.002734</td>\n",
       "      <td>0.002696</td>\n",
       "      <td>0.002671</td>\n",
       "      <td>...</td>\n",
       "      <td>0.002645</td>\n",
       "      <td>0.002752</td>\n",
       "      <td>0.002691</td>\n",
       "      <td>0.002730</td>\n",
       "      <td>0.002651</td>\n",
       "      <td>0.002845</td>\n",
       "      <td>0.002800</td>\n",
       "      <td>0.002753</td>\n",
       "      <td>0.002707</td>\n",
       "      <td>0.002725</td>\n",
       "    </tr>\n",
       "    <tr>\n",
       "      <th>87</th>\n",
       "      <td>0.002370</td>\n",
       "      <td>0.002477</td>\n",
       "      <td>0.002485</td>\n",
       "      <td>0.002445</td>\n",
       "      <td>0.002445</td>\n",
       "      <td>0.002435</td>\n",
       "      <td>0.002414</td>\n",
       "      <td>0.002593</td>\n",
       "      <td>0.002593</td>\n",
       "      <td>0.002561</td>\n",
       "      <td>...</td>\n",
       "      <td>0.002698</td>\n",
       "      <td>0.002637</td>\n",
       "      <td>0.002637</td>\n",
       "      <td>0.002570</td>\n",
       "      <td>0.002522</td>\n",
       "      <td>0.002435</td>\n",
       "      <td>0.002435</td>\n",
       "      <td>0.002524</td>\n",
       "      <td>0.002345</td>\n",
       "      <td>0.002370</td>\n",
       "    </tr>\n",
       "    <tr>\n",
       "      <th>88</th>\n",
       "      <td>0.002591</td>\n",
       "      <td>0.002520</td>\n",
       "      <td>0.002520</td>\n",
       "      <td>0.002452</td>\n",
       "      <td>0.002452</td>\n",
       "      <td>0.002500</td>\n",
       "      <td>0.002500</td>\n",
       "      <td>0.002494</td>\n",
       "      <td>0.002494</td>\n",
       "      <td>0.002514</td>\n",
       "      <td>...</td>\n",
       "      <td>0.002533</td>\n",
       "      <td>0.002516</td>\n",
       "      <td>0.002516</td>\n",
       "      <td>0.002564</td>\n",
       "      <td>0.002564</td>\n",
       "      <td>0.002570</td>\n",
       "      <td>0.002570</td>\n",
       "      <td>0.002561</td>\n",
       "      <td>0.002561</td>\n",
       "      <td>0.002591</td>\n",
       "    </tr>\n",
       "    <tr>\n",
       "      <th>89</th>\n",
       "      <td>0.002460</td>\n",
       "      <td>0.002374</td>\n",
       "      <td>0.002374</td>\n",
       "      <td>0.002374</td>\n",
       "      <td>0.002374</td>\n",
       "      <td>0.002410</td>\n",
       "      <td>0.002410</td>\n",
       "      <td>0.002410</td>\n",
       "      <td>0.002410</td>\n",
       "      <td>0.002485</td>\n",
       "      <td>...</td>\n",
       "      <td>0.002529</td>\n",
       "      <td>0.002385</td>\n",
       "      <td>0.002385</td>\n",
       "      <td>0.002385</td>\n",
       "      <td>0.002385</td>\n",
       "      <td>0.002477</td>\n",
       "      <td>0.002477</td>\n",
       "      <td>0.002477</td>\n",
       "      <td>0.002477</td>\n",
       "      <td>0.002460</td>\n",
       "    </tr>\n",
       "    <tr>\n",
       "      <th>90</th>\n",
       "      <td>0.002474</td>\n",
       "      <td>0.002474</td>\n",
       "      <td>0.002474</td>\n",
       "      <td>0.002474</td>\n",
       "      <td>0.002474</td>\n",
       "      <td>0.002474</td>\n",
       "      <td>0.002474</td>\n",
       "      <td>0.002474</td>\n",
       "      <td>0.002474</td>\n",
       "      <td>0.002474</td>\n",
       "      <td>...</td>\n",
       "      <td>0.002535</td>\n",
       "      <td>0.002535</td>\n",
       "      <td>0.002535</td>\n",
       "      <td>0.002535</td>\n",
       "      <td>0.002535</td>\n",
       "      <td>0.002535</td>\n",
       "      <td>0.002535</td>\n",
       "      <td>0.002535</td>\n",
       "      <td>0.002535</td>\n",
       "      <td>0.002474</td>\n",
       "    </tr>\n",
       "  </tbody>\n",
       "</table>\n",
       "<p>180 rows × 360 columns</p>\n",
       "</div>"
      ],
      "text/plain": [
       "longitude      -180      -179      -178      -177      -176      -175  \\\n",
       "latitude                                                                \n",
       "-90       -0.002445 -0.002445 -0.002445 -0.002445 -0.002445 -0.002445   \n",
       "-89       -0.002723 -0.002627 -0.002627 -0.002627 -0.002627 -0.002683   \n",
       "-88       -0.002693 -0.002695 -0.002695 -0.002675 -0.002675 -0.002680   \n",
       "-87       -0.002645 -0.002660 -0.002613 -0.002796 -0.002796 -0.002665   \n",
       "-86       -0.002335 -0.002325 -0.002317 -0.002469 -0.002349 -0.002359   \n",
       "-85       -0.002513 -0.002538 -0.002476 -0.002442 -0.002529 -0.002293   \n",
       "-84       -0.002475 -0.002425 -0.002371 -0.002325 -0.002375 -0.002330   \n",
       "-83       -0.002549 -0.002563 -0.002318 -0.002344 -0.002296 -0.002079   \n",
       "-82       -0.002512 -0.002519 -0.002388 -0.002523 -0.002509 -0.002494   \n",
       "-81       -0.002686 -0.002558 -0.002587 -0.002588 -0.002562 -0.002469   \n",
       "-80       -0.002435 -0.002677 -0.002687 -0.002529 -0.002598 -0.002602   \n",
       "-79       -0.002493 -0.002423 -0.002474 -0.002460 -0.002482 -0.002391   \n",
       "-78       -0.002550 -0.002435 -0.002565 -0.002665 -0.002639 -0.002667   \n",
       "-77       -0.002519 -0.002604 -0.002579 -0.002375 -0.002278 -0.002321   \n",
       "-76       -0.002424 -0.002314 -0.002243 -0.002392 -0.002211 -0.002274   \n",
       "-75       -0.002156 -0.002362 -0.002264 -0.002460 -0.002435 -0.002393   \n",
       "-74       -0.002430 -0.002347 -0.002246 -0.002270 -0.002165 -0.002076   \n",
       "-73       -0.002056 -0.002089 -0.002097 -0.002138 -0.002168 -0.002189   \n",
       "-72       -0.002131 -0.002209 -0.002077 -0.002157 -0.002125 -0.002090   \n",
       "-71       -0.002119 -0.002293 -0.002144 -0.002068 -0.002199 -0.002290   \n",
       "-70       -0.002169 -0.002135 -0.002238 -0.002116 -0.002181 -0.002368   \n",
       "-69       -0.002016 -0.002161 -0.002036 -0.002137 -0.002055 -0.002152   \n",
       "-68       -0.002180 -0.002245 -0.002227 -0.002072 -0.002061 -0.002078   \n",
       "-67       -0.002284 -0.002320 -0.002188 -0.002213 -0.002105 -0.002105   \n",
       "-66       -0.002136 -0.002026 -0.002161 -0.001862 -0.002106 -0.002050   \n",
       "-65       -0.002105 -0.001962 -0.001961 -0.002034 -0.002030 -0.002204   \n",
       "-64       -0.002218 -0.001892 -0.002007 -0.001954 -0.002210 -0.002146   \n",
       "-63       -0.002015 -0.001972 -0.002002 -0.001944 -0.002033 -0.002057   \n",
       "-62       -0.002115 -0.001885 -0.001987 -0.001942 -0.001851 -0.001949   \n",
       "-61       -0.001872 -0.001834 -0.001933 -0.002001 -0.002065 -0.001859   \n",
       "...             ...       ...       ...       ...       ...       ...   \n",
       " 61        0.002345  0.002212  0.002294  0.002403  0.002371  0.002451   \n",
       " 62        0.002411  0.002216  0.002353  0.002386  0.002246  0.002354   \n",
       " 63        0.002189  0.002301  0.002281  0.002213  0.002424  0.002506   \n",
       " 64        0.002346  0.002267  0.002360  0.002348  0.002517  0.002555   \n",
       " 65        0.002436  0.002534  0.002567  0.002500  0.002516  0.002484   \n",
       " 66        0.002388  0.002330  0.002479  0.002543  0.002571  0.002553   \n",
       " 67        0.002473  0.002433  0.002600  0.002581  0.002474  0.002640   \n",
       " 68        0.002412  0.002462  0.002515  0.002601  0.002521  0.002614   \n",
       " 69        0.002367  0.002470  0.002442  0.002498  0.002505  0.002497   \n",
       " 70        0.002597  0.002507  0.002444  0.002351  0.002468  0.002621   \n",
       " 71        0.002566  0.002541  0.002593  0.002416  0.002478  0.002370   \n",
       " 72        0.002396  0.002448  0.002674  0.002611  0.002612  0.002461   \n",
       " 73        0.002521  0.002650  0.002577  0.002529  0.002761  0.002699   \n",
       " 74        0.002472  0.002522  0.002551  0.002446  0.002461  0.002498   \n",
       " 75        0.002566  0.002603  0.002644  0.002533  0.002466  0.002631   \n",
       " 76        0.002541  0.002627  0.002682  0.002591  0.002523  0.002618   \n",
       " 77        0.002644  0.002647  0.002619  0.002665  0.002833  0.002833   \n",
       " 78        0.002478  0.002439  0.002640  0.002676  0.002601  0.002582   \n",
       " 79        0.002510  0.002466  0.002544  0.002541  0.002601  0.002522   \n",
       " 80        0.002816  0.002819  0.002700  0.002707  0.002642  0.002640   \n",
       " 81        0.002631  0.002593  0.002618  0.002585  0.002540  0.002515   \n",
       " 82        0.002602  0.002616  0.002633  0.002640  0.002567  0.002433   \n",
       " 83        0.002665  0.002630  0.002706  0.002842  0.002662  0.002730   \n",
       " 84        0.002634  0.002707  0.002744  0.002738  0.002760  0.002731   \n",
       " 85        0.002631  0.002460  0.002461  0.002557  0.002591  0.002684   \n",
       " 86        0.002725  0.002713  0.002790  0.002804  0.002823  0.002776   \n",
       " 87        0.002370  0.002477  0.002485  0.002445  0.002445  0.002435   \n",
       " 88        0.002591  0.002520  0.002520  0.002452  0.002452  0.002500   \n",
       " 89        0.002460  0.002374  0.002374  0.002374  0.002374  0.002410   \n",
       " 90        0.002474  0.002474  0.002474  0.002474  0.002474  0.002474   \n",
       "\n",
       "longitude      -174      -173      -172      -171    ...          171  \\\n",
       "latitude                                             ...                \n",
       "-90       -0.002445 -0.002445 -0.002445 -0.002445    ...    -0.002387   \n",
       "-89       -0.002683 -0.002683 -0.002683 -0.002557    ...    -0.002698   \n",
       "-88       -0.002680 -0.002521 -0.002521 -0.002638    ...    -0.002731   \n",
       "-87       -0.002522 -0.002603 -0.002603 -0.002570    ...    -0.002512   \n",
       "-86       -0.002326 -0.002436 -0.002333 -0.002366    ...    -0.002482   \n",
       "-85       -0.002420 -0.002319 -0.002243 -0.002239    ...    -0.002379   \n",
       "-84       -0.002238 -0.002319 -0.002299 -0.002287    ...    -0.002421   \n",
       "-83       -0.002141 -0.002126 -0.002235 -0.002314    ...    -0.002495   \n",
       "-82       -0.002431 -0.002484 -0.002455 -0.002432    ...    -0.002679   \n",
       "-81       -0.002447 -0.002481 -0.002462 -0.002471    ...    -0.002571   \n",
       "-80       -0.002726 -0.002632 -0.002479 -0.002340    ...    -0.002559   \n",
       "-79       -0.002294 -0.002337 -0.002324 -0.002389    ...    -0.002525   \n",
       "-78       -0.002810 -0.002653 -0.002527 -0.002480    ...    -0.002527   \n",
       "-77       -0.002292 -0.002355 -0.002324 -0.002423    ...    -0.002329   \n",
       "-76       -0.002287 -0.002359 -0.002354 -0.002264    ...    -0.002389   \n",
       "-75       -0.002276 -0.002231 -0.002289 -0.002318    ...    -0.002243   \n",
       "-74       -0.002034 -0.002125 -0.002131 -0.002289    ...    -0.002291   \n",
       "-73       -0.002209 -0.002207 -0.002241 -0.002037    ...    -0.002288   \n",
       "-72       -0.002170 -0.002242 -0.002443 -0.002361    ...    -0.002390   \n",
       "-71       -0.002405 -0.002231 -0.002290 -0.002151    ...    -0.002584   \n",
       "-70       -0.002267 -0.002313 -0.002217 -0.002275    ...    -0.002469   \n",
       "-69       -0.001956 -0.001947 -0.001902 -0.001956    ...    -0.002464   \n",
       "-68       -0.002075 -0.002147 -0.002180 -0.002223    ...    -0.002422   \n",
       "-67       -0.002137 -0.001933 -0.002155 -0.002064    ...    -0.002410   \n",
       "-66       -0.001954 -0.001898 -0.001976 -0.001967    ...    -0.002429   \n",
       "-65       -0.001933 -0.002044 -0.002070 -0.002029    ...    -0.002191   \n",
       "-64       -0.001952 -0.001973 -0.001941 -0.001962    ...    -0.002288   \n",
       "-63       -0.002083 -0.002026 -0.001985 -0.001815    ...    -0.002258   \n",
       "-62       -0.002117 -0.001997 -0.001953 -0.001883    ...    -0.002005   \n",
       "-61       -0.001818 -0.001923 -0.002036 -0.001905    ...    -0.002099   \n",
       "...             ...       ...       ...       ...    ...          ...   \n",
       " 61        0.002454  0.002515  0.002360  0.002473    ...     0.002062   \n",
       " 62        0.002404  0.002431  0.002493  0.002334    ...     0.002026   \n",
       " 63        0.002613  0.002561  0.002401  0.002577    ...     0.002276   \n",
       " 64        0.002477  0.002584  0.002540  0.002627    ...     0.002200   \n",
       " 65        0.002609  0.002576  0.002698  0.002537    ...     0.002346   \n",
       " 66        0.002515  0.002608  0.002710  0.002637    ...     0.002324   \n",
       " 67        0.002596  0.002524  0.002344  0.002596    ...     0.002453   \n",
       " 68        0.002421  0.002509  0.002462  0.002543    ...     0.002322   \n",
       " 69        0.002394  0.002505  0.002526  0.002615    ...     0.002360   \n",
       " 70        0.002686  0.002453  0.002433  0.002367    ...     0.002274   \n",
       " 71        0.002443  0.002570  0.002519  0.002452    ...     0.002259   \n",
       " 72        0.002549  0.002541  0.002507  0.002608    ...     0.002531   \n",
       " 73        0.002526  0.002425  0.002539  0.002705    ...     0.002454   \n",
       " 74        0.002492  0.002486  0.002584  0.002726    ...     0.002336   \n",
       " 75        0.002556  0.002493  0.002660  0.002755    ...     0.002491   \n",
       " 76        0.002464  0.002603  0.002593  0.002569    ...     0.002589   \n",
       " 77        0.002580  0.002545  0.002503  0.002636    ...     0.002749   \n",
       " 78        0.002640  0.002570  0.002649  0.002741    ...     0.002520   \n",
       " 79        0.002660  0.002550  0.002729  0.002754    ...     0.002474   \n",
       " 80        0.002798  0.002847  0.002977  0.002543    ...     0.002362   \n",
       " 81        0.002511  0.002450  0.002527  0.002562    ...     0.002504   \n",
       " 82        0.002659  0.002670  0.002594  0.002718    ...     0.002580   \n",
       " 83        0.002677  0.002678  0.002705  0.002607    ...     0.002565   \n",
       " 84        0.002803  0.002767  0.002792  0.002698    ...     0.002435   \n",
       " 85        0.002805  0.002711  0.002705  0.002688    ...     0.002620   \n",
       " 86        0.002811  0.002734  0.002696  0.002671    ...     0.002645   \n",
       " 87        0.002414  0.002593  0.002593  0.002561    ...     0.002698   \n",
       " 88        0.002500  0.002494  0.002494  0.002514    ...     0.002533   \n",
       " 89        0.002410  0.002410  0.002410  0.002485    ...     0.002529   \n",
       " 90        0.002474  0.002474  0.002474  0.002474    ...     0.002535   \n",
       "\n",
       "longitude       172       173       174       175       176       177  \\\n",
       "latitude                                                                \n",
       "-90       -0.002387 -0.002387 -0.002387 -0.002387 -0.002387 -0.002387   \n",
       "-89       -0.002567 -0.002567 -0.002567 -0.002567 -0.002664 -0.002664   \n",
       "-88       -0.002780 -0.002780 -0.002689 -0.002689 -0.002821 -0.002821   \n",
       "-87       -0.002576 -0.002576 -0.002648 -0.002651 -0.002655 -0.002655   \n",
       "-86       -0.002398 -0.002357 -0.002563 -0.002448 -0.002582 -0.002495   \n",
       "-85       -0.002275 -0.002379 -0.002408 -0.002343 -0.002595 -0.002644   \n",
       "-84       -0.002370 -0.002454 -0.002487 -0.002472 -0.002492 -0.002595   \n",
       "-83       -0.002613 -0.002477 -0.002558 -0.002528 -0.002601 -0.002515   \n",
       "-82       -0.002605 -0.002587 -0.002477 -0.002511 -0.002497 -0.002468   \n",
       "-81       -0.002451 -0.002428 -0.002428 -0.002461 -0.002416 -0.002469   \n",
       "-80       -0.002501 -0.002467 -0.002345 -0.002424 -0.002499 -0.002517   \n",
       "-79       -0.002497 -0.002496 -0.002435 -0.002540 -0.002462 -0.002556   \n",
       "-78       -0.002514 -0.002549 -0.002481 -0.002438 -0.002460 -0.002380   \n",
       "-77       -0.002131 -0.002231 -0.002259 -0.002491 -0.002408 -0.002329   \n",
       "-76       -0.002364 -0.002474 -0.002264 -0.002422 -0.002258 -0.002218   \n",
       "-75       -0.002405 -0.002555 -0.002451 -0.002354 -0.002440 -0.002309   \n",
       "-74       -0.002377 -0.002319 -0.002276 -0.002237 -0.002270 -0.002155   \n",
       "-73       -0.002190 -0.002342 -0.002241 -0.002138 -0.002033 -0.002163   \n",
       "-72       -0.002320 -0.002147 -0.002252 -0.002118 -0.002252 -0.002309   \n",
       "-71       -0.002509 -0.002285 -0.002296 -0.002399 -0.002237 -0.002194   \n",
       "-70       -0.002280 -0.002246 -0.002274 -0.002234 -0.002195 -0.002222   \n",
       "-69       -0.002549 -0.002543 -0.002400 -0.002277 -0.002232 -0.002135   \n",
       "-68       -0.002376 -0.002324 -0.002327 -0.002290 -0.002434 -0.002470   \n",
       "-67       -0.002461 -0.002310 -0.002421 -0.002459 -0.002178 -0.002212   \n",
       "-66       -0.002362 -0.002241 -0.002223 -0.002288 -0.002336 -0.002167   \n",
       "-65       -0.002157 -0.002121 -0.002232 -0.002170 -0.001997 -0.002028   \n",
       "-64       -0.002168 -0.002089 -0.002144 -0.002046 -0.002233 -0.002206   \n",
       "-63       -0.002272 -0.002316 -0.002307 -0.002274 -0.002294 -0.002236   \n",
       "-62       -0.002333 -0.002233 -0.002204 -0.002097 -0.002098 -0.002234   \n",
       "-61       -0.002238 -0.002218 -0.002258 -0.002156 -0.001917 -0.002088   \n",
       "...             ...       ...       ...       ...       ...       ...   \n",
       " 61        0.002226  0.002173  0.002091  0.002250  0.002373  0.002190   \n",
       " 62        0.002233  0.002361  0.002297  0.002255  0.002016  0.002172   \n",
       " 63        0.002348  0.002417  0.002209  0.002368  0.002205  0.002108   \n",
       " 64        0.002077  0.002220  0.002418  0.002530  0.002531  0.002348   \n",
       " 65        0.002287  0.002359  0.002261  0.002343  0.002397  0.002409   \n",
       " 66        0.002303  0.002470  0.002492  0.002516  0.002394  0.002436   \n",
       " 67        0.002470  0.002360  0.002387  0.002519  0.002357  0.002387   \n",
       " 68        0.002333  0.002287  0.002253  0.002383  0.002595  0.002496   \n",
       " 69        0.002233  0.002285  0.002473  0.002488  0.002250  0.002350   \n",
       " 70        0.002283  0.002353  0.002267  0.002386  0.002370  0.002506   \n",
       " 71        0.002202  0.002409  0.002431  0.002352  0.002391  0.002456   \n",
       " 72        0.002362  0.002428  0.002438  0.002399  0.002477  0.002363   \n",
       " 73        0.002344  0.002349  0.002171  0.002217  0.002383  0.002571   \n",
       " 74        0.002559  0.002671  0.002572  0.002526  0.002413  0.002366   \n",
       " 75        0.002727  0.002628  0.002575  0.002604  0.002592  0.002683   \n",
       " 76        0.002719  0.002777  0.002628  0.002566  0.002695  0.002698   \n",
       " 77        0.002672  0.002561  0.002592  0.002698  0.002636  0.002639   \n",
       " 78        0.002667  0.002651  0.002646  0.002545  0.002501  0.002513   \n",
       " 79        0.002441  0.002583  0.002622  0.002678  0.002681  0.002567   \n",
       " 80        0.002547  0.002647  0.002626  0.002629  0.002759  0.002792   \n",
       " 81        0.002454  0.002362  0.002623  0.002646  0.002588  0.002572   \n",
       " 82        0.002558  0.002647  0.002487  0.002597  0.002526  0.002587   \n",
       " 83        0.002584  0.002567  0.002635  0.002625  0.002658  0.002556   \n",
       " 84        0.002524  0.002556  0.002554  0.002678  0.002647  0.002555   \n",
       " 85        0.002557  0.002499  0.002479  0.002514  0.002534  0.002607   \n",
       " 86        0.002752  0.002691  0.002730  0.002651  0.002845  0.002800   \n",
       " 87        0.002637  0.002637  0.002570  0.002522  0.002435  0.002435   \n",
       " 88        0.002516  0.002516  0.002564  0.002564  0.002570  0.002570   \n",
       " 89        0.002385  0.002385  0.002385  0.002385  0.002477  0.002477   \n",
       " 90        0.002535  0.002535  0.002535  0.002535  0.002535  0.002535   \n",
       "\n",
       "longitude       178       179       180  \n",
       "latitude                                 \n",
       "-90       -0.002387 -0.002387 -0.002445  \n",
       "-89       -0.002664 -0.002664 -0.002723  \n",
       "-88       -0.002801 -0.002801 -0.002693  \n",
       "-87       -0.002743 -0.002618 -0.002645  \n",
       "-86       -0.002340 -0.002472 -0.002335  \n",
       "-85       -0.002714 -0.002620 -0.002513  \n",
       "-84       -0.002434 -0.002533 -0.002475  \n",
       "-83       -0.002495 -0.002629 -0.002549  \n",
       "-82       -0.002495 -0.002505 -0.002512  \n",
       "-81       -0.002528 -0.002452 -0.002686  \n",
       "-80       -0.002576 -0.002494 -0.002435  \n",
       "-79       -0.002380 -0.002531 -0.002493  \n",
       "-78       -0.002477 -0.002547 -0.002550  \n",
       "-77       -0.002296 -0.002385 -0.002519  \n",
       "-76       -0.002349 -0.002321 -0.002424  \n",
       "-75       -0.002160 -0.002144 -0.002156  \n",
       "-74       -0.002247 -0.002374 -0.002430  \n",
       "-73       -0.002144 -0.002294 -0.002056  \n",
       "-72       -0.002118 -0.002008 -0.002131  \n",
       "-71       -0.002242 -0.002085 -0.002119  \n",
       "-70       -0.002256 -0.002309 -0.002169  \n",
       "-69       -0.002257 -0.002356 -0.002016  \n",
       "-68       -0.002274 -0.002237 -0.002180  \n",
       "-67       -0.002110 -0.002232 -0.002284  \n",
       "-66       -0.002190 -0.002230 -0.002136  \n",
       "-65       -0.002203 -0.002119 -0.002105  \n",
       "-64       -0.002039 -0.002018 -0.002218  \n",
       "-63       -0.002147 -0.002181 -0.002015  \n",
       "-62       -0.002004 -0.002062 -0.002115  \n",
       "-61       -0.002075 -0.001983 -0.001872  \n",
       "...             ...       ...       ...  \n",
       " 61        0.002261  0.002323  0.002345  \n",
       " 62        0.002151  0.002306  0.002411  \n",
       " 63        0.002295  0.002307  0.002189  \n",
       " 64        0.002345  0.002326  0.002346  \n",
       " 65        0.002276  0.002428  0.002436  \n",
       " 66        0.002471  0.002679  0.002388  \n",
       " 67        0.002456  0.002370  0.002473  \n",
       " 68        0.002300  0.002447  0.002412  \n",
       " 69        0.002258  0.002419  0.002367  \n",
       " 70        0.002610  0.002532  0.002597  \n",
       " 71        0.002385  0.002507  0.002566  \n",
       " 72        0.002457  0.002422  0.002396  \n",
       " 73        0.002492  0.002536  0.002521  \n",
       " 74        0.002523  0.002329  0.002472  \n",
       " 75        0.002602  0.002529  0.002566  \n",
       " 76        0.002708  0.002657  0.002541  \n",
       " 77        0.002706  0.002723  0.002644  \n",
       " 78        0.002507  0.002513  0.002478  \n",
       " 79        0.002420  0.002504  0.002510  \n",
       " 80        0.002764  0.002745  0.002816  \n",
       " 81        0.002648  0.002594  0.002631  \n",
       " 82        0.002649  0.002600  0.002602  \n",
       " 83        0.002603  0.002608  0.002665  \n",
       " 84        0.002622  0.002533  0.002634  \n",
       " 85        0.002456  0.002452  0.002631  \n",
       " 86        0.002753  0.002707  0.002725  \n",
       " 87        0.002524  0.002345  0.002370  \n",
       " 88        0.002561  0.002561  0.002591  \n",
       " 89        0.002477  0.002477  0.002460  \n",
       " 90        0.002535  0.002535  0.002474  \n",
       "\n",
       "[180 rows x 360 columns]"
      ]
     },
     "execution_count": 230,
     "metadata": {},
     "output_type": "execute_result"
    }
   ],
   "source": [
    "map_2d"
   ]
  },
  {
   "cell_type": "code",
   "execution_count": 232,
   "metadata": {
    "collapsed": false
   },
   "outputs": [
    {
     "data": {
      "text/plain": [
       "64800"
      ]
     },
     "execution_count": 232,
     "metadata": {},
     "output_type": "execute_result"
    }
   ],
   "source": [
    "map_2d.size"
   ]
  },
  {
   "cell_type": "code",
   "execution_count": 247,
   "metadata": {
    "collapsed": false
   },
   "outputs": [
    {
     "data": {
      "text/plain": [
       "64800"
      ]
     },
     "execution_count": 247,
     "metadata": {},
     "output_type": "execute_result"
    }
   ],
   "source": [
    "360*180"
   ]
  },
  {
   "cell_type": "code",
   "execution_count": 241,
   "metadata": {
    "collapsed": false
   },
   "outputs": [
    {
     "data": {
      "text/plain": [
       "(-3.1414252927194779, 3.1415518147478485)"
      ]
     },
     "execution_count": 241,
     "metadata": {},
     "output_type": "execute_result"
    }
   ],
   "source": [
    "l.min(), l.max()"
   ]
  },
  {
   "cell_type": "code",
   "execution_count": 242,
   "metadata": {
    "collapsed": false
   },
   "outputs": [
    {
     "data": {
      "text/plain": [
       "(-1.5664933249117152, 1.566493324911741)"
      ]
     },
     "execution_count": 242,
     "metadata": {},
     "output_type": "execute_result"
    }
   ],
   "source": [
    "b.min(), b.max()"
   ]
  },
  {
   "cell_type": "code",
   "execution_count": 51,
   "metadata": {
    "collapsed": false
   },
   "outputs": [],
   "source": [
    "pixelated_map = planck_map.reset_index()"
   ]
  },
  {
   "cell_type": "code",
   "execution_count": 52,
   "metadata": {
    "collapsed": true
   },
   "outputs": [],
   "source": [
    "pixelated_map.index.name = \"pixel\""
   ]
  },
  {
   "cell_type": "code",
   "execution_count": 53,
   "metadata": {
    "collapsed": false
   },
   "outputs": [
    {
     "data": {
      "text/html": [
       "<div>\n",
       "<table border=\"1\" class=\"dataframe\">\n",
       "  <thead>\n",
       "    <tr style=\"text-align: right;\">\n",
       "      <th></th>\n",
       "      <th>latitude</th>\n",
       "      <th>longitude</th>\n",
       "      <th>temperature</th>\n",
       "    </tr>\n",
       "    <tr>\n",
       "      <th>pixel</th>\n",
       "      <th></th>\n",
       "      <th></th>\n",
       "      <th></th>\n",
       "    </tr>\n",
       "  </thead>\n",
       "  <tbody>\n",
       "    <tr>\n",
       "      <th>0</th>\n",
       "      <td>-90</td>\n",
       "      <td>-180</td>\n",
       "      <td>-0.002445</td>\n",
       "    </tr>\n",
       "    <tr>\n",
       "      <th>1</th>\n",
       "      <td>-90</td>\n",
       "      <td>-179</td>\n",
       "      <td>-0.002445</td>\n",
       "    </tr>\n",
       "    <tr>\n",
       "      <th>2</th>\n",
       "      <td>-90</td>\n",
       "      <td>-178</td>\n",
       "      <td>-0.002445</td>\n",
       "    </tr>\n",
       "    <tr>\n",
       "      <th>3</th>\n",
       "      <td>-90</td>\n",
       "      <td>-177</td>\n",
       "      <td>-0.002445</td>\n",
       "    </tr>\n",
       "    <tr>\n",
       "      <th>4</th>\n",
       "      <td>-90</td>\n",
       "      <td>-176</td>\n",
       "      <td>-0.002445</td>\n",
       "    </tr>\n",
       "  </tbody>\n",
       "</table>\n",
       "</div>"
      ],
      "text/plain": [
       "       latitude  longitude  temperature\n",
       "pixel                                  \n",
       "0           -90       -180    -0.002445\n",
       "1           -90       -179    -0.002445\n",
       "2           -90       -178    -0.002445\n",
       "3           -90       -177    -0.002445\n",
       "4           -90       -176    -0.002445"
      ]
     },
     "execution_count": 53,
     "metadata": {},
     "output_type": "execute_result"
    }
   ],
   "source": [
    "pixelated_map.head()"
   ]
  },
  {
   "cell_type": "code",
   "execution_count": 55,
   "metadata": {
    "collapsed": false
   },
   "outputs": [],
   "source": [
    "index_into_each_row = (np.degrees(l) + 180).astype(np.int)"
   ]
  },
  {
   "cell_type": "code",
   "execution_count": 56,
   "metadata": {
    "collapsed": false
   },
   "outputs": [
    {
     "data": {
      "text/plain": [
       "359"
      ]
     },
     "execution_count": 56,
     "metadata": {},
     "output_type": "execute_result"
    }
   ],
   "source": [
    "index_into_each_row.max()"
   ]
  },
  {
   "cell_type": "code",
   "execution_count": 57,
   "metadata": {
    "collapsed": true
   },
   "outputs": [],
   "source": [
    "column = (np.degrees(b)+90).astype(np.int)"
   ]
  },
  {
   "cell_type": "code",
   "execution_count": 58,
   "metadata": {
    "collapsed": false
   },
   "outputs": [
    {
     "data": {
      "text/plain": [
       "179"
      ]
     },
     "execution_count": 58,
     "metadata": {},
     "output_type": "execute_result"
    }
   ],
   "source": [
    "column.max()"
   ]
  },
  {
   "cell_type": "code",
   "execution_count": 67,
   "metadata": {
    "collapsed": true
   },
   "outputs": [],
   "source": [
    "pd.MultiIndex.from_arrays(np.repeat(np.))"
   ]
  },
  {
   "cell_type": "code",
   "execution_count": 59,
   "metadata": {
    "collapsed": true
   },
   "outputs": [],
   "source": [
    "pix = column * 360 + index_into_each_row"
   ]
  },
  {
   "cell_type": "code",
   "execution_count": 60,
   "metadata": {
    "collapsed": false
   },
   "outputs": [
    {
     "data": {
      "text/plain": [
       "83"
      ]
     },
     "execution_count": 60,
     "metadata": {},
     "output_type": "execute_result"
    }
   ],
   "source": [
    "pix.min()"
   ]
  },
  {
   "cell_type": "code",
   "execution_count": 61,
   "metadata": {
    "collapsed": false
   },
   "outputs": [
    {
     "data": {
      "text/plain": [
       "64731"
      ]
     },
     "execution_count": 61,
     "metadata": {},
     "output_type": "execute_result"
    }
   ],
   "source": [
    "pix.max()"
   ]
  },
  {
   "cell_type": "code",
   "execution_count": 70,
   "metadata": {
    "collapsed": false
   },
   "outputs": [
    {
     "data": {
      "text/plain": [
       "365"
      ]
     },
     "execution_count": 70,
     "metadata": {},
     "output_type": "execute_result"
    }
   ],
   "source": [
    "len(rng)"
   ]
  },
  {
   "cell_type": "code",
   "execution_count": 71,
   "metadata": {
    "collapsed": true
   },
   "outputs": [],
   "source": [
    "rng = pd.date_range('13/8/2009', periods=360, freq='D')"
   ]
  },
  {
   "cell_type": "code",
   "execution_count": 84,
   "metadata": {
    "collapsed": false
   },
   "outputs": [],
   "source": [
    "ringsets_index = pd.MultiIndex.from_arrays([rng.repeat(360), pix], names=[\"date\",\"pixel\"])"
   ]
  },
  {
   "cell_type": "code",
   "execution_count": 80,
   "metadata": {
    "collapsed": false
   },
   "outputs": [],
   "source": [
    "f = pd.Series(1, index=ringsets_index)"
   ]
  },
  {
   "cell_type": "code",
   "execution_count": 82,
   "metadata": {
    "collapsed": false
   },
   "outputs": [
    {
     "data": {
      "text/plain": [
       "2010-08-07  43121    1\n",
       "            43119    1\n",
       "            43118    1\n",
       "            43117    1\n",
       "            43116    1\n",
       "dtype: int64"
      ]
     },
     "execution_count": 82,
     "metadata": {},
     "output_type": "execute_result"
    }
   ],
   "source": [
    "f.tail()"
   ]
  },
  {
   "cell_type": "code",
   "execution_count": 259,
   "metadata": {
    "collapsed": false
   },
   "outputs": [
    {
     "data": {
      "text/plain": [
       "<matplotlib.image.AxesImage at 0x7f283a6bac50>"
      ]
     },
     "execution_count": 259,
     "metadata": {},
     "output_type": "execute_result"
    },
    {
     "data": {
      "image/png": "[encoded data removed]",
      "text/plain": [
       "<matplotlib.figure.Figure at 0x7f283a7b92e8>"
      ]
     },
     "metadata": {},
     "output_type": "display_data"
    }
   ],
   "source": [
    "plt.imshow(map_2d.values.flatten()[pix].reshape((360,-1)))"
   ]
  },
  {
   "cell_type": "code",
   "execution_count": 1,
   "metadata": {
    "collapsed": false
   },
   "outputs": [
    {
     "ename": "NameError",
     "evalue": "name 'pd' is not defined",
     "output_type": "error",
     "traceback": [
      "\u001b[1;31m---------------------------------------------------------------------------\u001b[0m",
      "\u001b[1;31mNameError\u001b[0m                                 Traceback (most recent call last)",
      "\u001b[1;32m<ipython-input-1-7e03d811f8cd>\u001b[0m in \u001b[0;36m<module>\u001b[1;34m()\u001b[0m\n\u001b[1;32m----> 1\u001b[1;33m \u001b[0mpixelated_map\u001b[0m \u001b[1;33m=\u001b[0m \u001b[0mpd\u001b[0m\u001b[1;33m.\u001b[0m\u001b[0mSeries\u001b[0m\u001b[1;33m(\u001b[0m\u001b[0mmap_2d\u001b[0m\u001b[1;33m.\u001b[0m\u001b[0mvalues\u001b[0m\u001b[1;33m.\u001b[0m\u001b[0mflatten\u001b[0m\u001b[1;33m(\u001b[0m\u001b[1;33m)\u001b[0m\u001b[1;33m)\u001b[0m\u001b[1;33m\u001b[0m\u001b[0m\n\u001b[0m",
      "\u001b[1;31mNameError\u001b[0m: name 'pd' is not defined"
     ]
    }
   ],
   "source": [
    "pixelated_map = pd.Series(map_2d.values.flatten())"
   ]
  },
  {
   "cell_type": "code",
   "execution_count": 73,
   "metadata": {
    "collapsed": false
   },
   "outputs": [
    {
     "data": {
      "text/plain": [
       "360.0"
      ]
     },
     "execution_count": 73,
     "metadata": {},
     "output_type": "execute_result"
    }
   ],
   "source": [
    "len(pix)/360"
   ]
  },
  {
   "cell_type": "code",
   "execution_count": 85,
   "metadata": {
    "collapsed": false
   },
   "outputs": [],
   "source": [
    "p = pixelated_map.reindex(ringsets_index, level=\"pixel\")"
   ]
  },
  {
   "cell_type": "code",
   "execution_count": 86,
   "metadata": {
    "collapsed": false
   },
   "outputs": [
    {
     "data": {
      "text/html": [
       "<div>\n",
       "<table border=\"1\" class=\"dataframe\">\n",
       "  <thead>\n",
       "    <tr style=\"text-align: right;\">\n",
       "      <th></th>\n",
       "      <th></th>\n",
       "      <th>latitude</th>\n",
       "      <th>longitude</th>\n",
       "      <th>temperature</th>\n",
       "    </tr>\n",
       "    <tr>\n",
       "      <th>date</th>\n",
       "      <th>pixel</th>\n",
       "      <th></th>\n",
       "      <th></th>\n",
       "      <th></th>\n",
       "    </tr>\n",
       "  </thead>\n",
       "  <tbody>\n",
       "    <tr>\n",
       "      <th rowspan=\"30\" valign=\"top\">2009-08-13</th>\n",
       "      <th>21696</th>\n",
       "      <td>-30</td>\n",
       "      <td>-84</td>\n",
       "      <td>0.000796</td>\n",
       "    </tr>\n",
       "    <tr>\n",
       "      <th>21697</th>\n",
       "      <td>-30</td>\n",
       "      <td>-83</td>\n",
       "      <td>0.000773</td>\n",
       "    </tr>\n",
       "    <tr>\n",
       "      <th>21698</th>\n",
       "      <td>-30</td>\n",
       "      <td>-82</td>\n",
       "      <td>0.000702</td>\n",
       "    </tr>\n",
       "    <tr>\n",
       "      <th>21699</th>\n",
       "      <td>-30</td>\n",
       "      <td>-81</td>\n",
       "      <td>0.000723</td>\n",
       "    </tr>\n",
       "    <tr>\n",
       "      <th>21701</th>\n",
       "      <td>-30</td>\n",
       "      <td>-79</td>\n",
       "      <td>0.000587</td>\n",
       "    </tr>\n",
       "    <tr>\n",
       "      <th>21702</th>\n",
       "      <td>-30</td>\n",
       "      <td>-78</td>\n",
       "      <td>0.000788</td>\n",
       "    </tr>\n",
       "    <tr>\n",
       "      <th>21703</th>\n",
       "      <td>-30</td>\n",
       "      <td>-77</td>\n",
       "      <td>0.000675</td>\n",
       "    </tr>\n",
       "    <tr>\n",
       "      <th>21704</th>\n",
       "      <td>-30</td>\n",
       "      <td>-76</td>\n",
       "      <td>0.000694</td>\n",
       "    </tr>\n",
       "    <tr>\n",
       "      <th>21705</th>\n",
       "      <td>-30</td>\n",
       "      <td>-75</td>\n",
       "      <td>0.000609</td>\n",
       "    </tr>\n",
       "    <tr>\n",
       "      <th>21706</th>\n",
       "      <td>-30</td>\n",
       "      <td>-74</td>\n",
       "      <td>0.000594</td>\n",
       "    </tr>\n",
       "    <tr>\n",
       "      <th>21707</th>\n",
       "      <td>-30</td>\n",
       "      <td>-73</td>\n",
       "      <td>0.000611</td>\n",
       "    </tr>\n",
       "    <tr>\n",
       "      <th>21709</th>\n",
       "      <td>-30</td>\n",
       "      <td>-71</td>\n",
       "      <td>0.000675</td>\n",
       "    </tr>\n",
       "    <tr>\n",
       "      <th>21710</th>\n",
       "      <td>-30</td>\n",
       "      <td>-70</td>\n",
       "      <td>0.000650</td>\n",
       "    </tr>\n",
       "    <tr>\n",
       "      <th>22071</th>\n",
       "      <td>-29</td>\n",
       "      <td>-69</td>\n",
       "      <td>0.000645</td>\n",
       "    </tr>\n",
       "    <tr>\n",
       "      <th>22072</th>\n",
       "      <td>-29</td>\n",
       "      <td>-68</td>\n",
       "      <td>0.000603</td>\n",
       "    </tr>\n",
       "    <tr>\n",
       "      <th>22073</th>\n",
       "      <td>-29</td>\n",
       "      <td>-67</td>\n",
       "      <td>0.000633</td>\n",
       "    </tr>\n",
       "    <tr>\n",
       "      <th>22074</th>\n",
       "      <td>-29</td>\n",
       "      <td>-66</td>\n",
       "      <td>0.000566</td>\n",
       "    </tr>\n",
       "    <tr>\n",
       "      <th>22075</th>\n",
       "      <td>-29</td>\n",
       "      <td>-65</td>\n",
       "      <td>0.000666</td>\n",
       "    </tr>\n",
       "    <tr>\n",
       "      <th>22077</th>\n",
       "      <td>-29</td>\n",
       "      <td>-63</td>\n",
       "      <td>0.000697</td>\n",
       "    </tr>\n",
       "    <tr>\n",
       "      <th>22078</th>\n",
       "      <td>-29</td>\n",
       "      <td>-62</td>\n",
       "      <td>0.000356</td>\n",
       "    </tr>\n",
       "    <tr>\n",
       "      <th>22439</th>\n",
       "      <td>-28</td>\n",
       "      <td>-61</td>\n",
       "      <td>0.000471</td>\n",
       "    </tr>\n",
       "    <tr>\n",
       "      <th>22440</th>\n",
       "      <td>-28</td>\n",
       "      <td>-60</td>\n",
       "      <td>0.000359</td>\n",
       "    </tr>\n",
       "    <tr>\n",
       "      <th>22441</th>\n",
       "      <td>-28</td>\n",
       "      <td>-59</td>\n",
       "      <td>0.000526</td>\n",
       "    </tr>\n",
       "    <tr>\n",
       "      <th>22442</th>\n",
       "      <td>-28</td>\n",
       "      <td>-58</td>\n",
       "      <td>0.000512</td>\n",
       "    </tr>\n",
       "    <tr>\n",
       "      <th>22803</th>\n",
       "      <td>-27</td>\n",
       "      <td>-57</td>\n",
       "      <td>0.000315</td>\n",
       "    </tr>\n",
       "    <tr>\n",
       "      <th>22804</th>\n",
       "      <td>-27</td>\n",
       "      <td>-56</td>\n",
       "      <td>0.000574</td>\n",
       "    </tr>\n",
       "    <tr>\n",
       "      <th>22805</th>\n",
       "      <td>-27</td>\n",
       "      <td>-55</td>\n",
       "      <td>0.000439</td>\n",
       "    </tr>\n",
       "    <tr>\n",
       "      <th>22806</th>\n",
       "      <td>-27</td>\n",
       "      <td>-54</td>\n",
       "      <td>0.000410</td>\n",
       "    </tr>\n",
       "    <tr>\n",
       "      <th>23168</th>\n",
       "      <td>-26</td>\n",
       "      <td>-52</td>\n",
       "      <td>0.000500</td>\n",
       "    </tr>\n",
       "    <tr>\n",
       "      <th>23169</th>\n",
       "      <td>-26</td>\n",
       "      <td>-51</td>\n",
       "      <td>0.000502</td>\n",
       "    </tr>\n",
       "    <tr>\n",
       "      <th>...</th>\n",
       "      <th>...</th>\n",
       "      <td>...</td>\n",
       "      <td>...</td>\n",
       "      <td>...</td>\n",
       "    </tr>\n",
       "    <tr>\n",
       "      <th rowspan=\"30\" valign=\"top\">2010-08-07</th>\n",
       "      <th>41709</th>\n",
       "      <td>26</td>\n",
       "      <td>130</td>\n",
       "      <td>-0.000292</td>\n",
       "    </tr>\n",
       "    <tr>\n",
       "      <th>41708</th>\n",
       "      <td>26</td>\n",
       "      <td>129</td>\n",
       "      <td>-0.000543</td>\n",
       "    </tr>\n",
       "    <tr>\n",
       "      <th>42066</th>\n",
       "      <td>27</td>\n",
       "      <td>127</td>\n",
       "      <td>-0.000365</td>\n",
       "    </tr>\n",
       "    <tr>\n",
       "      <th>42065</th>\n",
       "      <td>27</td>\n",
       "      <td>126</td>\n",
       "      <td>-0.000425</td>\n",
       "    </tr>\n",
       "    <tr>\n",
       "      <th>42064</th>\n",
       "      <td>27</td>\n",
       "      <td>125</td>\n",
       "      <td>-0.000499</td>\n",
       "    </tr>\n",
       "    <tr>\n",
       "      <th>42063</th>\n",
       "      <td>27</td>\n",
       "      <td>124</td>\n",
       "      <td>-0.000482</td>\n",
       "    </tr>\n",
       "    <tr>\n",
       "      <th>42422</th>\n",
       "      <td>28</td>\n",
       "      <td>123</td>\n",
       "      <td>-0.000362</td>\n",
       "    </tr>\n",
       "    <tr>\n",
       "      <th>42421</th>\n",
       "      <td>28</td>\n",
       "      <td>122</td>\n",
       "      <td>-0.000418</td>\n",
       "    </tr>\n",
       "    <tr>\n",
       "      <th>42420</th>\n",
       "      <td>28</td>\n",
       "      <td>121</td>\n",
       "      <td>-0.000526</td>\n",
       "    </tr>\n",
       "    <tr>\n",
       "      <th>42419</th>\n",
       "      <td>28</td>\n",
       "      <td>120</td>\n",
       "      <td>-0.000434</td>\n",
       "    </tr>\n",
       "    <tr>\n",
       "      <th>42778</th>\n",
       "      <td>29</td>\n",
       "      <td>119</td>\n",
       "      <td>-0.000479</td>\n",
       "    </tr>\n",
       "    <tr>\n",
       "      <th>42777</th>\n",
       "      <td>29</td>\n",
       "      <td>118</td>\n",
       "      <td>-0.000447</td>\n",
       "    </tr>\n",
       "    <tr>\n",
       "      <th>42775</th>\n",
       "      <td>29</td>\n",
       "      <td>116</td>\n",
       "      <td>-0.000502</td>\n",
       "    </tr>\n",
       "    <tr>\n",
       "      <th>42774</th>\n",
       "      <td>29</td>\n",
       "      <td>115</td>\n",
       "      <td>-0.000328</td>\n",
       "    </tr>\n",
       "    <tr>\n",
       "      <th>42773</th>\n",
       "      <td>29</td>\n",
       "      <td>114</td>\n",
       "      <td>-0.000499</td>\n",
       "    </tr>\n",
       "    <tr>\n",
       "      <th>42772</th>\n",
       "      <td>29</td>\n",
       "      <td>113</td>\n",
       "      <td>-0.000549</td>\n",
       "    </tr>\n",
       "    <tr>\n",
       "      <th>42771</th>\n",
       "      <td>29</td>\n",
       "      <td>112</td>\n",
       "      <td>-0.000496</td>\n",
       "    </tr>\n",
       "    <tr>\n",
       "      <th>43130</th>\n",
       "      <td>30</td>\n",
       "      <td>111</td>\n",
       "      <td>-0.000622</td>\n",
       "    </tr>\n",
       "    <tr>\n",
       "      <th>43129</th>\n",
       "      <td>30</td>\n",
       "      <td>110</td>\n",
       "      <td>-0.000474</td>\n",
       "    </tr>\n",
       "    <tr>\n",
       "      <th>43127</th>\n",
       "      <td>30</td>\n",
       "      <td>108</td>\n",
       "      <td>-0.000519</td>\n",
       "    </tr>\n",
       "    <tr>\n",
       "      <th>43126</th>\n",
       "      <td>30</td>\n",
       "      <td>107</td>\n",
       "      <td>-0.000449</td>\n",
       "    </tr>\n",
       "    <tr>\n",
       "      <th>43125</th>\n",
       "      <td>30</td>\n",
       "      <td>106</td>\n",
       "      <td>-0.000662</td>\n",
       "    </tr>\n",
       "    <tr>\n",
       "      <th>43124</th>\n",
       "      <td>30</td>\n",
       "      <td>105</td>\n",
       "      <td>-0.000581</td>\n",
       "    </tr>\n",
       "    <tr>\n",
       "      <th>43123</th>\n",
       "      <td>30</td>\n",
       "      <td>104</td>\n",
       "      <td>-0.000397</td>\n",
       "    </tr>\n",
       "    <tr>\n",
       "      <th>43122</th>\n",
       "      <td>30</td>\n",
       "      <td>103</td>\n",
       "      <td>-0.000443</td>\n",
       "    </tr>\n",
       "    <tr>\n",
       "      <th>43121</th>\n",
       "      <td>30</td>\n",
       "      <td>102</td>\n",
       "      <td>-0.000485</td>\n",
       "    </tr>\n",
       "    <tr>\n",
       "      <th>43119</th>\n",
       "      <td>30</td>\n",
       "      <td>100</td>\n",
       "      <td>-0.000517</td>\n",
       "    </tr>\n",
       "    <tr>\n",
       "      <th>43118</th>\n",
       "      <td>30</td>\n",
       "      <td>99</td>\n",
       "      <td>-0.000417</td>\n",
       "    </tr>\n",
       "    <tr>\n",
       "      <th>43117</th>\n",
       "      <td>30</td>\n",
       "      <td>98</td>\n",
       "      <td>-0.000636</td>\n",
       "    </tr>\n",
       "    <tr>\n",
       "      <th>43116</th>\n",
       "      <td>30</td>\n",
       "      <td>97</td>\n",
       "      <td>-0.000637</td>\n",
       "    </tr>\n",
       "  </tbody>\n",
       "</table>\n",
       "<p>129600 rows × 3 columns</p>\n",
       "</div>"
      ],
      "text/plain": [
       "                  latitude  longitude  temperature\n",
       "date       pixel                                  \n",
       "2009-08-13 21696       -30        -84     0.000796\n",
       "           21697       -30        -83     0.000773\n",
       "           21698       -30        -82     0.000702\n",
       "           21699       -30        -81     0.000723\n",
       "           21701       -30        -79     0.000587\n",
       "           21702       -30        -78     0.000788\n",
       "           21703       -30        -77     0.000675\n",
       "           21704       -30        -76     0.000694\n",
       "           21705       -30        -75     0.000609\n",
       "           21706       -30        -74     0.000594\n",
       "           21707       -30        -73     0.000611\n",
       "           21709       -30        -71     0.000675\n",
       "           21710       -30        -70     0.000650\n",
       "           22071       -29        -69     0.000645\n",
       "           22072       -29        -68     0.000603\n",
       "           22073       -29        -67     0.000633\n",
       "           22074       -29        -66     0.000566\n",
       "           22075       -29        -65     0.000666\n",
       "           22077       -29        -63     0.000697\n",
       "           22078       -29        -62     0.000356\n",
       "           22439       -28        -61     0.000471\n",
       "           22440       -28        -60     0.000359\n",
       "           22441       -28        -59     0.000526\n",
       "           22442       -28        -58     0.000512\n",
       "           22803       -27        -57     0.000315\n",
       "           22804       -27        -56     0.000574\n",
       "           22805       -27        -55     0.000439\n",
       "           22806       -27        -54     0.000410\n",
       "           23168       -26        -52     0.000500\n",
       "           23169       -26        -51     0.000502\n",
       "...                    ...        ...          ...\n",
       "2010-08-07 41709        26        130    -0.000292\n",
       "           41708        26        129    -0.000543\n",
       "           42066        27        127    -0.000365\n",
       "           42065        27        126    -0.000425\n",
       "           42064        27        125    -0.000499\n",
       "           42063        27        124    -0.000482\n",
       "           42422        28        123    -0.000362\n",
       "           42421        28        122    -0.000418\n",
       "           42420        28        121    -0.000526\n",
       "           42419        28        120    -0.000434\n",
       "           42778        29        119    -0.000479\n",
       "           42777        29        118    -0.000447\n",
       "           42775        29        116    -0.000502\n",
       "           42774        29        115    -0.000328\n",
       "           42773        29        114    -0.000499\n",
       "           42772        29        113    -0.000549\n",
       "           42771        29        112    -0.000496\n",
       "           43130        30        111    -0.000622\n",
       "           43129        30        110    -0.000474\n",
       "           43127        30        108    -0.000519\n",
       "           43126        30        107    -0.000449\n",
       "           43125        30        106    -0.000662\n",
       "           43124        30        105    -0.000581\n",
       "           43123        30        104    -0.000397\n",
       "           43122        30        103    -0.000443\n",
       "           43121        30        102    -0.000485\n",
       "           43119        30        100    -0.000517\n",
       "           43118        30         99    -0.000417\n",
       "           43117        30         98    -0.000636\n",
       "           43116        30         97    -0.000637\n",
       "\n",
       "[129600 rows x 3 columns]"
      ]
     },
     "execution_count": 86,
     "metadata": {},
     "output_type": "execute_result"
    }
   ],
   "source": [
    "p"
   ]
  },
  {
   "cell_type": "code",
   "execution_count": 64,
   "metadata": {
    "collapsed": false
   },
   "outputs": [
    {
     "data": {
      "text/plain": [
       "<matplotlib.image.AxesImage at 0x7f95bcabc9b0>"
      ]
     },
     "execution_count": 64,
     "metadata": {},
     "output_type": "execute_result"
    },
    {
     "data": {
      "image/png": "[encoded data removed]",
      "text/plain": [
       "<matplotlib.figure.Figure at 0x7f95e409ca90>"
      ]
     },
     "metadata": {},
     "output_type": "display_data"
    }
   ],
   "source": [
    "plt.imshow(p.temperature.reshape(360,-1))"
   ]
  },
  {
   "cell_type": "code",
   "execution_count": 65,
   "metadata": {
    "collapsed": false
   },
   "outputs": [
    {
     "data": {
      "text/plain": [
       "129600"
      ]
     },
     "execution_count": 65,
     "metadata": {},
     "output_type": "execute_result"
    }
   ],
   "source": [
    "len(p)"
   ]
  },
  {
   "cell_type": "code",
   "execution_count": 87,
   "metadata": {
    "collapsed": false
   },
   "outputs": [
    {
     "data": {
      "text/html": [
       "<div>\n",
       "<table border=\"1\" class=\"dataframe\">\n",
       "  <thead>\n",
       "    <tr style=\"text-align: right;\">\n",
       "      <th></th>\n",
       "      <th></th>\n",
       "      <th>latitude</th>\n",
       "      <th>longitude</th>\n",
       "      <th>temperature</th>\n",
       "    </tr>\n",
       "    <tr>\n",
       "      <th>date</th>\n",
       "      <th>pixel</th>\n",
       "      <th></th>\n",
       "      <th></th>\n",
       "      <th></th>\n",
       "    </tr>\n",
       "  </thead>\n",
       "  <tbody>\n",
       "    <tr>\n",
       "      <th rowspan=\"5\" valign=\"top\">2009-08-13</th>\n",
       "      <th>21696</th>\n",
       "      <td>-30</td>\n",
       "      <td>-84</td>\n",
       "      <td>0.000796</td>\n",
       "    </tr>\n",
       "    <tr>\n",
       "      <th>21697</th>\n",
       "      <td>-30</td>\n",
       "      <td>-83</td>\n",
       "      <td>0.000773</td>\n",
       "    </tr>\n",
       "    <tr>\n",
       "      <th>21698</th>\n",
       "      <td>-30</td>\n",
       "      <td>-82</td>\n",
       "      <td>0.000702</td>\n",
       "    </tr>\n",
       "    <tr>\n",
       "      <th>21699</th>\n",
       "      <td>-30</td>\n",
       "      <td>-81</td>\n",
       "      <td>0.000723</td>\n",
       "    </tr>\n",
       "    <tr>\n",
       "      <th>21701</th>\n",
       "      <td>-30</td>\n",
       "      <td>-79</td>\n",
       "      <td>0.000587</td>\n",
       "    </tr>\n",
       "  </tbody>\n",
       "</table>\n",
       "</div>"
      ],
      "text/plain": [
       "                  latitude  longitude  temperature\n",
       "date       pixel                                  \n",
       "2009-08-13 21696       -30        -84     0.000796\n",
       "           21697       -30        -83     0.000773\n",
       "           21698       -30        -82     0.000702\n",
       "           21699       -30        -81     0.000723\n",
       "           21701       -30        -79     0.000587"
      ]
     },
     "execution_count": 87,
     "metadata": {},
     "output_type": "execute_result"
    }
   ],
   "source": [
    "p.head()"
   ]
  },
  {
   "cell_type": "code",
   "execution_count": 88,
   "metadata": {
    "collapsed": false
   },
   "outputs": [
    {
     "ename": "ValueError",
     "evalue": "Index contains duplicate entries, cannot reshape",
     "output_type": "error",
     "traceback": [
      "\u001b[1;31m---------------------------------------------------------------------------\u001b[0m",
      "\u001b[1;31mValueError\u001b[0m                                Traceback (most recent call last)",
      "\u001b[1;32m<ipython-input-88-4a54a56ceb65>\u001b[0m in \u001b[0;36m<module>\u001b[1;34m()\u001b[0m\n\u001b[1;32m----> 1\u001b[1;33m \u001b[0mp\u001b[0m\u001b[1;33m.\u001b[0m\u001b[0mtemperature\u001b[0m\u001b[1;33m.\u001b[0m\u001b[0munstack\u001b[0m\u001b[1;33m(\u001b[0m\u001b[1;33m)\u001b[0m\u001b[1;33m\u001b[0m\u001b[0m\n\u001b[0m",
      "\u001b[1;32m/global/project/projectdirs/cmb/modules/carver/pycmb3/envs/py35/lib/python3.5/site-packages/pandas/core/series.py\u001b[0m in \u001b[0;36munstack\u001b[1;34m(self, level, fill_value)\u001b[0m\n\u001b[0;32m   2059\u001b[0m         \"\"\"\n\u001b[0;32m   2060\u001b[0m         \u001b[1;32mfrom\u001b[0m \u001b[0mpandas\u001b[0m\u001b[1;33m.\u001b[0m\u001b[0mcore\u001b[0m\u001b[1;33m.\u001b[0m\u001b[0mreshape\u001b[0m \u001b[1;32mimport\u001b[0m \u001b[0munstack\u001b[0m\u001b[1;33m\u001b[0m\u001b[0m\n\u001b[1;32m-> 2061\u001b[1;33m         \u001b[1;32mreturn\u001b[0m \u001b[0munstack\u001b[0m\u001b[1;33m(\u001b[0m\u001b[0mself\u001b[0m\u001b[1;33m,\u001b[0m \u001b[0mlevel\u001b[0m\u001b[1;33m,\u001b[0m \u001b[0mfill_value\u001b[0m\u001b[1;33m)\u001b[0m\u001b[1;33m\u001b[0m\u001b[0m\n\u001b[0m\u001b[0;32m   2062\u001b[0m \u001b[1;33m\u001b[0m\u001b[0m\n\u001b[0;32m   2063\u001b[0m     \u001b[1;31m# ----------------------------------------------------------------------\u001b[0m\u001b[1;33m\u001b[0m\u001b[1;33m\u001b[0m\u001b[0m\n",
      "\u001b[1;32m/global/project/projectdirs/cmb/modules/carver/pycmb3/envs/py35/lib/python3.5/site-packages/pandas/core/reshape.py\u001b[0m in \u001b[0;36munstack\u001b[1;34m(obj, level, fill_value)\u001b[0m\n\u001b[0;32m    403\u001b[0m     \u001b[1;32melse\u001b[0m\u001b[1;33m:\u001b[0m\u001b[1;33m\u001b[0m\u001b[0m\n\u001b[0;32m    404\u001b[0m         unstacker = _Unstacker(obj.values, obj.index, level=level,\n\u001b[1;32m--> 405\u001b[1;33m                                fill_value=fill_value)\n\u001b[0m\u001b[0;32m    406\u001b[0m         \u001b[1;32mreturn\u001b[0m \u001b[0munstacker\u001b[0m\u001b[1;33m.\u001b[0m\u001b[0mget_result\u001b[0m\u001b[1;33m(\u001b[0m\u001b[1;33m)\u001b[0m\u001b[1;33m\u001b[0m\u001b[0m\n\u001b[0;32m    407\u001b[0m \u001b[1;33m\u001b[0m\u001b[0m\n",
      "\u001b[1;32m/global/project/projectdirs/cmb/modules/carver/pycmb3/envs/py35/lib/python3.5/site-packages/pandas/core/reshape.py\u001b[0m in \u001b[0;36m__init__\u001b[1;34m(self, values, index, level, value_columns, fill_value)\u001b[0m\n\u001b[0;32m     97\u001b[0m \u001b[1;33m\u001b[0m\u001b[0m\n\u001b[0;32m     98\u001b[0m         \u001b[0mself\u001b[0m\u001b[1;33m.\u001b[0m\u001b[0m_make_sorted_values_labels\u001b[0m\u001b[1;33m(\u001b[0m\u001b[1;33m)\u001b[0m\u001b[1;33m\u001b[0m\u001b[0m\n\u001b[1;32m---> 99\u001b[1;33m         \u001b[0mself\u001b[0m\u001b[1;33m.\u001b[0m\u001b[0m_make_selectors\u001b[0m\u001b[1;33m(\u001b[0m\u001b[1;33m)\u001b[0m\u001b[1;33m\u001b[0m\u001b[0m\n\u001b[0m\u001b[0;32m    100\u001b[0m \u001b[1;33m\u001b[0m\u001b[0m\n\u001b[0;32m    101\u001b[0m     \u001b[1;32mdef\u001b[0m \u001b[0m_make_sorted_values_labels\u001b[0m\u001b[1;33m(\u001b[0m\u001b[0mself\u001b[0m\u001b[1;33m)\u001b[0m\u001b[1;33m:\u001b[0m\u001b[1;33m\u001b[0m\u001b[0m\n",
      "\u001b[1;32m/global/project/projectdirs/cmb/modules/carver/pycmb3/envs/py35/lib/python3.5/site-packages/pandas/core/reshape.py\u001b[0m in \u001b[0;36m_make_selectors\u001b[1;34m(self)\u001b[0m\n\u001b[0;32m    135\u001b[0m \u001b[1;33m\u001b[0m\u001b[0m\n\u001b[0;32m    136\u001b[0m         \u001b[1;32mif\u001b[0m \u001b[0mmask\u001b[0m\u001b[1;33m.\u001b[0m\u001b[0msum\u001b[0m\u001b[1;33m(\u001b[0m\u001b[1;33m)\u001b[0m \u001b[1;33m<\u001b[0m \u001b[0mlen\u001b[0m\u001b[1;33m(\u001b[0m\u001b[0mself\u001b[0m\u001b[1;33m.\u001b[0m\u001b[0mindex\u001b[0m\u001b[1;33m)\u001b[0m\u001b[1;33m:\u001b[0m\u001b[1;33m\u001b[0m\u001b[0m\n\u001b[1;32m--> 137\u001b[1;33m             raise ValueError('Index contains duplicate entries, '\n\u001b[0m\u001b[0;32m    138\u001b[0m                              'cannot reshape')\n\u001b[0;32m    139\u001b[0m \u001b[1;33m\u001b[0m\u001b[0m\n",
      "\u001b[1;31mValueError\u001b[0m: Index contains duplicate entries, cannot reshape"
     ]
    }
   ],
   "source": [
    "p.temperature.unstack()"
   ]
  },
  {
   "cell_type": "code",
   "execution_count": null,
   "metadata": {
    "collapsed": true
   },
   "outputs": [],
   "source": []
  }
 ],
 "metadata": {
  "kernelspec": {
   "display_name": "PyCMB py35",
   "language": "python",
   "name": "py35"
  },
  "language_info": {
   "codemirror_mode": {
    "name": "ipython",
    "version": 3
   },
   "file_extension": ".py",
   "mimetype": "text/x-python",
   "name": "python",
   "nbconvert_exporter": "python",
   "pygments_lexer": "ipython3",
   "version": "3.5.1"
  }
 },
 "nbformat": 4,
 "nbformat_minor": 2
}
