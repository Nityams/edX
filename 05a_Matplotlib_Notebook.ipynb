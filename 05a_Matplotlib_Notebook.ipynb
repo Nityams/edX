{
 "cells": [
  {
   "cell_type": "code",
   "execution_count": 3,
   "metadata": {
    "collapsed": true
   },
   "outputs": [],
   "source": [
    "# Data Source: https://www.kaggle.com/worldbank/world-development-indicators\n",
    "# Folder: 'world-development-indicators'"
   ]
  },
  {
   "cell_type": "markdown",
   "metadata": {},
   "source": [
    "<br><p style=\"font-family: Arial; font-size:3.75em;color:purple; font-style:bold\">\n",
    "World Development Indicators</p><br><br>\n",
    "# Exploring Data Visualization Using Matplotlib\n",
    "@Alok - can you add some descriptions of the source of the data, what it holds, who provided it, and maybe an image (free use)"
   ]
  },
  {
   "cell_type": "markdown",
   "metadata": {},
   "source": [
    "# Step 1: Initial exploration of the Dataset"
   ]
  },
  {
   "cell_type": "code",
   "execution_count": 1,
   "metadata": {
    "collapsed": true
   },
   "outputs": [],
   "source": [
    "import pandas as pd\n",
    "import numpy as np\n",
    "import random\n",
    "import matplotlib.pyplot as plt"
   ]
  },
  {
   "cell_type": "code",
   "execution_count": 2,
   "metadata": {
    "collapsed": false
   },
   "outputs": [
    {
     "data": {
      "text/plain": [
       "(5656458, 6)"
      ]
     },
     "execution_count": 2,
     "metadata": {},
     "output_type": "execute_result"
    }
   ],
   "source": [
    "data = pd.read_csv('./world-development-indicators/Indicators.csv')\n",
    "data.shape"
   ]
  },
  {
   "cell_type": "markdown",
   "metadata": {},
   "source": [
    "This is a really large dataset, at least in terms of the number of rows.  But with 6 columns, what does this hold?"
   ]
  },
  {
   "cell_type": "code",
   "execution_count": 4,
   "metadata": {
    "collapsed": false
   },
   "outputs": [
    {
     "data": {
      "text/html": [
       "<div>\n",
       "<table border=\"1\" class=\"dataframe\">\n",
       "  <thead>\n",
       "    <tr style=\"text-align: right;\">\n",
       "      <th></th>\n",
       "      <th>CountryName</th>\n",
       "      <th>CountryCode</th>\n",
       "      <th>IndicatorName</th>\n",
       "      <th>IndicatorCode</th>\n",
       "      <th>Year</th>\n",
       "      <th>Value</th>\n",
       "    </tr>\n",
       "  </thead>\n",
       "  <tbody>\n",
       "    <tr>\n",
       "      <th>0</th>\n",
       "      <td>Arab World</td>\n",
       "      <td>ARB</td>\n",
       "      <td>Adolescent fertility rate (births per 1,000 wo...</td>\n",
       "      <td>SP.ADO.TFRT</td>\n",
       "      <td>1960</td>\n",
       "      <td>1.335609e+02</td>\n",
       "    </tr>\n",
       "    <tr>\n",
       "      <th>1</th>\n",
       "      <td>Arab World</td>\n",
       "      <td>ARB</td>\n",
       "      <td>Age dependency ratio (% of working-age populat...</td>\n",
       "      <td>SP.POP.DPND</td>\n",
       "      <td>1960</td>\n",
       "      <td>8.779760e+01</td>\n",
       "    </tr>\n",
       "    <tr>\n",
       "      <th>2</th>\n",
       "      <td>Arab World</td>\n",
       "      <td>ARB</td>\n",
       "      <td>Age dependency ratio, old (% of working-age po...</td>\n",
       "      <td>SP.POP.DPND.OL</td>\n",
       "      <td>1960</td>\n",
       "      <td>6.634579e+00</td>\n",
       "    </tr>\n",
       "    <tr>\n",
       "      <th>3</th>\n",
       "      <td>Arab World</td>\n",
       "      <td>ARB</td>\n",
       "      <td>Age dependency ratio, young (% of working-age ...</td>\n",
       "      <td>SP.POP.DPND.YG</td>\n",
       "      <td>1960</td>\n",
       "      <td>8.102333e+01</td>\n",
       "    </tr>\n",
       "    <tr>\n",
       "      <th>4</th>\n",
       "      <td>Arab World</td>\n",
       "      <td>ARB</td>\n",
       "      <td>Arms exports (SIPRI trend indicator values)</td>\n",
       "      <td>MS.MIL.XPRT.KD</td>\n",
       "      <td>1960</td>\n",
       "      <td>3.000000e+06</td>\n",
       "    </tr>\n",
       "    <tr>\n",
       "      <th>5</th>\n",
       "      <td>Arab World</td>\n",
       "      <td>ARB</td>\n",
       "      <td>Arms imports (SIPRI trend indicator values)</td>\n",
       "      <td>MS.MIL.MPRT.KD</td>\n",
       "      <td>1960</td>\n",
       "      <td>5.380000e+08</td>\n",
       "    </tr>\n",
       "    <tr>\n",
       "      <th>6</th>\n",
       "      <td>Arab World</td>\n",
       "      <td>ARB</td>\n",
       "      <td>Birth rate, crude (per 1,000 people)</td>\n",
       "      <td>SP.DYN.CBRT.IN</td>\n",
       "      <td>1960</td>\n",
       "      <td>4.769789e+01</td>\n",
       "    </tr>\n",
       "    <tr>\n",
       "      <th>7</th>\n",
       "      <td>Arab World</td>\n",
       "      <td>ARB</td>\n",
       "      <td>CO2 emissions (kt)</td>\n",
       "      <td>EN.ATM.CO2E.KT</td>\n",
       "      <td>1960</td>\n",
       "      <td>5.956399e+04</td>\n",
       "    </tr>\n",
       "    <tr>\n",
       "      <th>8</th>\n",
       "      <td>Arab World</td>\n",
       "      <td>ARB</td>\n",
       "      <td>CO2 emissions (metric tons per capita)</td>\n",
       "      <td>EN.ATM.CO2E.PC</td>\n",
       "      <td>1960</td>\n",
       "      <td>6.439635e-01</td>\n",
       "    </tr>\n",
       "    <tr>\n",
       "      <th>9</th>\n",
       "      <td>Arab World</td>\n",
       "      <td>ARB</td>\n",
       "      <td>CO2 emissions from gaseous fuel consumption (%...</td>\n",
       "      <td>EN.ATM.CO2E.GF.ZS</td>\n",
       "      <td>1960</td>\n",
       "      <td>5.041292e+00</td>\n",
       "    </tr>\n",
       "  </tbody>\n",
       "</table>\n",
       "</div>"
      ],
      "text/plain": [
       "  CountryName CountryCode                                      IndicatorName  \\\n",
       "0  Arab World         ARB  Adolescent fertility rate (births per 1,000 wo...   \n",
       "1  Arab World         ARB  Age dependency ratio (% of working-age populat...   \n",
       "2  Arab World         ARB  Age dependency ratio, old (% of working-age po...   \n",
       "3  Arab World         ARB  Age dependency ratio, young (% of working-age ...   \n",
       "4  Arab World         ARB        Arms exports (SIPRI trend indicator values)   \n",
       "5  Arab World         ARB        Arms imports (SIPRI trend indicator values)   \n",
       "6  Arab World         ARB               Birth rate, crude (per 1,000 people)   \n",
       "7  Arab World         ARB                                 CO2 emissions (kt)   \n",
       "8  Arab World         ARB             CO2 emissions (metric tons per capita)   \n",
       "9  Arab World         ARB  CO2 emissions from gaseous fuel consumption (%...   \n",
       "\n",
       "       IndicatorCode  Year         Value  \n",
       "0        SP.ADO.TFRT  1960  1.335609e+02  \n",
       "1        SP.POP.DPND  1960  8.779760e+01  \n",
       "2     SP.POP.DPND.OL  1960  6.634579e+00  \n",
       "3     SP.POP.DPND.YG  1960  8.102333e+01  \n",
       "4     MS.MIL.XPRT.KD  1960  3.000000e+06  \n",
       "5     MS.MIL.MPRT.KD  1960  5.380000e+08  \n",
       "6     SP.DYN.CBRT.IN  1960  4.769789e+01  \n",
       "7     EN.ATM.CO2E.KT  1960  5.956399e+04  \n",
       "8     EN.ATM.CO2E.PC  1960  6.439635e-01  \n",
       "9  EN.ATM.CO2E.GF.ZS  1960  5.041292e+00  "
      ]
     },
     "execution_count": 4,
     "metadata": {},
     "output_type": "execute_result"
    }
   ],
   "source": [
    "data.head(10)"
   ]
  },
  {
   "cell_type": "markdown",
   "metadata": {},
   "source": [
    "Looks like it has different indicators for different countries with the year and value of the indicator. "
   ]
  },
  {
   "cell_type": "markdown",
   "metadata": {},
   "source": [
    "### How many UNIQUE country names are there ?"
   ]
  },
  {
   "cell_type": "code",
   "execution_count": 5,
   "metadata": {
    "collapsed": false
   },
   "outputs": [
    {
     "data": {
      "text/plain": [
       "247"
      ]
     },
     "execution_count": 5,
     "metadata": {},
     "output_type": "execute_result"
    }
   ],
   "source": [
    "countries = data['CountryName'].unique().tolist()\n",
    "len(countries)"
   ]
  },
  {
   "cell_type": "markdown",
   "metadata": {},
   "source": [
    "### Are there same number of country codes ?"
   ]
  },
  {
   "cell_type": "code",
   "execution_count": 6,
   "metadata": {
    "collapsed": false
   },
   "outputs": [
    {
     "data": {
      "text/plain": [
       "247"
      ]
     },
     "execution_count": 6,
     "metadata": {},
     "output_type": "execute_result"
    }
   ],
   "source": [
    "# How many unique country codes are there ? (should be the same #)\n",
    "countryCodes = data['CountryCode'].unique().tolist()\n",
    "len(countryCodes)"
   ]
  },
  {
   "cell_type": "markdown",
   "metadata": {},
   "source": [
    "### Are there many indicators or few ?"
   ]
  },
  {
   "cell_type": "code",
   "execution_count": 45,
   "metadata": {
    "collapsed": false
   },
   "outputs": [
    {
     "data": {
      "text/plain": [
       "1344"
      ]
     },
     "execution_count": 45,
     "metadata": {},
     "output_type": "execute_result"
    }
   ],
   "source": [
    "# How many unique indicators are there ? (should be the same #)\n",
    "indicators = data['IndicatorName'].unique().tolist()\n",
    "len(indicators)"
   ]
  },
  {
   "cell_type": "markdown",
   "metadata": {},
   "source": [
    "### How many years of data do we have ?"
   ]
  },
  {
   "cell_type": "code",
   "execution_count": 8,
   "metadata": {
    "collapsed": false
   },
   "outputs": [
    {
     "data": {
      "text/plain": [
       "56"
      ]
     },
     "execution_count": 8,
     "metadata": {},
     "output_type": "execute_result"
    }
   ],
   "source": [
    "# How many years of data do we have ?\n",
    "years = data['Year'].unique().tolist()\n",
    "len(years)"
   ]
  },
  {
   "cell_type": "markdown",
   "metadata": {},
   "source": [
    "<p style=\"font-family: Arial; font-size:2.75em;color:blue; font-style:bold\">\n",
    "Matplotlib Part 1: Basic Plotting</p>\n"
   ]
  },
  {
   "cell_type": "markdown",
   "metadata": {},
   "source": [
    "### Lets pick a country and an indicator to explore: CO2 Emissions and the USA"
   ]
  },
  {
   "cell_type": "code",
   "execution_count": 9,
   "metadata": {
    "collapsed": true
   },
   "outputs": [],
   "source": [
    "# select CO2 emissions for the United States\n",
    "hist_indicator = 'CO2 emissions \\(metric'\n",
    "hist_country = 'USA'\n",
    "\n",
    "mask1 = data['IndicatorName'].str.contains(hist_indicator) \n",
    "mask2 = data['CountryCode'].str.contains(hist_country)\n",
    "\n",
    "# stage is just those indicators matching the USA for country code and CO2 emissions over time.\n",
    "stage = data[mask1 & mask2]"
   ]
  },
  {
   "cell_type": "code",
   "execution_count": 10,
   "metadata": {
    "collapsed": false
   },
   "outputs": [
    {
     "data": {
      "text/html": [
       "<div>\n",
       "<table border=\"1\" class=\"dataframe\">\n",
       "  <thead>\n",
       "    <tr style=\"text-align: right;\">\n",
       "      <th></th>\n",
       "      <th>CountryName</th>\n",
       "      <th>CountryCode</th>\n",
       "      <th>IndicatorName</th>\n",
       "      <th>IndicatorCode</th>\n",
       "      <th>Year</th>\n",
       "      <th>Value</th>\n",
       "    </tr>\n",
       "  </thead>\n",
       "  <tbody>\n",
       "    <tr>\n",
       "      <th>22232</th>\n",
       "      <td>United States</td>\n",
       "      <td>USA</td>\n",
       "      <td>CO2 emissions (metric tons per capita)</td>\n",
       "      <td>EN.ATM.CO2E.PC</td>\n",
       "      <td>1960</td>\n",
       "      <td>15.999779</td>\n",
       "    </tr>\n",
       "    <tr>\n",
       "      <th>48708</th>\n",
       "      <td>United States</td>\n",
       "      <td>USA</td>\n",
       "      <td>CO2 emissions (metric tons per capita)</td>\n",
       "      <td>EN.ATM.CO2E.PC</td>\n",
       "      <td>1961</td>\n",
       "      <td>15.681256</td>\n",
       "    </tr>\n",
       "    <tr>\n",
       "      <th>77087</th>\n",
       "      <td>United States</td>\n",
       "      <td>USA</td>\n",
       "      <td>CO2 emissions (metric tons per capita)</td>\n",
       "      <td>EN.ATM.CO2E.PC</td>\n",
       "      <td>1962</td>\n",
       "      <td>16.013937</td>\n",
       "    </tr>\n",
       "    <tr>\n",
       "      <th>105704</th>\n",
       "      <td>United States</td>\n",
       "      <td>USA</td>\n",
       "      <td>CO2 emissions (metric tons per capita)</td>\n",
       "      <td>EN.ATM.CO2E.PC</td>\n",
       "      <td>1963</td>\n",
       "      <td>16.482762</td>\n",
       "    </tr>\n",
       "    <tr>\n",
       "      <th>134742</th>\n",
       "      <td>United States</td>\n",
       "      <td>USA</td>\n",
       "      <td>CO2 emissions (metric tons per capita)</td>\n",
       "      <td>EN.ATM.CO2E.PC</td>\n",
       "      <td>1964</td>\n",
       "      <td>16.968119</td>\n",
       "    </tr>\n",
       "  </tbody>\n",
       "</table>\n",
       "</div>"
      ],
      "text/plain": [
       "          CountryName CountryCode                           IndicatorName  \\\n",
       "22232   United States         USA  CO2 emissions (metric tons per capita)   \n",
       "48708   United States         USA  CO2 emissions (metric tons per capita)   \n",
       "77087   United States         USA  CO2 emissions (metric tons per capita)   \n",
       "105704  United States         USA  CO2 emissions (metric tons per capita)   \n",
       "134742  United States         USA  CO2 emissions (metric tons per capita)   \n",
       "\n",
       "         IndicatorCode  Year      Value  \n",
       "22232   EN.ATM.CO2E.PC  1960  15.999779  \n",
       "48708   EN.ATM.CO2E.PC  1961  15.681256  \n",
       "77087   EN.ATM.CO2E.PC  1962  16.013937  \n",
       "105704  EN.ATM.CO2E.PC  1963  16.482762  \n",
       "134742  EN.ATM.CO2E.PC  1964  16.968119  "
      ]
     },
     "execution_count": 10,
     "metadata": {},
     "output_type": "execute_result"
    }
   ],
   "source": [
    "stage.head()"
   ]
  },
  {
   "cell_type": "markdown",
   "metadata": {},
   "source": [
    "### Let's see how emissions have changed over time using MatplotLib"
   ]
  },
  {
   "cell_type": "code",
   "execution_count": 11,
   "metadata": {
    "collapsed": false
   },
   "outputs": [
    {
     "data": {
      "image/png": "[encoded data removed]",
      "text/plain": [
       "<matplotlib.figure.Figure at 0x7f5609d042b0>"
      ]
     },
     "metadata": {},
     "output_type": "display_data"
    }
   ],
   "source": [
    "# get the years\n",
    "years = stage['Year'].values\n",
    "# get the values \n",
    "co2 = stage['Value'].values\n",
    "\n",
    "# create\n",
    "plt.bar(years,co2)\n",
    "plt.show()"
   ]
  },
  {
   "cell_type": "markdown",
   "metadata": {},
   "source": [
    "Turns out emissions per capita have dropped a bit over time, but let's make this graphic a bit more appealing before we continue to explore it."
   ]
  },
  {
   "cell_type": "code",
   "execution_count": 12,
   "metadata": {
    "collapsed": false
   },
   "outputs": [
    {
     "data": {
      "image/png": "[encoded data removed]",
      "text/plain": [
       "<matplotlib.figure.Figure at 0x7f560c456860>"
      ]
     },
     "metadata": {},
     "output_type": "display_data"
    }
   ],
   "source": [
    "# switch to a line plot\n",
    "plt.plot(stage['Year'].values, stage['Value'].values)\n",
    "\n",
    "# Label the axes\n",
    "plt.xlabel('Year')\n",
    "plt.ylabel(stage['IndicatorName'].iloc[0])\n",
    "\n",
    "#label the figure\n",
    "plt.title('CO2 Emissions in USA')\n",
    "\n",
    "# to make more honest, start they y axis at 0\n",
    "plt.axis([1959, 2011,0,25])\n",
    "\n",
    "plt.show()"
   ]
  },
  {
   "cell_type": "markdown",
   "metadata": {},
   "source": [
    "### Using Histograms to explore the distribution of values\n",
    "We could also visualize this data as a histogram to better explore the ranges of values in CO2 production per year. "
   ]
  },
  {
   "cell_type": "code",
   "execution_count": 14,
   "metadata": {
    "collapsed": true
   },
   "outputs": [],
   "source": [
    "# If you want to just include those within one standard deviation fo the mean, you could do the following\n",
    "# lower = stage['Value'].mean() - stage['Value'].std()\n",
    "# upper = stage['Value'].mean() + stage['Value'].std()\n",
    "# hist_data = [x for x in stage[:10000]['Value'] if x>lower and x<upper ]\n",
    "\n",
    "# Otherwise, let's look at all the data\n",
    "hist_data = stage['Value'].values"
   ]
  },
  {
   "cell_type": "code",
   "execution_count": 15,
   "metadata": {
    "collapsed": false
   },
   "outputs": [
    {
     "name": "stdout",
     "output_type": "stream",
     "text": [
      "52\n"
     ]
    }
   ],
   "source": [
    "print(len(hist_data))"
   ]
  },
  {
   "cell_type": "code",
   "execution_count": 16,
   "metadata": {
    "collapsed": false,
    "scrolled": true
   },
   "outputs": [
    {
     "data": {
      "image/png": "[encoded data removed]",
      "text/plain": [
       "<matplotlib.figure.Figure at 0x7f560c3b09e8>"
      ]
     },
     "metadata": {},
     "output_type": "display_data"
    }
   ],
   "source": [
    "# the histogram of the data\n",
    "plt.hist(hist_data, 10, normed=False, facecolor='green')\n",
    "\n",
    "plt.xlabel(stage['IndicatorName'].iloc[0])\n",
    "plt.ylabel('# of Years')\n",
    "plt.title('Histogram Example')\n",
    "\n",
    "#plt.axis([10, 22, 0, 14])\n",
    "plt.grid(True)\n",
    "\n",
    "plt.show()"
   ]
  },
  {
   "cell_type": "markdown",
   "metadata": {},
   "source": [
    "So the USA has many years where it produced between 19-20 metric tons per capita with outliers on either side."
   ]
  },
  {
   "cell_type": "markdown",
   "metadata": {},
   "source": [
    "### But how do the USA's numbers relate to those of other countries?\n",
    "@Alok Can you show this as a histogram by country and then as a bar? chart with x-axis being country labels? (You could maybe show it for just 2011 or for two time points 1970 and 2011?)\n",
    "\n",
    "@Alok Actually, if you could also do a scatterplot between CO2 emissions and something else, like GDP per capita, we might be able to jump directly to your toy data examples and leave the remainder as additional reference.  That might flow better for the videos.\n",
    "\n",
    "@Alok - I gave this a shot myself.  Please see comments for \"@Alok\" below.  Do you think we could stop right before Step 2 with the video walkthrough and leave step 2 for them to review on their own?"
   ]
  },
  {
   "cell_type": "code",
   "execution_count": 93,
   "metadata": {
    "collapsed": false
   },
   "outputs": [
    {
     "data": {
      "text/html": [
       "<div>\n",
       "<table border=\"1\" class=\"dataframe\">\n",
       "  <thead>\n",
       "    <tr style=\"text-align: right;\">\n",
       "      <th></th>\n",
       "      <th>CountryName</th>\n",
       "      <th>CountryCode</th>\n",
       "      <th>IndicatorName</th>\n",
       "      <th>IndicatorCode</th>\n",
       "      <th>Year</th>\n",
       "      <th>Value</th>\n",
       "    </tr>\n",
       "  </thead>\n",
       "  <tbody>\n",
       "    <tr>\n",
       "      <th>5026275</th>\n",
       "      <td>Arab World</td>\n",
       "      <td>ARB</td>\n",
       "      <td>CO2 emissions (metric tons per capita)</td>\n",
       "      <td>EN.ATM.CO2E.PC</td>\n",
       "      <td>2011</td>\n",
       "      <td>4.724500</td>\n",
       "    </tr>\n",
       "    <tr>\n",
       "      <th>5026788</th>\n",
       "      <td>Caribbean small states</td>\n",
       "      <td>CSS</td>\n",
       "      <td>CO2 emissions (metric tons per capita)</td>\n",
       "      <td>EN.ATM.CO2E.PC</td>\n",
       "      <td>2011</td>\n",
       "      <td>9.692960</td>\n",
       "    </tr>\n",
       "    <tr>\n",
       "      <th>5027295</th>\n",
       "      <td>Central Europe and the Baltics</td>\n",
       "      <td>CEB</td>\n",
       "      <td>CO2 emissions (metric tons per capita)</td>\n",
       "      <td>EN.ATM.CO2E.PC</td>\n",
       "      <td>2011</td>\n",
       "      <td>6.911131</td>\n",
       "    </tr>\n",
       "    <tr>\n",
       "      <th>5027870</th>\n",
       "      <td>East Asia &amp; Pacific (all income levels)</td>\n",
       "      <td>EAS</td>\n",
       "      <td>CO2 emissions (metric tons per capita)</td>\n",
       "      <td>EN.ATM.CO2E.PC</td>\n",
       "      <td>2011</td>\n",
       "      <td>5.859548</td>\n",
       "    </tr>\n",
       "    <tr>\n",
       "      <th>5028456</th>\n",
       "      <td>East Asia &amp; Pacific (developing only)</td>\n",
       "      <td>EAP</td>\n",
       "      <td>CO2 emissions (metric tons per capita)</td>\n",
       "      <td>EN.ATM.CO2E.PC</td>\n",
       "      <td>2011</td>\n",
       "      <td>5.302499</td>\n",
       "    </tr>\n",
       "  </tbody>\n",
       "</table>\n",
       "</div>"
      ],
      "text/plain": [
       "                                     CountryName CountryCode  \\\n",
       "5026275                               Arab World         ARB   \n",
       "5026788                   Caribbean small states         CSS   \n",
       "5027295           Central Europe and the Baltics         CEB   \n",
       "5027870  East Asia & Pacific (all income levels)         EAS   \n",
       "5028456    East Asia & Pacific (developing only)         EAP   \n",
       "\n",
       "                                  IndicatorName   IndicatorCode  Year  \\\n",
       "5026275  CO2 emissions (metric tons per capita)  EN.ATM.CO2E.PC  2011   \n",
       "5026788  CO2 emissions (metric tons per capita)  EN.ATM.CO2E.PC  2011   \n",
       "5027295  CO2 emissions (metric tons per capita)  EN.ATM.CO2E.PC  2011   \n",
       "5027870  CO2 emissions (metric tons per capita)  EN.ATM.CO2E.PC  2011   \n",
       "5028456  CO2 emissions (metric tons per capita)  EN.ATM.CO2E.PC  2011   \n",
       "\n",
       "            Value  \n",
       "5026275  4.724500  \n",
       "5026788  9.692960  \n",
       "5027295  6.911131  \n",
       "5027870  5.859548  \n",
       "5028456  5.302499  "
      ]
     },
     "execution_count": 93,
     "metadata": {},
     "output_type": "execute_result"
    }
   ],
   "source": [
    "# select CO2 emissions for all countries in 2011\n",
    "hist_indicator = 'CO2 emissions \\(metric'\n",
    "hist_year = 2011\n",
    "\n",
    "mask1 = data['IndicatorName'].str.contains(hist_indicator) \n",
    "mask2 = data['Year'].isin([hist_year])\n",
    "\n",
    "# apply our mask\n",
    "co2_2011 = data[mask1 & mask2]\n",
    "co2_2011.head()"
   ]
  },
  {
   "cell_type": "markdown",
   "metadata": {},
   "source": [
    "For how many countries do we have CO2 per capita emissions data in 2011"
   ]
  },
  {
   "cell_type": "code",
   "execution_count": 41,
   "metadata": {
    "collapsed": false
   },
   "outputs": [
    {
     "name": "stdout",
     "output_type": "stream",
     "text": [
      "232\n"
     ]
    }
   ],
   "source": [
    "print(len(co2_2011))"
   ]
  },
  {
   "cell_type": "code",
   "execution_count": 43,
   "metadata": {
    "collapsed": false
   },
   "outputs": [
    {
     "data": {
      "image/png": "[encoded data removed]",
      "text/plain": [
       "<matplotlib.figure.Figure at 0x7f560b8686a0>"
      ]
     },
     "metadata": {},
     "output_type": "display_data"
    }
   ],
   "source": [
    "# let's plot a histogram of the emmissions per capita by country\n",
    "plt.hist(co2_2011['Value'], 10, normed=False, facecolor='green')\n",
    "\n",
    "plt.xlabel(stage['IndicatorName'].iloc[0])\n",
    "plt.ylabel('# of Countries')\n",
    "plt.title('Histogram of CO2 Emissions Per Capita')\n",
    "\n",
    "#plt.axis([10, 22, 0, 14])\n",
    "plt.grid(True)\n",
    "\n",
    "plt.show()"
   ]
  },
  {
   "cell_type": "markdown",
   "metadata": {},
   "source": [
    "So the USA, at ~18 CO2 emissios (metric tons per capital) is quite high among all countries.\n",
    "@Alok - is it easy to add a pointer annotation to ~18 to say the US is here?\n",
    "\n",
    "An interesting next step, which we'll save for you, would be to explore how this relates to other industrialized nations and to look at the outliers with those values in the 40s!"
   ]
  },
  {
   "cell_type": "markdown",
   "metadata": {},
   "source": [
    "## Relationship between GPD and CO2 Emissions in USA\n",
    "@Alok - scatterplot here?  Plot our CO2 emissions against GDP?"
   ]
  },
  {
   "cell_type": "code",
   "execution_count": 56,
   "metadata": {
    "collapsed": true
   },
   "outputs": [],
   "source": [
    "# select GDP Per capita emissions for the United States\n",
    "hist_indicator = 'GDP per capita \\(constant 2005'\n",
    "hist_country = 'USA'\n",
    "\n",
    "mask1 = data['IndicatorName'].str.contains(hist_indicator) \n",
    "mask2 = data['CountryCode'].str.contains(hist_country)\n",
    "\n",
    "# stage is just those indicators matching the USA for country code and CO2 emissions over time.\n",
    "gdp_stage = data[mask1 & mask2]\n"
   ]
  },
  {
   "cell_type": "code",
   "execution_count": 57,
   "metadata": {
    "collapsed": false
   },
   "outputs": [
    {
     "data": {
      "image/png": "[encoded data removed]",
      "text/plain": [
       "<matplotlib.figure.Figure at 0x7f560b719b00>"
      ]
     },
     "metadata": {},
     "output_type": "display_data"
    }
   ],
   "source": [
    "# switch to a line plot\n",
    "plt.plot(gdp_stage['Year'].values, gdp_stage['Value'].values)\n",
    "\n",
    "# Label the axes\n",
    "plt.xlabel('Year')\n",
    "plt.ylabel(gdp_stage['IndicatorName'].iloc[0])\n",
    "\n",
    "#label the figure\n",
    "plt.title('GDP Per Capita USA')\n",
    "\n",
    "# to make more honest, start they y axis at 0\n",
    "#plt.axis([1959, 2011,0,25])\n",
    "\n",
    "plt.show()"
   ]
  },
  {
   "cell_type": "markdown",
   "metadata": {},
   "source": [
    "So although we've seen a decline in the CO2 emissions per capita, it does not seem to translate to a decline in GDP per capita"
   ]
  },
  {
   "cell_type": "markdown",
   "metadata": {},
   "source": [
    "### ScatterPlot for comparing GDP against CO2 emissions (per capita)\n",
    "\n",
    "First, we'll need to make sure we're looking at the same time frames"
   ]
  },
  {
   "cell_type": "code",
   "execution_count": 72,
   "metadata": {
    "collapsed": false
   },
   "outputs": [
    {
     "name": "stdout",
     "output_type": "stream",
     "text": [
      "GDP Min Year =  1960 max:  2014\n",
      "CO2 Min Year =  1960 max:  2011\n"
     ]
    }
   ],
   "source": [
    "print(\"GDP Min Year = \", gdp_stage['Year'].min(), \"max: \", gdp_stage['Year'].max())\n",
    "print(\"CO2 Min Year = \", stage['Year'].min(), \"max: \", stage['Year'].max())"
   ]
  },
  {
   "cell_type": "markdown",
   "metadata": {},
   "source": [
    "We have 3 extra years of GDP data, so let's trim those off so the scatterplot has equal length arrays to compare (this is actually required by scatterplot)"
   ]
  },
  {
   "cell_type": "code",
   "execution_count": 73,
   "metadata": {
    "collapsed": false
   },
   "outputs": [
    {
     "data": {
      "text/plain": [
       "52"
      ]
     },
     "execution_count": 73,
     "metadata": {},
     "output_type": "execute_result"
    }
   ],
   "source": [
    "gdp_stage_trunc = gdp_stage[gdp_stage['Year'] < 2012]\n",
    "len(gdp_stage_trunc)"
   ]
  },
  {
   "cell_type": "code",
   "execution_count": 92,
   "metadata": {
    "collapsed": false
   },
   "outputs": [
    {
     "data": {
      "image/png": "[encoded data removed]",
      "text/plain": [
       "<matplotlib.figure.Figure at 0x7f560b71d1d0>"
      ]
     },
     "metadata": {},
     "output_type": "display_data"
    }
   ],
   "source": [
    "%matplotlib inline\n",
    "import matplotlib.pyplot as plt\n",
    "\n",
    "fig, axis = plt.subplots()\n",
    "# Grid lines, Xticks, Xlabel, Ylabel\n",
    "\n",
    "axis.yaxis.grid(True)\n",
    "axis.set_title('CO2 Emissions vs. GDP \\(per capita\\)',fontsize=10)\n",
    "axis.set_xlabel(gdp_stage_trunc['IndicatorName'].iloc[0],fontsize=10)\n",
    "axis.set_ylabel(stage['IndicatorName'].iloc[0],fontsize=10)\n",
    "\n",
    "X = gdp_stage_trunc['Value']\n",
    "Y = stage['Value']\n",
    "\n",
    "axis.scatter(X, Y)\n",
    "plt.show()"
   ]
  },
  {
   "cell_type": "markdown",
   "metadata": {},
   "source": [
    "This doesn't look like a strong relationship.  We can test this by looking at correlation."
   ]
  },
  {
   "cell_type": "code",
   "execution_count": 91,
   "metadata": {
    "collapsed": false
   },
   "outputs": [
    {
     "data": {
      "text/plain": [
       "array([[ 1.        ,  0.07676005],\n",
       "       [ 0.07676005,  1.        ]])"
      ]
     },
     "execution_count": 91,
     "metadata": {},
     "output_type": "execute_result"
    }
   ],
   "source": [
    "np.corrcoef(gdp_stage_trunc['Value'],stage['Value'])"
   ]
  },
  {
   "cell_type": "markdown",
   "metadata": {},
   "source": [
    "A correlation of 0.07 is pretty weak, but you'll learn more about correlation in the next course.\n",
    "\n",
    "You could continue to explore this to see if other countries have a closer relationship between CO2 emissions and GDP.  Perhaps it is stronger for developing countries?"
   ]
  },
  {
   "cell_type": "markdown",
   "metadata": {
    "collapsed": true
   },
   "source": [
    "## Want more ? \n",
    "\n",
    "### Matplotlib Examples Library"
   ]
  },
  {
   "cell_type": "markdown",
   "metadata": {},
   "source": [
    "http://matplotlib.org/examples/index.html"
   ]
  },
  {
   "cell_type": "code",
   "execution_count": null,
   "metadata": {
    "collapsed": true
   },
   "outputs": [],
   "source": []
  }
 ],
 "metadata": {
  "kernelspec": {
   "display_name": "Python 3",
   "language": "python",
   "name": "python3"
  },
  "language_info": {
   "codemirror_mode": {
    "name": "ipython",
    "version": 3
   },
   "file_extension": ".py",
   "mimetype": "text/x-python",
   "name": "python",
   "nbconvert_exporter": "python",
   "pygments_lexer": "ipython3",
   "version": "3.4.3"
  }
 },
 "nbformat": 4,
 "nbformat_minor": 2
}
