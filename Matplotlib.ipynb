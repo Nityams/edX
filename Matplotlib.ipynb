{
 "cells": [
  {
   "cell_type": "code",
   "execution_count": 1,
   "metadata": {
    "collapsed": true
   },
   "outputs": [],
   "source": [
    "# Data Source: https://www.kaggle.com/worldbank/world-development-indicators\n",
    "# Folder: 'world-development-indicators'"
   ]
  },
  {
   "cell_type": "markdown",
   "metadata": {},
   "source": [
    "<br><br><br><br><br><h1 style=\"font-size:4em;color:#2467C0\">World Development Indicators</h1><br><br><br><br><br>"
   ]
  },
  {
   "cell_type": "code",
   "execution_count": 13,
   "metadata": {
    "collapsed": false
   },
   "outputs": [],
   "source": [
    "import pandas as pd\n",
    "import numpy as np\n",
    "import random"
   ]
  },
  {
   "cell_type": "code",
   "execution_count": 14,
   "metadata": {
    "collapsed": false
   },
   "outputs": [
    {
     "data": {
      "text/plain": [
       "(5656458, 6)"
      ]
     },
     "execution_count": 14,
     "metadata": {},
     "output_type": "execute_result"
    }
   ],
   "source": [
    "data = pd.read_csv('./world-development-indicators/Indicators.csv')\n",
    "data.shape"
   ]
  },
  {
   "cell_type": "code",
   "execution_count": 15,
   "metadata": {
    "collapsed": false
   },
   "outputs": [
    {
     "data": {
      "text/html": [
       "<div>\n",
       "<table border=\"1\" class=\"dataframe\">\n",
       "  <thead>\n",
       "    <tr style=\"text-align: right;\">\n",
       "      <th></th>\n",
       "      <th>CountryName</th>\n",
       "      <th>CountryCode</th>\n",
       "      <th>IndicatorName</th>\n",
       "      <th>IndicatorCode</th>\n",
       "      <th>Year</th>\n",
       "      <th>Value</th>\n",
       "    </tr>\n",
       "  </thead>\n",
       "  <tbody>\n",
       "    <tr>\n",
       "      <th>0</th>\n",
       "      <td>Arab World</td>\n",
       "      <td>ARB</td>\n",
       "      <td>Adolescent fertility rate (births per 1,000 wo...</td>\n",
       "      <td>SP.ADO.TFRT</td>\n",
       "      <td>1960</td>\n",
       "      <td>133.560907</td>\n",
       "    </tr>\n",
       "  </tbody>\n",
       "</table>\n",
       "</div>"
      ],
      "text/plain": [
       "  CountryName CountryCode                                      IndicatorName  \\\n",
       "0  Arab World         ARB  Adolescent fertility rate (births per 1,000 wo...   \n",
       "\n",
       "  IndicatorCode  Year       Value  \n",
       "0   SP.ADO.TFRT  1960  133.560907  "
      ]
     },
     "execution_count": 15,
     "metadata": {},
     "output_type": "execute_result"
    }
   ],
   "source": [
    "data.head(1)"
   ]
  },
  {
   "cell_type": "markdown",
   "metadata": {},
   "source": [
    "### How many UNIQUE country names are there ?"
   ]
  },
  {
   "cell_type": "code",
   "execution_count": 16,
   "metadata": {
    "collapsed": false
   },
   "outputs": [
    {
     "data": {
      "text/plain": [
       "247"
      ]
     },
     "execution_count": 16,
     "metadata": {},
     "output_type": "execute_result"
    }
   ],
   "source": [
    "countries = data['CountryName'].unique().tolist()\n",
    "len(countries)"
   ]
  },
  {
   "cell_type": "markdown",
   "metadata": {},
   "source": [
    "### Are there same number of country codes ?"
   ]
  },
  {
   "cell_type": "code",
   "execution_count": 17,
   "metadata": {
    "collapsed": false
   },
   "outputs": [
    {
     "data": {
      "text/plain": [
       "247"
      ]
     },
     "execution_count": 17,
     "metadata": {},
     "output_type": "execute_result"
    }
   ],
   "source": [
    "# How many unique country codes are there ? (should be the same #)\n",
    "countryCodes = data['CountryCode'].unique().tolist()\n",
    "len(countryCodes)"
   ]
  },
  {
   "cell_type": "markdown",
   "metadata": {},
   "source": [
    "### Are there many indicators or few ?"
   ]
  },
  {
   "cell_type": "code",
   "execution_count": 18,
   "metadata": {
    "collapsed": false
   },
   "outputs": [
    {
     "data": {
      "text/plain": [
       "1344"
      ]
     },
     "execution_count": 18,
     "metadata": {},
     "output_type": "execute_result"
    }
   ],
   "source": [
    "# How many unique indicators are there ? (should be the same #)\n",
    "indicators = data['IndicatorName'].unique().tolist()\n",
    "len(indicators)"
   ]
  },
  {
   "cell_type": "markdown",
   "metadata": {},
   "source": [
    "### How many years of data do we have ?"
   ]
  },
  {
   "cell_type": "code",
   "execution_count": 19,
   "metadata": {
    "collapsed": false
   },
   "outputs": [
    {
     "data": {
      "text/plain": [
       "56"
      ]
     },
     "execution_count": 19,
     "metadata": {},
     "output_type": "execute_result"
    }
   ],
   "source": [
    "# How many years of data do we have ?\n",
    "years = data['Year'].unique().tolist()\n",
    "len(years)"
   ]
  },
  {
   "cell_type": "markdown",
   "metadata": {},
   "source": [
    "# Let us plot some parameters"
   ]
  },
  {
   "cell_type": "code",
   "execution_count": 20,
   "metadata": {
    "collapsed": false
   },
   "outputs": [],
   "source": [
    "# Filter 1\n",
    "\n",
    "# Picks years of choice\n",
    "yearsFilter = [2010, 2011, 2012, 2013, 2014]"
   ]
  },
  {
   "cell_type": "code",
   "execution_count": 21,
   "metadata": {
    "collapsed": false,
    "scrolled": false
   },
   "outputs": [],
   "source": [
    "# Filter 2 \n",
    "\n",
    "# Pick 2 countries randomly\n",
    "countryFilter = random.sample(countries, 2)"
   ]
  },
  {
   "cell_type": "code",
   "execution_count": 22,
   "metadata": {
    "collapsed": false
   },
   "outputs": [
    {
     "data": {
      "text/plain": [
       "['Bermuda', 'Brunei Darussalam']"
      ]
     },
     "execution_count": 22,
     "metadata": {},
     "output_type": "execute_result"
    }
   ],
   "source": [
    "countryFilter"
   ]
  },
  {
   "cell_type": "code",
   "execution_count": 23,
   "metadata": {
    "collapsed": false
   },
   "outputs": [
    {
     "data": {
      "text/plain": [
       "['GNI, Atlas method (current US$)']"
      ]
     },
     "execution_count": 23,
     "metadata": {},
     "output_type": "execute_result"
    }
   ],
   "source": [
    "# Filter 3\n",
    "\n",
    "# Pick 1 Indicator randomly\n",
    "indicatorsFilter = random.sample(indicators, 1)\n",
    "indicatorsFilter"
   ]
  },
  {
   "cell_type": "code",
   "execution_count": 24,
   "metadata": {
    "collapsed": true
   },
   "outputs": [],
   "source": [
    "filteredData1 = []\n",
    "filteredData2 = []"
   ]
  },
  {
   "cell_type": "code",
   "execution_count": 25,
   "metadata": {
    "collapsed": false
   },
   "outputs": [
    {
     "name": "stdout",
     "output_type": "stream",
     "text": [
      "Skipping ... ['Proportion of seats held by women in national parliaments (%)'] since very few rows (5) found\n"
     ]
    }
   ],
   "source": [
    "'''\n",
    "Plot: \n",
    "countryFilter:    pick two countries, \n",
    "indicatorsFilter: pick an indicator, \n",
    "yearsFilter: plot for years in yearsFilter\n",
    "'''\n",
    "\n",
    "while(len(filteredData1) < len(yearsFilter)-1):\n",
    "    #pick new indicator\n",
    "    indicatorsFilter = random.sample(indicators, 1)\n",
    "    countryFilter    = random.sample(countries, 2)\n",
    "    filterMesh = (data['CountryName'] == countryFilter[0]) & (data['IndicatorName'].isin(indicatorsFilter)) & (data['Year'].isin(yearsFilter))\n",
    "    filteredData1 = data.loc[filterMesh]\n",
    "    filteredData1 = filteredData1[['CountryName','IndicatorName','Year','Value']]\n",
    "\n",
    "    print('Skipping ... %s since very few rows (%d) found' % (indicatorsFilter, len(filteredData1)))\n"
   ]
  },
  {
   "cell_type": "code",
   "execution_count": 26,
   "metadata": {
    "collapsed": false
   },
   "outputs": [
    {
     "data": {
      "text/plain": [
       "['Proportion of seats held by women in national parliaments (%)']"
      ]
     },
     "execution_count": 26,
     "metadata": {},
     "output_type": "execute_result"
    }
   ],
   "source": [
    "# What did we pick eventually ?\n",
    "\n",
    "indicatorsFilter"
   ]
  },
  {
   "cell_type": "code",
   "execution_count": 27,
   "metadata": {
    "collapsed": false
   },
   "outputs": [
    {
     "data": {
      "text/plain": [
       "5"
      ]
     },
     "execution_count": 27,
     "metadata": {},
     "output_type": "execute_result"
    }
   ],
   "source": [
    "len(filteredData1)"
   ]
  },
  {
   "cell_type": "code",
   "execution_count": 28,
   "metadata": {
    "collapsed": false
   },
   "outputs": [
    {
     "name": "stdout",
     "output_type": "stream",
     "text": [
      "Skipping ... Bolivia, since very few rows (5) found\n"
     ]
    }
   ],
   "source": [
    "'''\n",
    "Country 2\n",
    "'''\n",
    "\n",
    "while(len(filteredData2) < len(filteredData1)-1):\n",
    "    filterMesh = (data['CountryName'] == countryFilter[1]) & (data['IndicatorName'].isin(indicatorsFilter)) & (data['Year'].isin(yearsFilter))\n",
    "    filteredData2 = data.loc[filterMesh]\n",
    "    filteredData2 = filteredData2[['CountryName','IndicatorName','Year','Value']]\n",
    "    #pick new indicator\n",
    "    old = countryFilter[1]\n",
    "    countryFilter[1]    = random.sample(countries, 1)[0]\n",
    "    print('Skipping ... %s, since very few rows (%d) found' % (old, len(filteredData2)))"
   ]
  },
  {
   "cell_type": "code",
   "execution_count": 29,
   "metadata": {
    "collapsed": false
   },
   "outputs": [],
   "source": [
    "if len(filteredData1) < len(filteredData2):\n",
    "    small = len(filteredData1)\n",
    "else:\n",
    "    small = len(filteredData2)"
   ]
  },
  {
   "cell_type": "code",
   "execution_count": 30,
   "metadata": {
    "collapsed": false
   },
   "outputs": [],
   "source": [
    "filteredData1=filteredData1[0:small]\n",
    "filteredData2=filteredData2[0:small]"
   ]
  },
  {
   "cell_type": "code",
   "execution_count": 31,
   "metadata": {
    "collapsed": false
   },
   "outputs": [
    {
     "data": {
      "text/html": [
       "<div>\n",
       "<table border=\"1\" class=\"dataframe\">\n",
       "  <thead>\n",
       "    <tr style=\"text-align: right;\">\n",
       "      <th></th>\n",
       "      <th>CountryName</th>\n",
       "      <th>IndicatorName</th>\n",
       "      <th>Year</th>\n",
       "      <th>Value</th>\n",
       "    </tr>\n",
       "  </thead>\n",
       "  <tbody>\n",
       "    <tr>\n",
       "      <th>5021075</th>\n",
       "      <td>Vanuatu</td>\n",
       "      <td>Proportion of seats held by women in national ...</td>\n",
       "      <td>2010</td>\n",
       "      <td>3.8</td>\n",
       "    </tr>\n",
       "    <tr>\n",
       "      <th>5197492</th>\n",
       "      <td>Vanuatu</td>\n",
       "      <td>Proportion of seats held by women in national ...</td>\n",
       "      <td>2011</td>\n",
       "      <td>1.9</td>\n",
       "    </tr>\n",
       "    <tr>\n",
       "      <th>5372571</th>\n",
       "      <td>Vanuatu</td>\n",
       "      <td>Proportion of seats held by women in national ...</td>\n",
       "      <td>2012</td>\n",
       "      <td>0.0</td>\n",
       "    </tr>\n",
       "    <tr>\n",
       "      <th>5529875</th>\n",
       "      <td>Vanuatu</td>\n",
       "      <td>Proportion of seats held by women in national ...</td>\n",
       "      <td>2013</td>\n",
       "      <td>0.0</td>\n",
       "    </tr>\n",
       "    <tr>\n",
       "      <th>5638975</th>\n",
       "      <td>Vanuatu</td>\n",
       "      <td>Proportion of seats held by women in national ...</td>\n",
       "      <td>2014</td>\n",
       "      <td>0.0</td>\n",
       "    </tr>\n",
       "  </tbody>\n",
       "</table>\n",
       "</div>"
      ],
      "text/plain": [
       "        CountryName                                      IndicatorName  Year  \\\n",
       "5021075     Vanuatu  Proportion of seats held by women in national ...  2010   \n",
       "5197492     Vanuatu  Proportion of seats held by women in national ...  2011   \n",
       "5372571     Vanuatu  Proportion of seats held by women in national ...  2012   \n",
       "5529875     Vanuatu  Proportion of seats held by women in national ...  2013   \n",
       "5638975     Vanuatu  Proportion of seats held by women in national ...  2014   \n",
       "\n",
       "         Value  \n",
       "5021075    3.8  \n",
       "5197492    1.9  \n",
       "5372571    0.0  \n",
       "5529875    0.0  \n",
       "5638975    0.0  "
      ]
     },
     "execution_count": 31,
     "metadata": {},
     "output_type": "execute_result"
    }
   ],
   "source": [
    "filteredData1"
   ]
  },
  {
   "cell_type": "code",
   "execution_count": 32,
   "metadata": {
    "collapsed": false
   },
   "outputs": [
    {
     "data": {
      "text/html": [
       "<div>\n",
       "<table border=\"1\" class=\"dataframe\">\n",
       "  <thead>\n",
       "    <tr style=\"text-align: right;\">\n",
       "      <th></th>\n",
       "      <th>CountryName</th>\n",
       "      <th>IndicatorName</th>\n",
       "      <th>Year</th>\n",
       "      <th>Value</th>\n",
       "    </tr>\n",
       "  </thead>\n",
       "  <tbody>\n",
       "    <tr>\n",
       "      <th>4880314</th>\n",
       "      <td>Bolivia</td>\n",
       "      <td>Proportion of seats held by women in national ...</td>\n",
       "      <td>2010</td>\n",
       "      <td>25.4</td>\n",
       "    </tr>\n",
       "    <tr>\n",
       "      <th>5064577</th>\n",
       "      <td>Bolivia</td>\n",
       "      <td>Proportion of seats held by women in national ...</td>\n",
       "      <td>2011</td>\n",
       "      <td>25.4</td>\n",
       "    </tr>\n",
       "    <tr>\n",
       "      <th>5240444</th>\n",
       "      <td>Bolivia</td>\n",
       "      <td>Proportion of seats held by women in national ...</td>\n",
       "      <td>2012</td>\n",
       "      <td>25.4</td>\n",
       "    </tr>\n",
       "    <tr>\n",
       "      <th>5411931</th>\n",
       "      <td>Bolivia</td>\n",
       "      <td>Proportion of seats held by women in national ...</td>\n",
       "      <td>2013</td>\n",
       "      <td>25.4</td>\n",
       "    </tr>\n",
       "    <tr>\n",
       "      <th>5556494</th>\n",
       "      <td>Bolivia</td>\n",
       "      <td>Proportion of seats held by women in national ...</td>\n",
       "      <td>2014</td>\n",
       "      <td>53.1</td>\n",
       "    </tr>\n",
       "  </tbody>\n",
       "</table>\n",
       "</div>"
      ],
      "text/plain": [
       "        CountryName                                      IndicatorName  Year  \\\n",
       "4880314     Bolivia  Proportion of seats held by women in national ...  2010   \n",
       "5064577     Bolivia  Proportion of seats held by women in national ...  2011   \n",
       "5240444     Bolivia  Proportion of seats held by women in national ...  2012   \n",
       "5411931     Bolivia  Proportion of seats held by women in national ...  2013   \n",
       "5556494     Bolivia  Proportion of seats held by women in national ...  2014   \n",
       "\n",
       "         Value  \n",
       "4880314   25.4  \n",
       "5064577   25.4  \n",
       "5240444   25.4  \n",
       "5411931   25.4  \n",
       "5556494   53.1  "
      ]
     },
     "execution_count": 32,
     "metadata": {},
     "output_type": "execute_result"
    }
   ],
   "source": [
    "filteredData2"
   ]
  },
  {
   "cell_type": "markdown",
   "metadata": {},
   "source": [
    "# Matplotlib"
   ]
  },
  {
   "cell_type": "code",
   "execution_count": 39,
   "metadata": {
    "collapsed": false
   },
   "outputs": [],
   "source": [
    "import matplotlib.pyplot as plt\n",
    "fig, ax = plt.subplots(figsize=(20, 10))\n",
    "\n",
    "ax.set_ylim(min(0,filteredData1['Value'].min()), filteredData1['Value'].max())\n",
    "ax.set_title('Indicator Name : ' + indicatorsFilter[0])\n",
    "ax.plot(filteredData1['Year'], filteredData1['Value'] , 'r--', label=filteredData1['CountryName'].unique()) \n",
    "\n",
    "# Add the legend:\n",
    "legend = plt.legend(loc = 'upper center', \n",
    "                    shadow=True,\n",
    "                    prop={'weight':'roman','size':'xx-large'})\n",
    "\n",
    "# Rectangle surrounding the legend\n",
    "frame = legend.get_frame()\n",
    "frame.set_facecolor('.90')"
   ]
  },
  {
   "cell_type": "code",
   "execution_count": 40,
   "metadata": {
    "collapsed": false
   },
   "outputs": [
    {
     "data": {
      "image/png": "[encoded data removed]",
      "text/plain": [
       "<matplotlib.figure.Figure at 0x7fee8f11a358>"
      ]
     },
     "metadata": {},
     "output_type": "display_data"
    }
   ],
   "source": [
    "plt.show()"
   ]
  },
  {
   "cell_type": "code",
   "execution_count": 41,
   "metadata": {
    "collapsed": false
   },
   "outputs": [],
   "source": [
    "import matplotlib.pyplot as plt\n",
    "fig, ax = plt.subplots(figsize=(20, 10))\n",
    "\n",
    "ax.set_ylim(min(0,filteredData2['Value'].min()), filteredData2['Value'].max())\n",
    "ax.set_title('Indicator Name : ' + indicatorsFilter[0])\n",
    "ax.plot(filteredData2['Year'], filteredData2['Value'] , 'b--', label=filteredData2['CountryName'].unique()) \n",
    "\n",
    "# Add the legend:\n",
    "legend = plt.legend(loc = 'upper left', \n",
    "                    shadow=True,\n",
    "                    prop={'weight':'roman','size':'xx-large'})\n",
    "\n",
    "# Rectangle surrounding the legengframe = legend.get_frame()\n",
    "frame.set_facecolor('.90')"
   ]
  },
  {
   "cell_type": "code",
   "execution_count": 42,
   "metadata": {
    "collapsed": false
   },
   "outputs": [
    {
     "data": {
      "image/png": "[encoded data removed]",
      "text/plain": [
       "<matplotlib.figure.Figure at 0x7fee894e92b0>"
      ]
     },
     "metadata": {},
     "output_type": "display_data"
    }
   ],
   "source": [
    "plt.show()"
   ]
  },
  {
   "cell_type": "code",
   "execution_count": null,
   "metadata": {
    "collapsed": true
   },
   "outputs": [],
   "source": []
  },
  {
   "cell_type": "code",
   "execution_count": null,
   "metadata": {
    "collapsed": true
   },
   "outputs": [],
   "source": []
  }
 ],
 "metadata": {
  "kernelspec": {
   "display_name": "Python 3",
   "language": "python",
   "name": "python3"
  },
  "language_info": {
   "codemirror_mode": {
    "name": "ipython",
    "version": 3
   },
   "file_extension": ".py",
   "mimetype": "text/x-python",
   "name": "python",
   "nbconvert_exporter": "python",
   "pygments_lexer": "ipython3",
   "version": "3.6.0"
  }
 },
 "nbformat": 4,
 "nbformat_minor": 2
}
